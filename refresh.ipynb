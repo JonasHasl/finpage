{
 "cells": [
  {
   "cell_type": "code",
   "execution_count": null,
   "metadata": {},
   "outputs": [
    {
     "name": "stdout",
     "output_type": "stream",
     "text": [
      "Please visit this URL to authorize this application: https://accounts.google.com/o/oauth2/auth?response_type=code&client_id=1021889873067-dcb8fo2n64a3i7d2p2kq37pml2qekb69.apps.googleusercontent.com&redirect_uri=http%3A%2F%2Flocalhost%3A56782%2F&scope=https%3A%2F%2Fwww.googleapis.com%2Fauth%2Fdrive.metadata.readonly&state=HvVtoQSkuqDHw9W71fZJ2OXwwFXF7J&access_type=offline\n"
     ]
    }
   ],
   "source": [
    "import os.path\n",
    "from google.auth.transport.requests import Request\n",
    "from google.oauth2.credentials import Credentials\n",
    "from google_auth_oauthlib.flow import InstalledAppFlow\n",
    "from googleapiclient.discovery import build\n",
    "\n",
    "SCOPES = ['https://www.googleapis.com/auth/drive.metadata.readonly']\n",
    "\n",
    "def get_drive_service():\n",
    "    creds = None\n",
    "    if os.path.exists('token.json'):\n",
    "        creds = Credentials.from_authorized_user_file('token.json', SCOPES)\n",
    "    if not creds or not creds.valid:\n",
    "        if creds and creds.expired and creds.refresh_token:\n",
    "            creds.refresh(Request())\n",
    "        else:\n",
    "            flow = InstalledAppFlow.from_client_secrets_file('credentials.json', SCOPES)\n",
    "            creds = flow.run_local_server(port=0)\n",
    "        with open('token.json', 'w') as token:\n",
    "            token.write(creds.to_json())\n",
    "    return build('drive', 'v3', credentials=creds)\n",
    "\n",
    "# Use the service\n",
    "drive_service = get_drive_service()\n"
   ]
  },
  {
   "cell_type": "code",
   "execution_count": null,
   "metadata": {},
   "outputs": [],
   "source": []
  },
  {
   "cell_type": "code",
   "execution_count": 1,
   "metadata": {},
   "outputs": [
    {
     "ename": "ValueError",
     "evalue": "Authorized user info was not in the expected format, missing fields client_secret, refresh_token, client_id.",
     "output_type": "error",
     "traceback": [
      "\u001b[1;31m---------------------------------------------------------------------------\u001b[0m",
      "\u001b[1;31mValueError\u001b[0m                                Traceback (most recent call last)",
      "Cell \u001b[1;32mIn[1], line 6\u001b[0m\n\u001b[0;32m      3\u001b[0m \u001b[38;5;28;01mfrom\u001b[39;00m \u001b[38;5;21;01mgoogleapiclient\u001b[39;00m\u001b[38;5;21;01m.\u001b[39;00m\u001b[38;5;21;01mhttp\u001b[39;00m \u001b[38;5;28;01mimport\u001b[39;00m MediaFileUpload\n\u001b[0;32m      5\u001b[0m \u001b[38;5;66;03m# Set up credentials (you'll need to handle this part)\u001b[39;00m\n\u001b[1;32m----> 6\u001b[0m creds \u001b[38;5;241m=\u001b[39m Credentials\u001b[38;5;241m.\u001b[39mfrom_authorized_user_file(\u001b[38;5;124mr\u001b[39m\u001b[38;5;124m'\u001b[39m\u001b[38;5;124mC:\u001b[39m\u001b[38;5;124m\\\u001b[39m\u001b[38;5;124mUsers\u001b[39m\u001b[38;5;124m\\\u001b[39m\u001b[38;5;124mjonas\u001b[39m\u001b[38;5;124m\\\u001b[39m\u001b[38;5;124mDownloads\u001b[39m\u001b[38;5;124m\\\u001b[39m\u001b[38;5;124mtoken.json\u001b[39m\u001b[38;5;124m'\u001b[39m, [\u001b[38;5;124m'\u001b[39m\u001b[38;5;124mhttps://www.googleapis.com/auth/drive.file\u001b[39m\u001b[38;5;124m'\u001b[39m])\n\u001b[0;32m      8\u001b[0m \u001b[38;5;66;03m# Create Drive API service\u001b[39;00m\n\u001b[0;32m      9\u001b[0m drive_service \u001b[38;5;241m=\u001b[39m build(\u001b[38;5;124m'\u001b[39m\u001b[38;5;124mdrive\u001b[39m\u001b[38;5;124m'\u001b[39m, \u001b[38;5;124m'\u001b[39m\u001b[38;5;124mv3\u001b[39m\u001b[38;5;124m'\u001b[39m, credentials\u001b[38;5;241m=\u001b[39mcreds)\n",
      "File \u001b[1;32mc:\\Users\\jonas\\anaconda3\\Lib\\site-packages\\google\\oauth2\\credentials.py:517\u001b[0m, in \u001b[0;36mCredentials.from_authorized_user_file\u001b[1;34m(cls, filename, scopes)\u001b[0m\n\u001b[0;32m    515\u001b[0m \u001b[38;5;28;01mwith\u001b[39;00m io\u001b[38;5;241m.\u001b[39mopen(filename, \u001b[38;5;124m\"\u001b[39m\u001b[38;5;124mr\u001b[39m\u001b[38;5;124m\"\u001b[39m, encoding\u001b[38;5;241m=\u001b[39m\u001b[38;5;124m\"\u001b[39m\u001b[38;5;124mutf-8\u001b[39m\u001b[38;5;124m\"\u001b[39m) \u001b[38;5;28;01mas\u001b[39;00m json_file:\n\u001b[0;32m    516\u001b[0m     data \u001b[38;5;241m=\u001b[39m json\u001b[38;5;241m.\u001b[39mload(json_file)\n\u001b[1;32m--> 517\u001b[0m     \u001b[38;5;28;01mreturn\u001b[39;00m \u001b[38;5;28mcls\u001b[39m\u001b[38;5;241m.\u001b[39mfrom_authorized_user_info(data, scopes)\n",
      "File \u001b[1;32mc:\\Users\\jonas\\anaconda3\\Lib\\site-packages\\google\\oauth2\\credentials.py:464\u001b[0m, in \u001b[0;36mCredentials.from_authorized_user_info\u001b[1;34m(cls, info, scopes)\u001b[0m\n\u001b[0;32m    461\u001b[0m missing \u001b[38;5;241m=\u001b[39m keys_needed\u001b[38;5;241m.\u001b[39mdifference(info\u001b[38;5;241m.\u001b[39mkeys())\n\u001b[0;32m    463\u001b[0m \u001b[38;5;28;01mif\u001b[39;00m missing:\n\u001b[1;32m--> 464\u001b[0m     \u001b[38;5;28;01mraise\u001b[39;00m \u001b[38;5;167;01mValueError\u001b[39;00m(\n\u001b[0;32m    465\u001b[0m         \u001b[38;5;124m\"\u001b[39m\u001b[38;5;124mAuthorized user info was not in the expected format, missing \u001b[39m\u001b[38;5;124m\"\u001b[39m\n\u001b[0;32m    466\u001b[0m         \u001b[38;5;124m\"\u001b[39m\u001b[38;5;124mfields \u001b[39m\u001b[38;5;132;01m{}\u001b[39;00m\u001b[38;5;124m.\u001b[39m\u001b[38;5;124m\"\u001b[39m\u001b[38;5;241m.\u001b[39mformat(\u001b[38;5;124m\"\u001b[39m\u001b[38;5;124m, \u001b[39m\u001b[38;5;124m\"\u001b[39m\u001b[38;5;241m.\u001b[39mjoin(missing))\n\u001b[0;32m    467\u001b[0m     )\n\u001b[0;32m    469\u001b[0m \u001b[38;5;66;03m# access token expiry (datetime obj); auto-expire if not saved\u001b[39;00m\n\u001b[0;32m    470\u001b[0m expiry \u001b[38;5;241m=\u001b[39m info\u001b[38;5;241m.\u001b[39mget(\u001b[38;5;124m\"\u001b[39m\u001b[38;5;124mexpiry\u001b[39m\u001b[38;5;124m\"\u001b[39m)\n",
      "\u001b[1;31mValueError\u001b[0m: Authorized user info was not in the expected format, missing fields client_secret, refresh_token, client_id."
     ]
    }
   ],
   "source": [
    "from google.oauth2.credentials import Credentials\n",
    "from googleapiclient.discovery import build\n",
    "from googleapiclient.http import MediaFileUpload\n",
    "\n",
    "# Set up credentials (you'll need to handle this part)\n",
    "creds = Credentials.from_authorized_user_file(r'C:\\Users\\jonas\\Downloads\\token.json', ['https://www.googleapis.com/auth/drive.file'])\n",
    "\n",
    "# Create Drive API service\n",
    "drive_service = build('drive', 'v3', credentials=creds)\n",
    "\n",
    "# File metadata\n",
    "file_metadata = {'name': 'example.txt'}\n",
    "\n",
    "# Create MediaFileUpload object\n",
    "media = MediaFileUpload('example.txt', resumable=True)\n",
    "\n",
    "# Upload file\n",
    "file = drive_service.files().create(body=file_metadata, media_body=media, fields='id').execute()\n",
    "\n",
    "print(f'File ID: {file.get(\"id\")}')\n"
   ]
  },
  {
   "cell_type": "code",
   "execution_count": 8,
   "metadata": {},
   "outputs": [
    {
     "name": "stdout",
     "output_type": "stream",
     "text": [
      "Please visit this URL to authorize this application: https://accounts.google.com/o/oauth2/auth?response_type=code&client_id=1021889873067-diiqn18g71qq6fk97ic4c988jfmeduc3.apps.googleusercontent.com&redirect_uri=http%3A%2F%2Flocalhost%3A65176%2F&scope=https%3A%2F%2Fwww.googleapis.com%2Fauth%2Fdrive.metadata.readonly&state=fnfdwsDbYliBKUlwcN1Wlsndyqai78&access_type=offline\n",
      "Files:\n",
      "prepRiskAnalyst (1KAmZQss2OA4rMwNKJUIjRiVBkBBBztnYfqDxFY0o5tc)\n",
      "Lebenslauf (1_NCLe8h9nQ1oE1BBgrYMegwQjww8yE5zG-Wf5Z1Xlnw)\n",
      "Bilkalkulator (1Zyf_bnwHrHvkHf-4jMpW7-kDN9b1myQAJ3IbyFMoEyE)\n",
      "Unbenanntes Dokument (1aKmeyDscCst8ns2lPUfWdmZJN0HtCaEiVM2PGNPul1M)\n",
      "Unbenannte Tabelle (1LG4t6W-eebHuJ_npF6SlkZpBTllstqyOjqZUqJRUfcs)\n",
      "Unbenannte Tabelle (1DmKyNYwIWvc91hvLnETmQgPijDEswfS_KkgYxewCDrM)\n",
      "Unbenanntes Dokument (1i1MepnbQctq3NveaoMlIcEsjzqtx4TIsAoGFk2d4NIA)\n",
      "Prosjekter JAG11 (1fEZsA2vC1npCD96IB-jUJpfiVLEGSuZHlN4QFBADxzc)\n",
      "Unbenanntes Dokument (1wkeb3TlTA64QR4jWU2_EKn8SgO1w8j-nLsnng-FKw3o)\n",
      "Unbenanntes Dokument (10E5zaDOy2h-j8VZ86g4BpwdPnRDIeuwkWN2w0154Wf4)\n"
     ]
    }
   ],
   "source": [
    "import os.path\n",
    "\n",
    "from google.auth.transport.requests import Request\n",
    "from google.oauth2.credentials import Credentials\n",
    "from google_auth_oauthlib.flow import InstalledAppFlow\n",
    "from googleapiclient.discovery import build\n",
    "from googleapiclient.errors import HttpError\n",
    "\n",
    "# If modifying these scopes, delete the file token.json.\n",
    "SCOPES = [\"https://www.googleapis.com/auth/drive.metadata.readonly\"]\n",
    "\n",
    "\n",
    "def main():\n",
    "  \"\"\"Shows basic usage of the Drive v3 API.\n",
    "  Prints the names and ids of the first 10 files the user has access to.\n",
    "  \"\"\"\n",
    "  creds = None\n",
    "  # The file token.json stores the user's access and refresh tokens, and is\n",
    "  # created automatically when the authorization flow completes for the first\n",
    "  # time.\n",
    "  if os.path.exists(\"token.json\"):\n",
    "    creds = Credentials.from_authorized_user_file(\"token.json\", SCOPES)\n",
    "  # If there are no (valid) credentials available, let the user log in.\n",
    "  if not creds or not creds.valid:\n",
    "    if creds and creds.expired and creds.refresh_token:\n",
    "      creds.refresh(Request())\n",
    "    else:\n",
    "      flow = InstalledAppFlow.from_client_secrets_file(\n",
    "          \"credentials.json\", SCOPES\n",
    "      )\n",
    "      creds = flow.run_local_server(port=0)\n",
    "    # Save the credentials for the next run\n",
    "    with open(\"token.json\", \"w\") as token:\n",
    "      token.write(creds.to_json())\n",
    "\n",
    "  try:\n",
    "    service = build(\"drive\", \"v3\", credentials=creds)\n",
    "\n",
    "    # Call the Drive v3 API\n",
    "    results = (\n",
    "        service.files()\n",
    "        .list(pageSize=10, fields=\"nextPageToken, files(id, name)\")\n",
    "        .execute()\n",
    "    )\n",
    "    items = results.get(\"files\", [])\n",
    "\n",
    "    if not items:\n",
    "      print(\"No files found.\")\n",
    "      return\n",
    "    print(\"Files:\")\n",
    "    for item in items:\n",
    "      print(f\"{item['name']} ({item['id']})\")\n",
    "  except HttpError as error:\n",
    "    # TODO(developer) - Handle errors from drive API.\n",
    "    print(f\"An error occurred: {error}\")\n",
    "\n",
    "\n",
    "if __name__ == \"__main__\":\n",
    "  main()"
   ]
  },
  {
   "cell_type": "code",
   "execution_count": 12,
   "metadata": {},
   "outputs": [
    {
     "name": "stdout",
     "output_type": "stream",
     "text": [
      "File ID: 10dvK00dyUAtBLD6sBiHsrRWIfUymKHC7\n"
     ]
    }
   ],
   "source": [
    "import os.path\n",
    "\n",
    "from google.auth.transport.requests import Request\n",
    "from google.oauth2.credentials import Credentials\n",
    "from google_auth_oauthlib.flow import InstalledAppFlow\n",
    "from googleapiclient.discovery import build\n",
    "from googleapiclient.errors import HttpError\n",
    "from googleapiclient.http import MediaFileUpload\n",
    "\n",
    "# If modifying these scopes, delete the file token.json.\n",
    "SCOPES = [\"https://www.googleapis.com/auth/drive.file\"]\n",
    "\n",
    "def main():\n",
    "    creds = None\n",
    "    if os.path.exists(\"token.json\"):\n",
    "        creds = Credentials.from_authorized_user_file(\"token.json\", SCOPES)\n",
    "    if not creds or not creds.valid:\n",
    "        if creds and creds.expired and creds.refresh_token:\n",
    "            creds.refresh(Request())\n",
    "        else:\n",
    "            flow = InstalledAppFlow.from_client_secrets_file(\n",
    "                \"credentials.json\", SCOPES\n",
    "            )\n",
    "            creds = flow.run_local_server(port=0)\n",
    "        with open(\"token.json\", \"w\") as token:\n",
    "            token.write(creds.to_json())\n",
    "\n",
    "    try:\n",
    "        service = build(\"drive\", \"v3\", credentials=creds)\n",
    "\n",
    "        # File metadata\n",
    "        file_metadata = {'name': 'econW.csv'}\n",
    "        \n",
    "        # Create MediaFileUpload object for the file\n",
    "        media = MediaFileUpload('econW.csv', mimetype='text/csv', resumable=True)\n",
    "        \n",
    "        # Upload the file\n",
    "        file = service.files().create(body=file_metadata, media_body=media, fields='id').execute()\n",
    "        \n",
    "        print(f'File ID: {file.get(\"id\")}')\n",
    "\n",
    "    except HttpError as error:\n",
    "        print(f\"An error occurred: {error}\")\n",
    "\n",
    "\n",
    "main()\n"
   ]
  },
  {
   "cell_type": "code",
   "execution_count": null,
   "metadata": {},
   "outputs": [],
   "source": []
  }
 ],
 "metadata": {
  "kernelspec": {
   "display_name": "base",
   "language": "python",
   "name": "python3"
  },
  "language_info": {
   "codemirror_mode": {
    "name": "ipython",
    "version": 3
   },
   "file_extension": ".py",
   "mimetype": "text/x-python",
   "name": "python",
   "nbconvert_exporter": "python",
   "pygments_lexer": "ipython3",
   "version": "3.12.4"
  }
 },
 "nbformat": 4,
 "nbformat_minor": 2
}
