{
 "cells": [
  {
   "cell_type": "code",
   "execution_count": 1,
   "id": "29b82784",
   "metadata": {},
   "outputs": [],
   "source": [
    "import pandas as pd\n",
    "import plotly.express as px\n",
    "from datetime import datetime, timedelta, date  # Import date\n",
    "import dash_bootstrap_components as dbc\n",
    "import dash\n",
    "from dash import html, dcc\n",
    "from dash import callback_context\n",
    "from dash import dcc, callback, html\n",
    "from dash.dependencies import Input, Output\n",
    "import dash_bootstrap_components as dbc\n",
    "import plotly.graph_objects as go\n",
    "from fredapi import Fred\n",
    "\n",
    "\n",
    "# Global variables to store the data\n",
    "economy = pd.DataFrame()\n",
    "df = pd.DataFrame()\n",
    "\n",
    "\n",
    "file_id = '1J47a0_lyfhRzcYlniXUKE-5yVKNbWX6j'\n",
    "download_url = f'https://drive.google.com/uc?export=download&id={file_id}'\n",
    "economy = pd.read_csv(download_url)"
   ]
  },
  {
   "cell_type": "code",
   "execution_count": 3,
   "id": "cd995c30",
   "metadata": {},
   "outputs": [
    {
     "data": {
      "text/plain": [
       "Index(['Unnamed: 0', 'Date', 'level_0', 'index', 'Close', 'SP Daily Return',\n",
       "       'SP Trailing 4 Weeks Return', 'SP Trailing 1 Week Return',\n",
       "       'Cumulative Returns', 'CPIUS', 'MoM', 'YoY', 'RollingMean12', 'm2',\n",
       "       'm2_growth', 'MoMGrowthChange', 'meanvalue_x', 'OneYearYield',\n",
       "       'TenYield', 'spread', 'unemp_rate', 'unemp_growth', 'meanvalue_y',\n",
       "       'T10Y2Y', 'Inverted12months', 'Shiller_P/E', 'ConsumerConfidence',\n",
       "       'MoMConsumerConf', 'RollingConsConf', 'InflationExp', 'MoMInflationExp',\n",
       "       'RollingExpInfl', 'adjusted_value', 'composite_confidence_growth_yoy',\n",
       "       'MoMConfidence', 'RollingComp', 'real_yield', 'detrendedm2', 'mom2diff',\n",
       "       'maxtight', 'TenYieldNorm', 'detrendedyield', 'detrendedshiller',\n",
       "       'ShillerOver', 'CPIDetrend', 'CPIDeviation', 'CPIGoalDev', 'CPIDev',\n",
       "       'CPIOver', 'Drawdown% 2', 'Drawdown% 7', 'Drawdown% 66',\n",
       "       'Drawdown% 132', 'Drawdown% 252', 'Forward Return', 'positive_ret',\n",
       "       'Forward lag_1', 'Forward lag_2', 'Forward lag_3', 'Forward lag_4',\n",
       "       'Forward lag_5', 'Forward lag_6', 'Forward lag_7', 'Forward lag_8',\n",
       "       'Forward lag_9', 'Forward lag_10', 'Combined Economy Score'],\n",
       "      dtype='object')"
      ]
     },
     "execution_count": 3,
     "metadata": {},
     "output_type": "execute_result"
    }
   ],
   "source": [
    "economy.columns"
   ]
  },
  {
   "cell_type": "code",
   "execution_count": 32,
   "id": "39243e09",
   "metadata": {},
   "outputs": [
    {
     "name": "stdout",
     "output_type": "stream",
     "text": [
      "['SMCI', 'KKR', 'NVDA', 'RCL', 'UBER', 'APO', 'LYV']\n",
      "{'start_date': '2025-01-01', 'end_date': '2025-04-01'}\n"
     ]
    },
    {
     "data": {
      "application/vnd.plotly.v1+json": {
       "config": {
        "plotlyServerURL": "https://plot.ly"
       },
       "data": [
        {
         "marker": {
          "color": "teal"
         },
         "text": [
          "-17.20%",
          "-22.41%",
          "1.04%",
          "-21.63%",
          "-9.98%",
          "13.94%",
          "15.34%"
         ],
         "textposition": "auto",
         "type": "bar",
         "x": [
          "APO",
          "KKR",
          "LYV",
          "NVDA",
          "RCL",
          "SMCI",
          "UBER"
         ],
         "y": [
          -0.1720092345257895,
          -0.2241073839689021,
          0.010446538328159498,
          -0.21632584722153264,
          -0.09982817882052406,
          0.13943436099122214,
          0.15339564227136393
         ]
        }
       ],
       "layout": {
        "annotations": [
         {
          "showarrow": false,
          "text": "Mean Return: -5.84%",
          "x": 1,
          "xanchor": "right",
          "xref": "x domain",
          "y": -0.05842772899228611,
          "yanchor": "bottom",
          "yref": "y"
         }
        ],
        "shapes": [
         {
          "line": {
           "color": "firebrick",
           "dash": "dash"
          },
          "type": "line",
          "x0": 0,
          "x1": 1,
          "xref": "x domain",
          "y0": -0.05842772899228611,
          "y1": -0.05842772899228611,
          "yref": "y"
         }
        ],
        "template": {
         "data": {
          "bar": [
           {
            "error_x": {
             "color": "#2a3f5f"
            },
            "error_y": {
             "color": "#2a3f5f"
            },
            "marker": {
             "line": {
              "color": "white",
              "width": 0.5
             },
             "pattern": {
              "fillmode": "overlay",
              "size": 10,
              "solidity": 0.2
             }
            },
            "type": "bar"
           }
          ],
          "barpolar": [
           {
            "marker": {
             "line": {
              "color": "white",
              "width": 0.5
             },
             "pattern": {
              "fillmode": "overlay",
              "size": 10,
              "solidity": 0.2
             }
            },
            "type": "barpolar"
           }
          ],
          "carpet": [
           {
            "aaxis": {
             "endlinecolor": "#2a3f5f",
             "gridcolor": "#C8D4E3",
             "linecolor": "#C8D4E3",
             "minorgridcolor": "#C8D4E3",
             "startlinecolor": "#2a3f5f"
            },
            "baxis": {
             "endlinecolor": "#2a3f5f",
             "gridcolor": "#C8D4E3",
             "linecolor": "#C8D4E3",
             "minorgridcolor": "#C8D4E3",
             "startlinecolor": "#2a3f5f"
            },
            "type": "carpet"
           }
          ],
          "choropleth": [
           {
            "colorbar": {
             "outlinewidth": 0,
             "ticks": ""
            },
            "type": "choropleth"
           }
          ],
          "contour": [
           {
            "colorbar": {
             "outlinewidth": 0,
             "ticks": ""
            },
            "colorscale": [
             [
              0,
              "#0d0887"
             ],
             [
              0.1111111111111111,
              "#46039f"
             ],
             [
              0.2222222222222222,
              "#7201a8"
             ],
             [
              0.3333333333333333,
              "#9c179e"
             ],
             [
              0.4444444444444444,
              "#bd3786"
             ],
             [
              0.5555555555555556,
              "#d8576b"
             ],
             [
              0.6666666666666666,
              "#ed7953"
             ],
             [
              0.7777777777777778,
              "#fb9f3a"
             ],
             [
              0.8888888888888888,
              "#fdca26"
             ],
             [
              1,
              "#f0f921"
             ]
            ],
            "type": "contour"
           }
          ],
          "contourcarpet": [
           {
            "colorbar": {
             "outlinewidth": 0,
             "ticks": ""
            },
            "type": "contourcarpet"
           }
          ],
          "heatmap": [
           {
            "colorbar": {
             "outlinewidth": 0,
             "ticks": ""
            },
            "colorscale": [
             [
              0,
              "#0d0887"
             ],
             [
              0.1111111111111111,
              "#46039f"
             ],
             [
              0.2222222222222222,
              "#7201a8"
             ],
             [
              0.3333333333333333,
              "#9c179e"
             ],
             [
              0.4444444444444444,
              "#bd3786"
             ],
             [
              0.5555555555555556,
              "#d8576b"
             ],
             [
              0.6666666666666666,
              "#ed7953"
             ],
             [
              0.7777777777777778,
              "#fb9f3a"
             ],
             [
              0.8888888888888888,
              "#fdca26"
             ],
             [
              1,
              "#f0f921"
             ]
            ],
            "type": "heatmap"
           }
          ],
          "heatmapgl": [
           {
            "colorbar": {
             "outlinewidth": 0,
             "ticks": ""
            },
            "colorscale": [
             [
              0,
              "#0d0887"
             ],
             [
              0.1111111111111111,
              "#46039f"
             ],
             [
              0.2222222222222222,
              "#7201a8"
             ],
             [
              0.3333333333333333,
              "#9c179e"
             ],
             [
              0.4444444444444444,
              "#bd3786"
             ],
             [
              0.5555555555555556,
              "#d8576b"
             ],
             [
              0.6666666666666666,
              "#ed7953"
             ],
             [
              0.7777777777777778,
              "#fb9f3a"
             ],
             [
              0.8888888888888888,
              "#fdca26"
             ],
             [
              1,
              "#f0f921"
             ]
            ],
            "type": "heatmapgl"
           }
          ],
          "histogram": [
           {
            "marker": {
             "pattern": {
              "fillmode": "overlay",
              "size": 10,
              "solidity": 0.2
             }
            },
            "type": "histogram"
           }
          ],
          "histogram2d": [
           {
            "colorbar": {
             "outlinewidth": 0,
             "ticks": ""
            },
            "colorscale": [
             [
              0,
              "#0d0887"
             ],
             [
              0.1111111111111111,
              "#46039f"
             ],
             [
              0.2222222222222222,
              "#7201a8"
             ],
             [
              0.3333333333333333,
              "#9c179e"
             ],
             [
              0.4444444444444444,
              "#bd3786"
             ],
             [
              0.5555555555555556,
              "#d8576b"
             ],
             [
              0.6666666666666666,
              "#ed7953"
             ],
             [
              0.7777777777777778,
              "#fb9f3a"
             ],
             [
              0.8888888888888888,
              "#fdca26"
             ],
             [
              1,
              "#f0f921"
             ]
            ],
            "type": "histogram2d"
           }
          ],
          "histogram2dcontour": [
           {
            "colorbar": {
             "outlinewidth": 0,
             "ticks": ""
            },
            "colorscale": [
             [
              0,
              "#0d0887"
             ],
             [
              0.1111111111111111,
              "#46039f"
             ],
             [
              0.2222222222222222,
              "#7201a8"
             ],
             [
              0.3333333333333333,
              "#9c179e"
             ],
             [
              0.4444444444444444,
              "#bd3786"
             ],
             [
              0.5555555555555556,
              "#d8576b"
             ],
             [
              0.6666666666666666,
              "#ed7953"
             ],
             [
              0.7777777777777778,
              "#fb9f3a"
             ],
             [
              0.8888888888888888,
              "#fdca26"
             ],
             [
              1,
              "#f0f921"
             ]
            ],
            "type": "histogram2dcontour"
           }
          ],
          "mesh3d": [
           {
            "colorbar": {
             "outlinewidth": 0,
             "ticks": ""
            },
            "type": "mesh3d"
           }
          ],
          "parcoords": [
           {
            "line": {
             "colorbar": {
              "outlinewidth": 0,
              "ticks": ""
             }
            },
            "type": "parcoords"
           }
          ],
          "pie": [
           {
            "automargin": true,
            "type": "pie"
           }
          ],
          "scatter": [
           {
            "fillpattern": {
             "fillmode": "overlay",
             "size": 10,
             "solidity": 0.2
            },
            "type": "scatter"
           }
          ],
          "scatter3d": [
           {
            "line": {
             "colorbar": {
              "outlinewidth": 0,
              "ticks": ""
             }
            },
            "marker": {
             "colorbar": {
              "outlinewidth": 0,
              "ticks": ""
             }
            },
            "type": "scatter3d"
           }
          ],
          "scattercarpet": [
           {
            "marker": {
             "colorbar": {
              "outlinewidth": 0,
              "ticks": ""
             }
            },
            "type": "scattercarpet"
           }
          ],
          "scattergeo": [
           {
            "marker": {
             "colorbar": {
              "outlinewidth": 0,
              "ticks": ""
             }
            },
            "type": "scattergeo"
           }
          ],
          "scattergl": [
           {
            "marker": {
             "colorbar": {
              "outlinewidth": 0,
              "ticks": ""
             }
            },
            "type": "scattergl"
           }
          ],
          "scattermapbox": [
           {
            "marker": {
             "colorbar": {
              "outlinewidth": 0,
              "ticks": ""
             }
            },
            "type": "scattermapbox"
           }
          ],
          "scatterpolar": [
           {
            "marker": {
             "colorbar": {
              "outlinewidth": 0,
              "ticks": ""
             }
            },
            "type": "scatterpolar"
           }
          ],
          "scatterpolargl": [
           {
            "marker": {
             "colorbar": {
              "outlinewidth": 0,
              "ticks": ""
             }
            },
            "type": "scatterpolargl"
           }
          ],
          "scatterternary": [
           {
            "marker": {
             "colorbar": {
              "outlinewidth": 0,
              "ticks": ""
             }
            },
            "type": "scatterternary"
           }
          ],
          "surface": [
           {
            "colorbar": {
             "outlinewidth": 0,
             "ticks": ""
            },
            "colorscale": [
             [
              0,
              "#0d0887"
             ],
             [
              0.1111111111111111,
              "#46039f"
             ],
             [
              0.2222222222222222,
              "#7201a8"
             ],
             [
              0.3333333333333333,
              "#9c179e"
             ],
             [
              0.4444444444444444,
              "#bd3786"
             ],
             [
              0.5555555555555556,
              "#d8576b"
             ],
             [
              0.6666666666666666,
              "#ed7953"
             ],
             [
              0.7777777777777778,
              "#fb9f3a"
             ],
             [
              0.8888888888888888,
              "#fdca26"
             ],
             [
              1,
              "#f0f921"
             ]
            ],
            "type": "surface"
           }
          ],
          "table": [
           {
            "cells": {
             "fill": {
              "color": "#EBF0F8"
             },
             "line": {
              "color": "white"
             }
            },
            "header": {
             "fill": {
              "color": "#C8D4E3"
             },
             "line": {
              "color": "white"
             }
            },
            "type": "table"
           }
          ]
         },
         "layout": {
          "annotationdefaults": {
           "arrowcolor": "#2a3f5f",
           "arrowhead": 0,
           "arrowwidth": 1
          },
          "autotypenumbers": "strict",
          "coloraxis": {
           "colorbar": {
            "outlinewidth": 0,
            "ticks": ""
           }
          },
          "colorscale": {
           "diverging": [
            [
             0,
             "#8e0152"
            ],
            [
             0.1,
             "#c51b7d"
            ],
            [
             0.2,
             "#de77ae"
            ],
            [
             0.3,
             "#f1b6da"
            ],
            [
             0.4,
             "#fde0ef"
            ],
            [
             0.5,
             "#f7f7f7"
            ],
            [
             0.6,
             "#e6f5d0"
            ],
            [
             0.7,
             "#b8e186"
            ],
            [
             0.8,
             "#7fbc41"
            ],
            [
             0.9,
             "#4d9221"
            ],
            [
             1,
             "#276419"
            ]
           ],
           "sequential": [
            [
             0,
             "#0d0887"
            ],
            [
             0.1111111111111111,
             "#46039f"
            ],
            [
             0.2222222222222222,
             "#7201a8"
            ],
            [
             0.3333333333333333,
             "#9c179e"
            ],
            [
             0.4444444444444444,
             "#bd3786"
            ],
            [
             0.5555555555555556,
             "#d8576b"
            ],
            [
             0.6666666666666666,
             "#ed7953"
            ],
            [
             0.7777777777777778,
             "#fb9f3a"
            ],
            [
             0.8888888888888888,
             "#fdca26"
            ],
            [
             1,
             "#f0f921"
            ]
           ],
           "sequentialminus": [
            [
             0,
             "#0d0887"
            ],
            [
             0.1111111111111111,
             "#46039f"
            ],
            [
             0.2222222222222222,
             "#7201a8"
            ],
            [
             0.3333333333333333,
             "#9c179e"
            ],
            [
             0.4444444444444444,
             "#bd3786"
            ],
            [
             0.5555555555555556,
             "#d8576b"
            ],
            [
             0.6666666666666666,
             "#ed7953"
            ],
            [
             0.7777777777777778,
             "#fb9f3a"
            ],
            [
             0.8888888888888888,
             "#fdca26"
            ],
            [
             1,
             "#f0f921"
            ]
           ]
          },
          "colorway": [
           "#636efa",
           "#EF553B",
           "#00cc96",
           "#ab63fa",
           "#FFA15A",
           "#19d3f3",
           "#FF6692",
           "#B6E880",
           "#FF97FF",
           "#FECB52"
          ],
          "font": {
           "color": "#2a3f5f"
          },
          "geo": {
           "bgcolor": "white",
           "lakecolor": "white",
           "landcolor": "white",
           "showlakes": true,
           "showland": true,
           "subunitcolor": "#C8D4E3"
          },
          "hoverlabel": {
           "align": "left"
          },
          "hovermode": "closest",
          "mapbox": {
           "style": "light"
          },
          "paper_bgcolor": "white",
          "plot_bgcolor": "white",
          "polar": {
           "angularaxis": {
            "gridcolor": "#EBF0F8",
            "linecolor": "#EBF0F8",
            "ticks": ""
           },
           "bgcolor": "white",
           "radialaxis": {
            "gridcolor": "#EBF0F8",
            "linecolor": "#EBF0F8",
            "ticks": ""
           }
          },
          "scene": {
           "xaxis": {
            "backgroundcolor": "white",
            "gridcolor": "#DFE8F3",
            "gridwidth": 2,
            "linecolor": "#EBF0F8",
            "showbackground": true,
            "ticks": "",
            "zerolinecolor": "#EBF0F8"
           },
           "yaxis": {
            "backgroundcolor": "white",
            "gridcolor": "#DFE8F3",
            "gridwidth": 2,
            "linecolor": "#EBF0F8",
            "showbackground": true,
            "ticks": "",
            "zerolinecolor": "#EBF0F8"
           },
           "zaxis": {
            "backgroundcolor": "white",
            "gridcolor": "#DFE8F3",
            "gridwidth": 2,
            "linecolor": "#EBF0F8",
            "showbackground": true,
            "ticks": "",
            "zerolinecolor": "#EBF0F8"
           }
          },
          "shapedefaults": {
           "line": {
            "color": "#2a3f5f"
           }
          },
          "ternary": {
           "aaxis": {
            "gridcolor": "#DFE8F3",
            "linecolor": "#A2B1C6",
            "ticks": ""
           },
           "baxis": {
            "gridcolor": "#DFE8F3",
            "linecolor": "#A2B1C6",
            "ticks": ""
           },
           "bgcolor": "white",
           "caxis": {
            "gridcolor": "#DFE8F3",
            "linecolor": "#A2B1C6",
            "ticks": ""
           }
          },
          "title": {
           "x": 0.05
          },
          "xaxis": {
           "automargin": true,
           "gridcolor": "#EBF0F8",
           "linecolor": "#EBF0F8",
           "ticks": "",
           "title": {
            "standoff": 15
           },
           "zerolinecolor": "#EBF0F8",
           "zerolinewidth": 2
          },
          "yaxis": {
           "automargin": true,
           "gridcolor": "#EBF0F8",
           "linecolor": "#EBF0F8",
           "ticks": "",
           "title": {
            "standoff": 15
           },
           "zerolinecolor": "#EBF0F8",
           "zerolinewidth": 2
          }
         }
        },
        "title": {
         "text": "Period Returns per Ticker"
        },
        "xaxis": {
         "title": {
          "text": "Ticker"
         }
        },
        "yaxis": {
         "tickformat": ".2%",
         "title": {
          "text": "YTD Return"
         }
        }
       }
      }
     },
     "metadata": {},
     "output_type": "display_data"
    },
    {
     "name": "stderr",
     "output_type": "stream",
     "text": [
      "\n",
      "7 Failed downloads:\n",
      "['LULU', 'PLTR', 'DECK', 'TEAM', 'NVDA', 'AMZN', 'FTNT']: YFRateLimitError('Too Many Requests. Rate limited. Try after a while.')\n"
     ]
    },
    {
     "ename": "IndexError",
     "evalue": "single positional indexer is out-of-bounds",
     "output_type": "error",
     "traceback": [
      "\u001b[1;31m---------------------------------------------------------------------------\u001b[0m",
      "\u001b[1;31mIndexError\u001b[0m                                Traceback (most recent call last)",
      "Cell \u001b[1;32mIn[32], line 85\u001b[0m\n\u001b[0;32m     82\u001b[0m \u001b[38;5;28;01mimport\u001b[39;00m \u001b[38;5;21;01mtime\u001b[39;00m\n\u001b[0;32m     83\u001b[0m time\u001b[38;5;241m.\u001b[39msleep(\u001b[38;5;241m5\u001b[39m)  \u001b[38;5;66;03m# Vent i 5 sekunder før å kjøre koden nedenfor\u001b[39;00m\n\u001b[1;32m---> 85\u001b[0m returns \u001b[38;5;241m=\u001b[39m ytd_returns(tickers,start_date\u001b[38;5;241m=\u001b[39m \u001b[38;5;124m'\u001b[39m\u001b[38;5;124m2025-04-01\u001b[39m\u001b[38;5;124m'\u001b[39m)\n\u001b[0;32m     87\u001b[0m \u001b[38;5;28mprint\u001b[39m(ytd_returns\u001b[38;5;241m.\u001b[39mlast_args[\u001b[38;5;241m0\u001b[39m])\n\u001b[0;32m     88\u001b[0m \u001b[38;5;28mprint\u001b[39m(ytd_returns\u001b[38;5;241m.\u001b[39mlast_kwargs)\n",
      "Cell \u001b[1;32mIn[32], line 10\u001b[0m, in \u001b[0;36mremember_args.<locals>.wrapper\u001b[1;34m(*args, **kwargs)\u001b[0m\n\u001b[0;32m      8\u001b[0m wrapper\u001b[38;5;241m.\u001b[39mlast_args \u001b[38;5;241m=\u001b[39m args\n\u001b[0;32m      9\u001b[0m wrapper\u001b[38;5;241m.\u001b[39mlast_kwargs \u001b[38;5;241m=\u001b[39m kwargs\n\u001b[1;32m---> 10\u001b[0m \u001b[38;5;28;01mreturn\u001b[39;00m func(\u001b[38;5;241m*\u001b[39margs, \u001b[38;5;241m*\u001b[39m\u001b[38;5;241m*\u001b[39mkwargs)\n",
      "Cell \u001b[1;32mIn[32], line 36\u001b[0m, in \u001b[0;36mytd_returns\u001b[1;34m(tickers, start_date, end_date)\u001b[0m\n\u001b[0;32m     34\u001b[0m ytd \u001b[38;5;241m=\u001b[39m {}\n\u001b[0;32m     35\u001b[0m \u001b[38;5;28;01mfor\u001b[39;00m ticker \u001b[38;5;129;01min\u001b[39;00m data\u001b[38;5;241m.\u001b[39mcolumns:\n\u001b[1;32m---> 36\u001b[0m     first \u001b[38;5;241m=\u001b[39m data[ticker]\u001b[38;5;241m.\u001b[39mdropna()\u001b[38;5;241m.\u001b[39miloc[\u001b[38;5;241m0\u001b[39m]\n\u001b[0;32m     37\u001b[0m     last \u001b[38;5;241m=\u001b[39m data[ticker]\u001b[38;5;241m.\u001b[39mdropna()\u001b[38;5;241m.\u001b[39miloc[\u001b[38;5;241m-\u001b[39m\u001b[38;5;241m1\u001b[39m]\n\u001b[0;32m     38\u001b[0m     ytd[ticker] \u001b[38;5;241m=\u001b[39m (last \u001b[38;5;241m-\u001b[39m first) \u001b[38;5;241m/\u001b[39m first\n",
      "File \u001b[1;32mc:\\Users\\jonas\\anaconda3\\Lib\\site-packages\\pandas\\core\\indexing.py:1191\u001b[0m, in \u001b[0;36m_LocationIndexer.__getitem__\u001b[1;34m(self, key)\u001b[0m\n\u001b[0;32m   1189\u001b[0m maybe_callable \u001b[38;5;241m=\u001b[39m com\u001b[38;5;241m.\u001b[39mapply_if_callable(key, \u001b[38;5;28mself\u001b[39m\u001b[38;5;241m.\u001b[39mobj)\n\u001b[0;32m   1190\u001b[0m maybe_callable \u001b[38;5;241m=\u001b[39m \u001b[38;5;28mself\u001b[39m\u001b[38;5;241m.\u001b[39m_check_deprecated_callable_usage(key, maybe_callable)\n\u001b[1;32m-> 1191\u001b[0m \u001b[38;5;28;01mreturn\u001b[39;00m \u001b[38;5;28mself\u001b[39m\u001b[38;5;241m.\u001b[39m_getitem_axis(maybe_callable, axis\u001b[38;5;241m=\u001b[39maxis)\n",
      "File \u001b[1;32mc:\\Users\\jonas\\anaconda3\\Lib\\site-packages\\pandas\\core\\indexing.py:1752\u001b[0m, in \u001b[0;36m_iLocIndexer._getitem_axis\u001b[1;34m(self, key, axis)\u001b[0m\n\u001b[0;32m   1749\u001b[0m     \u001b[38;5;28;01mraise\u001b[39;00m \u001b[38;5;167;01mTypeError\u001b[39;00m(\u001b[38;5;124m\"\u001b[39m\u001b[38;5;124mCannot index by location index with a non-integer key\u001b[39m\u001b[38;5;124m\"\u001b[39m)\n\u001b[0;32m   1751\u001b[0m \u001b[38;5;66;03m# validate the location\u001b[39;00m\n\u001b[1;32m-> 1752\u001b[0m \u001b[38;5;28mself\u001b[39m\u001b[38;5;241m.\u001b[39m_validate_integer(key, axis)\n\u001b[0;32m   1754\u001b[0m \u001b[38;5;28;01mreturn\u001b[39;00m \u001b[38;5;28mself\u001b[39m\u001b[38;5;241m.\u001b[39mobj\u001b[38;5;241m.\u001b[39m_ixs(key, axis\u001b[38;5;241m=\u001b[39maxis)\n",
      "File \u001b[1;32mc:\\Users\\jonas\\anaconda3\\Lib\\site-packages\\pandas\\core\\indexing.py:1685\u001b[0m, in \u001b[0;36m_iLocIndexer._validate_integer\u001b[1;34m(self, key, axis)\u001b[0m\n\u001b[0;32m   1683\u001b[0m len_axis \u001b[38;5;241m=\u001b[39m \u001b[38;5;28mlen\u001b[39m(\u001b[38;5;28mself\u001b[39m\u001b[38;5;241m.\u001b[39mobj\u001b[38;5;241m.\u001b[39m_get_axis(axis))\n\u001b[0;32m   1684\u001b[0m \u001b[38;5;28;01mif\u001b[39;00m key \u001b[38;5;241m>\u001b[39m\u001b[38;5;241m=\u001b[39m len_axis \u001b[38;5;129;01mor\u001b[39;00m key \u001b[38;5;241m<\u001b[39m \u001b[38;5;241m-\u001b[39mlen_axis:\n\u001b[1;32m-> 1685\u001b[0m     \u001b[38;5;28;01mraise\u001b[39;00m \u001b[38;5;167;01mIndexError\u001b[39;00m(\u001b[38;5;124m\"\u001b[39m\u001b[38;5;124msingle positional indexer is out-of-bounds\u001b[39m\u001b[38;5;124m\"\u001b[39m)\n",
      "\u001b[1;31mIndexError\u001b[0m: single positional indexer is out-of-bounds"
     ]
    }
   ],
   "source": [
    "import yfinance as yf\n",
    "import pandas as pd\n",
    "import plotly.graph_objects as go\n",
    "from datetime import datetime\n",
    "\n",
    "def remember_args(func):\n",
    "    def wrapper(*args, **kwargs):\n",
    "        wrapper.last_args = args\n",
    "        wrapper.last_kwargs = kwargs\n",
    "        return func(*args, **kwargs)\n",
    "    wrapper.last_args = None\n",
    "    wrapper.last_kwargs = None\n",
    "    return wrapper\n",
    "\n",
    "@remember_args\n",
    "\n",
    "def ytd_returns(tickers, start_date=datetime(datetime.now().year, 1, 1).strftime('%Y-%m-%d'), end_date=datetime.now().strftime('%Y-%m-%d')):\n",
    "    # Finn årets start og dagens dato\n",
    "    \n",
    "    start_of_year = datetime(datetime.now().year, 1, 1)\n",
    "    today = datetime.now()\n",
    "\n",
    "    # Last ned data\n",
    "    data = yf.download(\n",
    "        tickers,\n",
    "        start=start_date,\n",
    "        end=end_date,\n",
    "        progress=False\n",
    "    )['Close']\n",
    "\n",
    "    if isinstance(data, pd.Series):\n",
    "        data = data.to_frame()\n",
    "\n",
    "    ytd = {}\n",
    "    for ticker in data.columns:\n",
    "        first = data[ticker].dropna().iloc[0]\n",
    "        last = data[ticker].dropna().iloc[-1]\n",
    "        ytd[ticker] = (last - first) / first\n",
    "\n",
    "    return pd.Series(ytd)\n",
    "\n",
    "tickers = ['SMCI', 'KKR', 'NVDA', 'RCL', 'UBER', 'APO', 'LYV']\n",
    "returns = ytd_returns(tickers, start_date='2025-01-01', end_date='2025-04-01')\n",
    "\n",
    "print(ytd_returns.last_args[0])\n",
    "print(ytd_returns.last_kwargs)\n",
    "\n",
    "fig = go.Figure(\n",
    "    data=[go.Bar(\n",
    "        x=returns.index,\n",
    "        y=returns.values,\n",
    "        text=[f'{v:.2%}' for v in returns.values],\n",
    "        textposition='auto',\n",
    "        marker_color='teal'\n",
    "    )]\n",
    ")\n",
    "fig.update_layout(\n",
    "    title=f'Period Returns per Ticker',\n",
    "    yaxis_title='YTD Return',\n",
    "    xaxis_title='Ticker',\n",
    "    yaxis_tickformat='.2%',\n",
    "    template='plotly_white'\n",
    ")\n",
    "\n",
    "# Beregn gjennomsnittlig avkastning\n",
    "average_return = returns.mean()\n",
    "\n",
    "# Oppdater plottet med gjennomsnittslinje\n",
    "fig.add_hline(\n",
    "    y=average_return,\n",
    "    line_dash=\"dash\",\n",
    "    line_color=\"firebrick\",\n",
    "    annotation_text=f\"Mean Return: {average_return:.2%}\",\n",
    "    annotation_position=\"top right\"\n",
    ")\n",
    "\n",
    "\n",
    "fig.show()\n",
    "\n",
    "tickers = ['NVDA', 'PLTR', 'TEAM', 'FTNT', 'LULU', 'AMZN', 'DECK']\n",
    "# Beregn YTD-avkastning\n",
    "import time\n",
    "time.sleep(5)  # Vent i 5 sekunder før å kjøre koden nedenfor\n",
    "\n",
    "returns = ytd_returns(tickers,start_date= '2025-04-01')\n",
    "\n",
    "print(ytd_returns.last_args[0])\n",
    "print(ytd_returns.last_kwargs)\n",
    "# Plot med Plotly\n",
    "fig = go.Figure(\n",
    "    data=[go.Bar(\n",
    "        x=returns.index,\n",
    "        y=returns.values,\n",
    "        text=[f'{v:.2%}' for v in returns.values],\n",
    "        textposition='auto',\n",
    "        marker_color='teal'\n",
    "    )]\n",
    ")\n",
    "fig.update_layout(\n",
    "    title='Period Returns per Ticker',\n",
    "    yaxis_title='YTD Return',\n",
    "    xaxis_title='Ticker',\n",
    "    yaxis_tickformat='.2%',\n",
    "    template='plotly_white'\n",
    ")\n",
    "\n",
    "average_return = returns.mean()\n",
    "\n",
    "fig.add_hline(\n",
    "    y=average_return,\n",
    "    line_dash=\"dash\",\n",
    "    line_color=\"firebrick\",\n",
    "    annotation_text=f\"Mean Return: {average_return:.2%}\",\n",
    "    annotation_position=\"top right\"\n",
    ")\n",
    "\n",
    "fig.show()\n",
    "\n",
    "\n"
   ]
  },
  {
   "cell_type": "code",
   "execution_count": null,
   "id": "9c54b6c1",
   "metadata": {},
   "outputs": [
    {
     "data": {
      "text/plain": [
       "(['NVDA', 'PLTR', 'TEAM', 'FTNT', 'LULU', 'AMZN', 'DECK'],)"
      ]
     },
     "execution_count": 33,
     "metadata": {},
     "output_type": "execute_result"
    },
    {
     "ename": "",
     "evalue": "",
     "output_type": "error",
     "traceback": [
      "\u001b[1;31mThe Kernel crashed while executing code in the current cell or a previous cell. \n",
      "\u001b[1;31mPlease review the code in the cell(s) to identify a possible cause of the failure. \n",
      "\u001b[1;31mClick <a href='https://aka.ms/vscodeJupyterKernelCrash'>here</a> for more info. \n",
      "\u001b[1;31mView Jupyter <a href='command:jupyter.viewOutput'>log</a> for further details."
     ]
    }
   ],
   "source": [
    "ytd_returns.last_args\n",
    "#ytd_returns.last_kwargs"
   ]
  },
  {
   "cell_type": "code",
   "execution_count": null,
   "id": "40c9d56c",
   "metadata": {},
   "outputs": [
    {
     "name": "stderr",
     "output_type": "stream",
     "text": [
      "\n",
      "7 Failed downloads:\n",
      "['NVDA', 'RCL', 'ABNB', 'PLTR', 'CRWD', 'ANET', 'TEAM']: YFRateLimitError('Too Many Requests. Rate limited. Try after a while.')\n"
     ]
    },
    {
     "ename": "IndexError",
     "evalue": "single positional indexer is out-of-bounds",
     "output_type": "error",
     "traceback": [
      "\u001b[1;31m---------------------------------------------------------------------------\u001b[0m",
      "\u001b[1;31mIndexError\u001b[0m                                Traceback (most recent call last)",
      "Cell \u001b[1;32mIn[31], line 3\u001b[0m\n\u001b[0;32m      1\u001b[0m tickers \u001b[38;5;241m=\u001b[39m [\u001b[38;5;124m'\u001b[39m\u001b[38;5;124mABNB\u001b[39m\u001b[38;5;124m'\u001b[39m, \u001b[38;5;124m'\u001b[39m\u001b[38;5;124mPLTR\u001b[39m\u001b[38;5;124m'\u001b[39m, \u001b[38;5;124m'\u001b[39m\u001b[38;5;124mTEAM\u001b[39m\u001b[38;5;124m'\u001b[39m, \u001b[38;5;124m'\u001b[39m\u001b[38;5;124mCRWD\u001b[39m\u001b[38;5;124m'\u001b[39m, \u001b[38;5;124m'\u001b[39m\u001b[38;5;124mANET\u001b[39m\u001b[38;5;124m'\u001b[39m, \u001b[38;5;124m'\u001b[39m\u001b[38;5;124mRCL\u001b[39m\u001b[38;5;124m'\u001b[39m, \u001b[38;5;124m'\u001b[39m\u001b[38;5;124mNVDA\u001b[39m\u001b[38;5;124m'\u001b[39m]\n\u001b[0;32m      2\u001b[0m \u001b[38;5;66;03m# Beregn YTD-avkastning\u001b[39;00m\n\u001b[1;32m----> 3\u001b[0m returns \u001b[38;5;241m=\u001b[39m ytd_returns(tickers,start_date\u001b[38;5;241m=\u001b[39m \u001b[38;5;124m'\u001b[39m\u001b[38;5;124m2025-04-01\u001b[39m\u001b[38;5;124m'\u001b[39m)\n\u001b[0;32m      5\u001b[0m \u001b[38;5;66;03m# Plot med Plotly\u001b[39;00m\n\u001b[0;32m      6\u001b[0m fig \u001b[38;5;241m=\u001b[39m go\u001b[38;5;241m.\u001b[39mFigure(\n\u001b[0;32m      7\u001b[0m     data\u001b[38;5;241m=\u001b[39m[go\u001b[38;5;241m.\u001b[39mBar(\n\u001b[0;32m      8\u001b[0m         x\u001b[38;5;241m=\u001b[39mreturns\u001b[38;5;241m.\u001b[39mindex,\n\u001b[1;32m   (...)\u001b[0m\n\u001b[0;32m     13\u001b[0m     )]\n\u001b[0;32m     14\u001b[0m )\n",
      "Cell \u001b[1;32mIn[29], line 10\u001b[0m, in \u001b[0;36mremember_args.<locals>.wrapper\u001b[1;34m(*args, **kwargs)\u001b[0m\n\u001b[0;32m      8\u001b[0m wrapper\u001b[38;5;241m.\u001b[39mlast_args \u001b[38;5;241m=\u001b[39m args\n\u001b[0;32m      9\u001b[0m wrapper\u001b[38;5;241m.\u001b[39mlast_kwargs \u001b[38;5;241m=\u001b[39m kwargs\n\u001b[1;32m---> 10\u001b[0m \u001b[38;5;28;01mreturn\u001b[39;00m func(\u001b[38;5;241m*\u001b[39margs, \u001b[38;5;241m*\u001b[39m\u001b[38;5;241m*\u001b[39mkwargs)\n",
      "Cell \u001b[1;32mIn[29], line 36\u001b[0m, in \u001b[0;36mytd_returns\u001b[1;34m(tickers, start_date, end_date)\u001b[0m\n\u001b[0;32m     34\u001b[0m ytd \u001b[38;5;241m=\u001b[39m {}\n\u001b[0;32m     35\u001b[0m \u001b[38;5;28;01mfor\u001b[39;00m ticker \u001b[38;5;129;01min\u001b[39;00m data\u001b[38;5;241m.\u001b[39mcolumns:\n\u001b[1;32m---> 36\u001b[0m     first \u001b[38;5;241m=\u001b[39m data[ticker]\u001b[38;5;241m.\u001b[39mdropna()\u001b[38;5;241m.\u001b[39miloc[\u001b[38;5;241m0\u001b[39m]\n\u001b[0;32m     37\u001b[0m     last \u001b[38;5;241m=\u001b[39m data[ticker]\u001b[38;5;241m.\u001b[39mdropna()\u001b[38;5;241m.\u001b[39miloc[\u001b[38;5;241m-\u001b[39m\u001b[38;5;241m1\u001b[39m]\n\u001b[0;32m     38\u001b[0m     ytd[ticker] \u001b[38;5;241m=\u001b[39m (last \u001b[38;5;241m-\u001b[39m first) \u001b[38;5;241m/\u001b[39m first\n",
      "File \u001b[1;32mc:\\Users\\jonas\\anaconda3\\Lib\\site-packages\\pandas\\core\\indexing.py:1191\u001b[0m, in \u001b[0;36m_LocationIndexer.__getitem__\u001b[1;34m(self, key)\u001b[0m\n\u001b[0;32m   1189\u001b[0m maybe_callable \u001b[38;5;241m=\u001b[39m com\u001b[38;5;241m.\u001b[39mapply_if_callable(key, \u001b[38;5;28mself\u001b[39m\u001b[38;5;241m.\u001b[39mobj)\n\u001b[0;32m   1190\u001b[0m maybe_callable \u001b[38;5;241m=\u001b[39m \u001b[38;5;28mself\u001b[39m\u001b[38;5;241m.\u001b[39m_check_deprecated_callable_usage(key, maybe_callable)\n\u001b[1;32m-> 1191\u001b[0m \u001b[38;5;28;01mreturn\u001b[39;00m \u001b[38;5;28mself\u001b[39m\u001b[38;5;241m.\u001b[39m_getitem_axis(maybe_callable, axis\u001b[38;5;241m=\u001b[39maxis)\n",
      "File \u001b[1;32mc:\\Users\\jonas\\anaconda3\\Lib\\site-packages\\pandas\\core\\indexing.py:1752\u001b[0m, in \u001b[0;36m_iLocIndexer._getitem_axis\u001b[1;34m(self, key, axis)\u001b[0m\n\u001b[0;32m   1749\u001b[0m     \u001b[38;5;28;01mraise\u001b[39;00m \u001b[38;5;167;01mTypeError\u001b[39;00m(\u001b[38;5;124m\"\u001b[39m\u001b[38;5;124mCannot index by location index with a non-integer key\u001b[39m\u001b[38;5;124m\"\u001b[39m)\n\u001b[0;32m   1751\u001b[0m \u001b[38;5;66;03m# validate the location\u001b[39;00m\n\u001b[1;32m-> 1752\u001b[0m \u001b[38;5;28mself\u001b[39m\u001b[38;5;241m.\u001b[39m_validate_integer(key, axis)\n\u001b[0;32m   1754\u001b[0m \u001b[38;5;28;01mreturn\u001b[39;00m \u001b[38;5;28mself\u001b[39m\u001b[38;5;241m.\u001b[39mobj\u001b[38;5;241m.\u001b[39m_ixs(key, axis\u001b[38;5;241m=\u001b[39maxis)\n",
      "File \u001b[1;32mc:\\Users\\jonas\\anaconda3\\Lib\\site-packages\\pandas\\core\\indexing.py:1685\u001b[0m, in \u001b[0;36m_iLocIndexer._validate_integer\u001b[1;34m(self, key, axis)\u001b[0m\n\u001b[0;32m   1683\u001b[0m len_axis \u001b[38;5;241m=\u001b[39m \u001b[38;5;28mlen\u001b[39m(\u001b[38;5;28mself\u001b[39m\u001b[38;5;241m.\u001b[39mobj\u001b[38;5;241m.\u001b[39m_get_axis(axis))\n\u001b[0;32m   1684\u001b[0m \u001b[38;5;28;01mif\u001b[39;00m key \u001b[38;5;241m>\u001b[39m\u001b[38;5;241m=\u001b[39m len_axis \u001b[38;5;129;01mor\u001b[39;00m key \u001b[38;5;241m<\u001b[39m \u001b[38;5;241m-\u001b[39mlen_axis:\n\u001b[1;32m-> 1685\u001b[0m     \u001b[38;5;28;01mraise\u001b[39;00m \u001b[38;5;167;01mIndexError\u001b[39;00m(\u001b[38;5;124m\"\u001b[39m\u001b[38;5;124msingle positional indexer is out-of-bounds\u001b[39m\u001b[38;5;124m\"\u001b[39m)\n",
      "\u001b[1;31mIndexError\u001b[0m: single positional indexer is out-of-bounds"
     ]
    }
   ],
   "source": [
    "tickers = ['ABNB', 'PLTR', 'TEAM', 'CRWD', 'ANET', 'RCL', 'NVDA']\n",
    "# Beregn YTD-avkastning\n",
    "\n",
    "returns = ytd_returns(tickers,start_date= '2025-04-01')\n",
    "\n",
    "# Plot med Plotly\n",
    "fig = go.Figure(\n",
    "    data=[go.Bar(\n",
    "        x=returns.index,\n",
    "        y=returns.values,\n",
    "        text=[f'{v:.2%}' for v in returns.values],\n",
    "        textposition='auto',\n",
    "        marker_color='teal'\n",
    "    )]\n",
    ")\n",
    "fig.update_layout(\n",
    "    title='Period Returns per Ticker',\n",
    "    yaxis_title='YTD Return',\n",
    "    xaxis_title='Ticker',\n",
    "    yaxis_tickformat='.2%',\n",
    "    template='plotly_white'\n",
    ")\n",
    "\n",
    "average_return = returns.mean()\n",
    "\n",
    "fig.add_hline(\n",
    "    y=average_return,\n",
    "    line_dash=\"dash\",\n",
    "    line_color=\"firebrick\",\n",
    "    annotation_text=f\"Mean Return: {average_return:.2%}\",\n",
    "    annotation_position=\"top right\"\n",
    ")\n",
    "\n",
    "fig.show()"
   ]
  },
  {
   "cell_type": "code",
   "execution_count": 2,
   "id": "4ee179eb",
   "metadata": {},
   "outputs": [
    {
     "data": {
      "text/plain": [
       "ANET    0.159638\n",
       "CRWD    0.215796\n",
       "NVDA    0.039492\n",
       "PLTR    0.467643\n",
       "RCL     0.104891\n",
       "TEAM   -0.036643\n",
       "UBER    0.154679\n",
       "dtype: float64"
      ]
     },
     "execution_count": 2,
     "metadata": {},
     "output_type": "execute_result"
    }
   ],
   "source": [
    "returns"
   ]
  },
  {
   "cell_type": "code",
   "execution_count": 5,
   "id": "edb71ef0",
   "metadata": {},
   "outputs": [
    {
     "ename": "SyntaxError",
     "evalue": "invalid syntax (3746315096.py, line 1)",
     "output_type": "error",
     "traceback": [
      "\u001b[1;36m  Cell \u001b[1;32mIn[5], line 1\u001b[1;36m\u001b[0m\n\u001b[1;33m    ytd_returns.args*\u001b[0m\n\u001b[1;37m                     ^\u001b[0m\n\u001b[1;31mSyntaxError\u001b[0m\u001b[1;31m:\u001b[0m invalid syntax\n"
     ]
    }
   ],
   "source": [
    "ytd_returns.args*"
   ]
  },
  {
   "cell_type": "code",
   "execution_count": null,
   "id": "d814d925",
   "metadata": {},
   "outputs": [],
   "source": []
  }
 ],
 "metadata": {
  "kernelspec": {
   "display_name": "base",
   "language": "python",
   "name": "python3"
  },
  "language_info": {
   "codemirror_mode": {
    "name": "ipython",
    "version": 3
   },
   "file_extension": ".py",
   "mimetype": "text/x-python",
   "name": "python",
   "nbconvert_exporter": "python",
   "pygments_lexer": "ipython3",
   "version": "3.12.4"
  }
 },
 "nbformat": 4,
 "nbformat_minor": 5
}
