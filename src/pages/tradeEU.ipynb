{
 "cells": [
  {
   "cell_type": "code",
   "execution_count": 3,
   "id": "14f28fcb",
   "metadata": {},
   "outputs": [
    {
     "ename": "NameError",
     "evalue": "name 'spark' is not defined",
     "output_type": "error",
     "traceback": [
      "\u001b[1;31m---------------------------------------------------------------------------\u001b[0m",
      "\u001b[1;31mNameError\u001b[0m                                 Traceback (most recent call last)",
      "Cell \u001b[1;32mIn[3], line 2\u001b[0m\n\u001b[0;32m      1\u001b[0m \u001b[38;5;28;01mfrom\u001b[39;00m \u001b[38;5;21;01mpyspark\u001b[39;00m \u001b[38;5;28;01mimport\u001b[39;00m \u001b[38;5;241m*\u001b[39m\n\u001b[1;32m----> 2\u001b[0m df \u001b[38;5;241m=\u001b[39m spark\u001b[38;5;241m.\u001b[39mread\u001b[38;5;241m.\u001b[39mcsv(\u001b[38;5;124m\"\u001b[39m\u001b[38;5;124maccounts.csv\u001b[39m\u001b[38;5;124m\"\u001b[39m, header\u001b[38;5;241m=\u001b[39m\u001b[38;5;28;01mTrue\u001b[39;00m)\n\u001b[0;32m      4\u001b[0m \u001b[38;5;66;03m# Select subset of features and filter for balance > 0\u001b[39;00m\n\u001b[0;32m      5\u001b[0m filtered_df \u001b[38;5;241m=\u001b[39m df\u001b[38;5;241m.\u001b[39mselect(\u001b[38;5;124m\"\u001b[39m\u001b[38;5;124mAccountBalance\u001b[39m\u001b[38;5;124m\"\u001b[39m, \u001b[38;5;124m\"\u001b[39m\u001b[38;5;124mCountOfDependents\u001b[39m\u001b[38;5;124m\"\u001b[39m)\u001b[38;5;241m.\u001b[39mfilter(\u001b[38;5;124m\"\u001b[39m\u001b[38;5;124mAccountBalance > 0\u001b[39m\u001b[38;5;124m\"\u001b[39m)\n",
      "\u001b[1;31mNameError\u001b[0m: name 'spark' is not defined"
     ]
    }
   ],
   "source": [
    "from pyspark import *\n",
    "df = spark.read.csv(\"accounts.csv\", header=True)\n",
    "\n",
    "# Select subset of features and filter for balance > 0\n",
    "filtered_df = df.select(\"AccountBalance\", \"CountOfDependents\").filter(\"AccountBalance > 0\")\n",
    "\n",
    "# Generate summary statistics\n",
    "filtered_df.summary().show()"
   ]
  },
  {
   "cell_type": "code",
   "execution_count": 90,
   "id": "67d752d2",
   "metadata": {},
   "outputs": [
    {
     "data": {
      "text/html": [
       "<div>\n",
       "<style scoped>\n",
       "    .dataframe tbody tr th:only-of-type {\n",
       "        vertical-align: middle;\n",
       "    }\n",
       "\n",
       "    .dataframe tbody tr th {\n",
       "        vertical-align: top;\n",
       "    }\n",
       "\n",
       "    .dataframe thead th {\n",
       "        text-align: right;\n",
       "    }\n",
       "</style>\n",
       "<table border=\"1\" class=\"dataframe\">\n",
       "  <thead>\n",
       "    <tr style=\"text-align: right;\">\n",
       "      <th></th>\n",
       "      <th>freq,stk_flow,sitc06,partner,unit,geo\\TIME_PERIOD</th>\n",
       "      <th>2024-02</th>\n",
       "      <th>2024-03</th>\n",
       "      <th>2024-04</th>\n",
       "      <th>2024-05</th>\n",
       "      <th>2024-06</th>\n",
       "      <th>2024-07</th>\n",
       "      <th>2024-08</th>\n",
       "      <th>2024-09</th>\n",
       "      <th>2024-10</th>\n",
       "      <th>2024-11</th>\n",
       "      <th>2024-12</th>\n",
       "      <th>2025-01</th>\n",
       "    </tr>\n",
       "  </thead>\n",
       "  <tbody>\n",
       "    <tr>\n",
       "      <th>0</th>\n",
       "      <td>M,IMP,TOTAL,WRL_REST,PCH_M12_NSA,EA20</td>\n",
       "      <td>-7.6</td>\n",
       "      <td>-11.2</td>\n",
       "      <td>2.4</td>\n",
       "      <td>-6.4</td>\n",
       "      <td>-8.9</td>\n",
       "      <td>3.7</td>\n",
       "      <td>-1.6</td>\n",
       "      <td>-1.0</td>\n",
       "      <td>3.3</td>\n",
       "      <td>-0.4</td>\n",
       "      <td>3.6</td>\n",
       "      <td>7.6</td>\n",
       "    </tr>\n",
       "    <tr>\n",
       "      <th>1</th>\n",
       "      <td>M,IMP,TOTAL,WRL_REST,PCH_M12_NSA,EU27_2020</td>\n",
       "      <td>-8.9</td>\n",
       "      <td>-11.5</td>\n",
       "      <td>1.2</td>\n",
       "      <td>-5.6</td>\n",
       "      <td>-7.6</td>\n",
       "      <td>4.9</td>\n",
       "      <td>0.3</td>\n",
       "      <td>-0.2</td>\n",
       "      <td>3.8</td>\n",
       "      <td>1.4</td>\n",
       "      <td>4.1</td>\n",
       "      <td>10.9</td>\n",
       "    </tr>\n",
       "    <tr>\n",
       "      <th>2</th>\n",
       "      <td>M,IMP,TOTAL,WRL_REST,PCH_M1_SA,EA20</td>\n",
       "      <td>4.5</td>\n",
       "      <td>0.4</td>\n",
       "      <td>2.0</td>\n",
       "      <td>-0.4</td>\n",
       "      <td>-2.3</td>\n",
       "      <td>1.7</td>\n",
       "      <td>1.8</td>\n",
       "      <td>-2.1</td>\n",
       "      <td>1.8</td>\n",
       "      <td>0.8</td>\n",
       "      <td>-1.2</td>\n",
       "      <td>2.3</td>\n",
       "    </tr>\n",
       "    <tr>\n",
       "      <th>3</th>\n",
       "      <td>M,IMP,TOTAL,WRL_REST,PCH_M1_SA,EU27_2020</td>\n",
       "      <td>5.6</td>\n",
       "      <td>0.7</td>\n",
       "      <td>2.3</td>\n",
       "      <td>0.4</td>\n",
       "      <td>-2.8</td>\n",
       "      <td>2.1</td>\n",
       "      <td>2.1</td>\n",
       "      <td>-2.8</td>\n",
       "      <td>1.7</td>\n",
       "      <td>1.2</td>\n",
       "      <td>-1.4</td>\n",
       "      <td>3.2</td>\n",
       "    </tr>\n",
       "    <tr>\n",
       "      <th>4</th>\n",
       "      <td>M,IMP,TOTAL,WRL_REST,TVAL_SA,EA20</td>\n",
       "      <td>221282.7</td>\n",
       "      <td>222112.1</td>\n",
       "      <td>226483.8</td>\n",
       "      <td>225494.4</td>\n",
       "      <td>220399.8</td>\n",
       "      <td>224211.3</td>\n",
       "      <td>228232.4</td>\n",
       "      <td>223359.9</td>\n",
       "      <td>227432.3</td>\n",
       "      <td>229171.6</td>\n",
       "      <td>226396.2</td>\n",
       "      <td>231566.1</td>\n",
       "    </tr>\n",
       "    <tr>\n",
       "      <th>5</th>\n",
       "      <td>M,IMP,TOTAL,WRL_REST,TVAL_SA,EU27_2020</td>\n",
       "      <td>198829.6</td>\n",
       "      <td>200288.1</td>\n",
       "      <td>204993.0</td>\n",
       "      <td>205789.6</td>\n",
       "      <td>200106.9</td>\n",
       "      <td>204313.4</td>\n",
       "      <td>208581.6</td>\n",
       "      <td>202766.2</td>\n",
       "      <td>206247.8</td>\n",
       "      <td>208778.5</td>\n",
       "      <td>205762.7</td>\n",
       "      <td>212421.2</td>\n",
       "    </tr>\n",
       "  </tbody>\n",
       "</table>\n",
       "</div>"
      ],
      "text/plain": [
       "  freq,stk_flow,sitc06,partner,unit,geo\\TIME_PERIOD  2024-02   2024-03   \\\n",
       "0             M,IMP,TOTAL,WRL_REST,PCH_M12_NSA,EA20      -7.6     -11.2   \n",
       "1        M,IMP,TOTAL,WRL_REST,PCH_M12_NSA,EU27_2020      -8.9     -11.5   \n",
       "2               M,IMP,TOTAL,WRL_REST,PCH_M1_SA,EA20       4.5       0.4   \n",
       "3          M,IMP,TOTAL,WRL_REST,PCH_M1_SA,EU27_2020       5.6       0.7   \n",
       "4                 M,IMP,TOTAL,WRL_REST,TVAL_SA,EA20  221282.7  222112.1   \n",
       "5            M,IMP,TOTAL,WRL_REST,TVAL_SA,EU27_2020  198829.6  200288.1   \n",
       "\n",
       "   2024-04   2024-05   2024-06   2024-07   2024-08   2024-09   2024-10   \\\n",
       "0       2.4      -6.4      -8.9       3.7      -1.6      -1.0       3.3   \n",
       "1       1.2      -5.6      -7.6       4.9       0.3      -0.2       3.8   \n",
       "2       2.0      -0.4      -2.3       1.7       1.8      -2.1       1.8   \n",
       "3       2.3       0.4      -2.8       2.1       2.1      -2.8       1.7   \n",
       "4  226483.8  225494.4  220399.8  224211.3  228232.4  223359.9  227432.3   \n",
       "5  204993.0  205789.6  200106.9  204313.4  208581.6  202766.2  206247.8   \n",
       "\n",
       "   2024-11   2024-12   2025-01   \n",
       "0      -0.4       3.6       7.6  \n",
       "1       1.4       4.1      10.9  \n",
       "2       0.8      -1.2       2.3  \n",
       "3       1.2      -1.4       3.2  \n",
       "4  229171.6  226396.2  231566.1  \n",
       "5  208778.5  205762.7  212421.2  "
      ]
     },
     "execution_count": 90,
     "metadata": {},
     "output_type": "execute_result"
    }
   ],
   "source": [
    "## EU DATA TRADE\n",
    "\n",
    "import pandas as pd\n",
    "\n",
    "url = \"https://ec.europa.eu/eurostat/api/dissemination/sdmx/2.1/data/teiet110?format=TSV&compressed=true\"\n",
    "imports = pd.read_csv(url, sep='\\t', compression='gzip', encoding='ISO-8859-1')\n",
    "imports\n"
   ]
  },
  {
   "cell_type": "code",
   "execution_count": 91,
   "id": "ba492573",
   "metadata": {},
   "outputs": [
    {
     "data": {
      "text/html": [
       "<div>\n",
       "<style scoped>\n",
       "    .dataframe tbody tr th:only-of-type {\n",
       "        vertical-align: middle;\n",
       "    }\n",
       "\n",
       "    .dataframe tbody tr th {\n",
       "        vertical-align: top;\n",
       "    }\n",
       "\n",
       "    .dataframe thead th {\n",
       "        text-align: right;\n",
       "    }\n",
       "</style>\n",
       "<table border=\"1\" class=\"dataframe\">\n",
       "  <thead>\n",
       "    <tr style=\"text-align: right;\">\n",
       "      <th></th>\n",
       "      <th>freq,na_item,unit,geo\\TIME_PERIOD</th>\n",
       "      <th>2013</th>\n",
       "      <th>2014</th>\n",
       "      <th>2015</th>\n",
       "      <th>2016</th>\n",
       "      <th>2017</th>\n",
       "      <th>2018</th>\n",
       "      <th>2019</th>\n",
       "      <th>2020</th>\n",
       "      <th>2021</th>\n",
       "      <th>2022</th>\n",
       "      <th>2023</th>\n",
       "      <th>2024</th>\n",
       "    </tr>\n",
       "  </thead>\n",
       "  <tbody>\n",
       "    <tr>\n",
       "      <th>0</th>\n",
       "      <td>A,P7,PC_GDP,AL</td>\n",
       "      <td>46.9</td>\n",
       "      <td>47.0</td>\n",
       "      <td>44.2</td>\n",
       "      <td>45.3</td>\n",
       "      <td>45.8</td>\n",
       "      <td>44.6</td>\n",
       "      <td>44.4</td>\n",
       "      <td>37.0</td>\n",
       "      <td>44.5</td>\n",
       "      <td>47.5</td>\n",
       "      <td>43.8 p</td>\n",
       "      <td>43.0 e</td>\n",
       "    </tr>\n",
       "    <tr>\n",
       "      <th>1</th>\n",
       "      <td>A,P7,PC_GDP,AT</td>\n",
       "      <td>51.1</td>\n",
       "      <td>50.6</td>\n",
       "      <td>49.7</td>\n",
       "      <td>48.9</td>\n",
       "      <td>51.2</td>\n",
       "      <td>52.7</td>\n",
       "      <td>52.3</td>\n",
       "      <td>48.3</td>\n",
       "      <td>55.1</td>\n",
       "      <td>62.4</td>\n",
       "      <td>57.3</td>\n",
       "      <td>53.6</td>\n",
       "    </tr>\n",
       "    <tr>\n",
       "      <th>2</th>\n",
       "      <td>A,P7,PC_GDP,BA</td>\n",
       "      <td>54.2</td>\n",
       "      <td>56.6</td>\n",
       "      <td>53.2 b</td>\n",
       "      <td>52.3</td>\n",
       "      <td>56.3</td>\n",
       "      <td>56.4</td>\n",
       "      <td>54.5</td>\n",
       "      <td>47.9</td>\n",
       "      <td>53.9</td>\n",
       "      <td>61.9</td>\n",
       "      <td>55.7</td>\n",
       "      <td>57.2</td>\n",
       "    </tr>\n",
       "    <tr>\n",
       "      <th>3</th>\n",
       "      <td>A,P7,PC_GDP,BE</td>\n",
       "      <td>78.7</td>\n",
       "      <td>79.2</td>\n",
       "      <td>77.2</td>\n",
       "      <td>79.4</td>\n",
       "      <td>83.5</td>\n",
       "      <td>84.8</td>\n",
       "      <td>82.5</td>\n",
       "      <td>77.8</td>\n",
       "      <td>87.8</td>\n",
       "      <td>96.7</td>\n",
       "      <td>84.8 p</td>\n",
       "      <td>79.2 p</td>\n",
       "    </tr>\n",
       "    <tr>\n",
       "      <th>4</th>\n",
       "      <td>A,P7,PC_GDP,BG</td>\n",
       "      <td>65.1</td>\n",
       "      <td>65.7</td>\n",
       "      <td>63.0</td>\n",
       "      <td>58.9</td>\n",
       "      <td>62.6</td>\n",
       "      <td>63.1</td>\n",
       "      <td>60.8</td>\n",
       "      <td>53.9</td>\n",
       "      <td>59.3</td>\n",
       "      <td>68.9</td>\n",
       "      <td>57.8</td>\n",
       "      <td>53.5 p</td>\n",
       "    </tr>\n",
       "    <tr>\n",
       "      <th>...</th>\n",
       "      <td>...</td>\n",
       "      <td>...</td>\n",
       "      <td>...</td>\n",
       "      <td>...</td>\n",
       "      <td>...</td>\n",
       "      <td>...</td>\n",
       "      <td>...</td>\n",
       "      <td>...</td>\n",
       "      <td>...</td>\n",
       "      <td>...</td>\n",
       "      <td>...</td>\n",
       "      <td>...</td>\n",
       "      <td>...</td>\n",
       "    </tr>\n",
       "    <tr>\n",
       "      <th>121</th>\n",
       "      <td>A,P72,PC_GDP,SK</td>\n",
       "      <td>8.8</td>\n",
       "      <td>8.9</td>\n",
       "      <td>9.3</td>\n",
       "      <td>10.0</td>\n",
       "      <td>10.2</td>\n",
       "      <td>10.4</td>\n",
       "      <td>10.5</td>\n",
       "      <td>8.7</td>\n",
       "      <td>8.9</td>\n",
       "      <td>10.7</td>\n",
       "      <td>9.1</td>\n",
       "      <td>9.2</td>\n",
       "    </tr>\n",
       "    <tr>\n",
       "      <th>122</th>\n",
       "      <td>A,P72,PC_GDP,TR</td>\n",
       "      <td>1.7</td>\n",
       "      <td>1.9</td>\n",
       "      <td>2.0</td>\n",
       "      <td>2.2</td>\n",
       "      <td>2.4</td>\n",
       "      <td>2.8</td>\n",
       "      <td>2.8</td>\n",
       "      <td>2.3</td>\n",
       "      <td>2.4</td>\n",
       "      <td>2.9</td>\n",
       "      <td>3.0</td>\n",
       "      <td>2.7</td>\n",
       "    </tr>\n",
       "    <tr>\n",
       "      <th>123</th>\n",
       "      <td>A,P72,PC_GDP,UA</td>\n",
       "      <td>8.7</td>\n",
       "      <td>9.2</td>\n",
       "      <td>12.5</td>\n",
       "      <td>12.8</td>\n",
       "      <td>11.9</td>\n",
       "      <td>11.1</td>\n",
       "      <td>10.2</td>\n",
       "      <td>7.1</td>\n",
       "      <td>7.2</td>\n",
       "      <td>17.3</td>\n",
       "      <td>:</td>\n",
       "      <td>:</td>\n",
       "    </tr>\n",
       "    <tr>\n",
       "      <th>124</th>\n",
       "      <td>A,P72,PC_GDP,UK</td>\n",
       "      <td>7.7</td>\n",
       "      <td>7.7</td>\n",
       "      <td>8.0</td>\n",
       "      <td>8.5</td>\n",
       "      <td>8.8</td>\n",
       "      <td>9.3</td>\n",
       "      <td>9.6</td>\n",
       "      <td>:</td>\n",
       "      <td>:</td>\n",
       "      <td>:</td>\n",
       "      <td>:</td>\n",
       "      <td>:</td>\n",
       "    </tr>\n",
       "    <tr>\n",
       "      <th>125</th>\n",
       "      <td>A,P72,PC_GDP,XK</td>\n",
       "      <td>7.0</td>\n",
       "      <td>8.8</td>\n",
       "      <td>8.7</td>\n",
       "      <td>8.1</td>\n",
       "      <td>8.4</td>\n",
       "      <td>10.6</td>\n",
       "      <td>10.6</td>\n",
       "      <td>8.9</td>\n",
       "      <td>10.9</td>\n",
       "      <td>12.7</td>\n",
       "      <td>13.8</td>\n",
       "      <td>15.3 p</td>\n",
       "    </tr>\n",
       "  </tbody>\n",
       "</table>\n",
       "<p>126 rows × 13 columns</p>\n",
       "</div>"
      ],
      "text/plain": [
       "    freq,na_item,unit,geo\\TIME_PERIOD  2013   2014    2015   2016   2017   \\\n",
       "0                      A,P7,PC_GDP,AL   46.9   47.0   44.2    45.3   45.8   \n",
       "1                      A,P7,PC_GDP,AT   51.1   50.6   49.7    48.9   51.2   \n",
       "2                      A,P7,PC_GDP,BA   54.2   56.6  53.2 b   52.3   56.3   \n",
       "3                      A,P7,PC_GDP,BE   78.7   79.2   77.2    79.4   83.5   \n",
       "4                      A,P7,PC_GDP,BG   65.1   65.7   63.0    58.9   62.6   \n",
       "..                                ...    ...    ...     ...    ...    ...   \n",
       "121                   A,P72,PC_GDP,SK    8.8    8.9    9.3    10.0   10.2   \n",
       "122                   A,P72,PC_GDP,TR    1.7    1.9    2.0     2.2    2.4   \n",
       "123                   A,P72,PC_GDP,UA    8.7    9.2   12.5    12.8   11.9   \n",
       "124                   A,P72,PC_GDP,UK    7.7    7.7    8.0     8.5    8.8   \n",
       "125                   A,P72,PC_GDP,XK    7.0    8.8    8.7     8.1    8.4   \n",
       "\n",
       "     2018   2019   2020   2021   2022    2023    2024   \n",
       "0     44.6   44.4  37.0   44.5   47.5   43.8 p  43.0 e  \n",
       "1     52.7   52.3  48.3   55.1   62.4    57.3    53.6   \n",
       "2     56.4   54.5  47.9   53.9   61.9    55.7    57.2   \n",
       "3     84.8   82.5  77.8   87.8   96.7   84.8 p  79.2 p  \n",
       "4     63.1   60.8  53.9   59.3   68.9    57.8   53.5 p  \n",
       "..     ...    ...    ...    ...    ...     ...     ...  \n",
       "121   10.4   10.5   8.7    8.9   10.7     9.1     9.2   \n",
       "122    2.8    2.8   2.3    2.4    2.9     3.0     2.7   \n",
       "123   11.1   10.2   7.1    7.2   17.3       :       :   \n",
       "124    9.3    9.6     :      :      :       :       :   \n",
       "125   10.6   10.6   8.9   10.9   12.7    13.8   15.3 p  \n",
       "\n",
       "[126 rows x 13 columns]"
      ]
     },
     "execution_count": 91,
     "metadata": {},
     "output_type": "execute_result"
    }
   ],
   "source": [
    "exportseu = \"https://ec.europa.eu/eurostat/api/dissemination/sdmx/2.1/data/tet00003?format=TSV&compressed=true\"\n",
    "exportseu = pd.read_csv(exportseu, sep='\\t', compression='gzip', encoding='ISO-8859-1')\n",
    "imports\n",
    "\n",
    "importseu = \"https://ec.europa.eu/eurostat/api/dissemination/sdmx/2.1/data/tet00004?format=TSV&compressed=true\"\n",
    "importseu = pd.read_csv(importseu, sep='\\t', compression='gzip', encoding='ISO-8859-1')\n",
    "importseu\n"
   ]
  },
  {
   "cell_type": "code",
   "execution_count": 97,
   "id": "ddcc22d1",
   "metadata": {},
   "outputs": [
    {
     "data": {
      "text/html": [
       "<div>\n",
       "<style scoped>\n",
       "    .dataframe tbody tr th:only-of-type {\n",
       "        vertical-align: middle;\n",
       "    }\n",
       "\n",
       "    .dataframe tbody tr th {\n",
       "        vertical-align: top;\n",
       "    }\n",
       "\n",
       "    .dataframe thead th {\n",
       "        text-align: right;\n",
       "    }\n",
       "</style>\n",
       "<table border=\"1\" class=\"dataframe\">\n",
       "  <thead>\n",
       "    <tr style=\"text-align: right;\">\n",
       "      <th></th>\n",
       "      <th>freq,na_item,unit,geo\\TIME_PERIOD</th>\n",
       "      <th>2013</th>\n",
       "      <th>2014</th>\n",
       "      <th>2015</th>\n",
       "      <th>2016</th>\n",
       "      <th>2017</th>\n",
       "      <th>2018</th>\n",
       "      <th>2019</th>\n",
       "      <th>2020</th>\n",
       "      <th>2021</th>\n",
       "      <th>2022</th>\n",
       "      <th>2023</th>\n",
       "      <th>2024</th>\n",
       "    </tr>\n",
       "  </thead>\n",
       "  <tbody>\n",
       "    <tr>\n",
       "      <th>15</th>\n",
       "      <td>A,P6,PC_GDP,EU27_2020</td>\n",
       "      <td>44.2</td>\n",
       "      <td>44.8</td>\n",
       "      <td>46.2</td>\n",
       "      <td>45.8</td>\n",
       "      <td>47.4</td>\n",
       "      <td>48.2</td>\n",
       "      <td>48.5</td>\n",
       "      <td>45.7</td>\n",
       "      <td>49.6</td>\n",
       "      <td>55.3</td>\n",
       "      <td>51.9</td>\n",
       "      <td>50.7</td>\n",
       "    </tr>\n",
       "  </tbody>\n",
       "</table>\n",
       "</div>"
      ],
      "text/plain": [
       "   freq,na_item,unit,geo\\TIME_PERIOD  2013   2014   2015   2016   2017   \\\n",
       "15             A,P6,PC_GDP,EU27_2020   44.2   44.8  46.2    45.8   47.4   \n",
       "\n",
       "    2018   2019   2020   2021   2022   2023   2024   \n",
       "15   48.2   48.5  45.7   49.6   55.3   51.9   50.7   "
      ]
     },
     "execution_count": 97,
     "metadata": {},
     "output_type": "execute_result"
    }
   ],
   "source": [
    "exportseu[exportseu['freq,na_item,unit,geo\\\\TIME_PERIOD'] == 'A,P6,PC_GDP,EU27_2020']"
   ]
  },
  {
   "cell_type": "code",
   "execution_count": 16,
   "id": "43ecb4fa",
   "metadata": {},
   "outputs": [
    {
     "data": {
      "text/html": [
       "<div>\n",
       "<style scoped>\n",
       "    .dataframe tbody tr th:only-of-type {\n",
       "        vertical-align: middle;\n",
       "    }\n",
       "\n",
       "    .dataframe tbody tr th {\n",
       "        vertical-align: top;\n",
       "    }\n",
       "\n",
       "    .dataframe thead th {\n",
       "        text-align: right;\n",
       "    }\n",
       "</style>\n",
       "<table border=\"1\" class=\"dataframe\">\n",
       "  <thead>\n",
       "    <tr style=\"text-align: right;\">\n",
       "      <th></th>\n",
       "      <th>freq,stk_flow,sitc06,partner,unit,geo\\TIME_PERIOD</th>\n",
       "      <th>2024-02</th>\n",
       "      <th>2024-03</th>\n",
       "      <th>2024-04</th>\n",
       "      <th>2024-05</th>\n",
       "      <th>2024-06</th>\n",
       "      <th>2024-07</th>\n",
       "      <th>2024-08</th>\n",
       "      <th>2024-09</th>\n",
       "      <th>2024-10</th>\n",
       "      <th>2024-11</th>\n",
       "      <th>2024-12</th>\n",
       "      <th>2025-01</th>\n",
       "    </tr>\n",
       "  </thead>\n",
       "  <tbody>\n",
       "    <tr>\n",
       "      <th>0</th>\n",
       "      <td>M,EXP,TOTAL,WRL_REST,PCH_M12_NSA,EA20</td>\n",
       "      <td>0.6</td>\n",
       "      <td>-8.8</td>\n",
       "      <td>14.4</td>\n",
       "      <td>-1.0</td>\n",
       "      <td>-6.6</td>\n",
       "      <td>9.1</td>\n",
       "      <td>-2.7</td>\n",
       "      <td>0.2</td>\n",
       "      <td>2.4</td>\n",
       "      <td>-1.7</td>\n",
       "      <td>2.9</td>\n",
       "      <td>3.0</td>\n",
       "    </tr>\n",
       "    <tr>\n",
       "      <th>1</th>\n",
       "      <td>M,EXP,TOTAL,WRL_REST,PCH_M12_NSA,EU27_2020</td>\n",
       "      <td>1.1</td>\n",
       "      <td>-8.3</td>\n",
       "      <td>15.4</td>\n",
       "      <td>-0.7</td>\n",
       "      <td>-5.8</td>\n",
       "      <td>10.2</td>\n",
       "      <td>-1.3</td>\n",
       "      <td>0.6</td>\n",
       "      <td>1.7</td>\n",
       "      <td>-1.3</td>\n",
       "      <td>3.7</td>\n",
       "      <td>4.4</td>\n",
       "    </tr>\n",
       "    <tr>\n",
       "      <th>2</th>\n",
       "      <td>M,EXP,TOTAL,WRL_REST,PCH_M1_SA,EA20</td>\n",
       "      <td>-0.1</td>\n",
       "      <td>0.3</td>\n",
       "      <td>2.7</td>\n",
       "      <td>-3.2</td>\n",
       "      <td>0.0</td>\n",
       "      <td>0.3</td>\n",
       "      <td>0.2</td>\n",
       "      <td>-0.3</td>\n",
       "      <td>-1.3</td>\n",
       "      <td>3.1</td>\n",
       "      <td>-0.1</td>\n",
       "      <td>2.1</td>\n",
       "    </tr>\n",
       "    <tr>\n",
       "      <th>3</th>\n",
       "      <td>M,EXP,TOTAL,WRL_REST,PCH_M1_SA,EU27_2020</td>\n",
       "      <td>0.5</td>\n",
       "      <td>0.7</td>\n",
       "      <td>2.8</td>\n",
       "      <td>-3.5</td>\n",
       "      <td>0.6</td>\n",
       "      <td>-0.2</td>\n",
       "      <td>0.6</td>\n",
       "      <td>-1.0</td>\n",
       "      <td>-1.6</td>\n",
       "      <td>3.7</td>\n",
       "      <td>0.3</td>\n",
       "      <td>2.0</td>\n",
       "    </tr>\n",
       "    <tr>\n",
       "      <th>4</th>\n",
       "      <td>M,EXP,TOTAL,WRL_REST,TVAL_SA,EA20</td>\n",
       "      <td>237179.8</td>\n",
       "      <td>237880.0</td>\n",
       "      <td>244189.7</td>\n",
       "      <td>236334.1</td>\n",
       "      <td>236243.4</td>\n",
       "      <td>237005.3</td>\n",
       "      <td>237390.5</td>\n",
       "      <td>236757.3</td>\n",
       "      <td>233740.5</td>\n",
       "      <td>240956.4</td>\n",
       "      <td>240597.0</td>\n",
       "      <td>245566.9</td>\n",
       "    </tr>\n",
       "    <tr>\n",
       "      <th>5</th>\n",
       "      <td>M,EXP,TOTAL,WRL_REST,TVAL_SA,EU27_2020</td>\n",
       "      <td>213434.8</td>\n",
       "      <td>214901.6</td>\n",
       "      <td>220865.2</td>\n",
       "      <td>213146.9</td>\n",
       "      <td>214372.5</td>\n",
       "      <td>214022.7</td>\n",
       "      <td>215409.6</td>\n",
       "      <td>213154.1</td>\n",
       "      <td>209681.1</td>\n",
       "      <td>217346.0</td>\n",
       "      <td>218049.8</td>\n",
       "      <td>222496.0</td>\n",
       "    </tr>\n",
       "  </tbody>\n",
       "</table>\n",
       "</div>"
      ],
      "text/plain": [
       "  freq,stk_flow,sitc06,partner,unit,geo\\TIME_PERIOD  2024-02   2024-03   \\\n",
       "0             M,EXP,TOTAL,WRL_REST,PCH_M12_NSA,EA20       0.6      -8.8   \n",
       "1        M,EXP,TOTAL,WRL_REST,PCH_M12_NSA,EU27_2020       1.1      -8.3   \n",
       "2               M,EXP,TOTAL,WRL_REST,PCH_M1_SA,EA20      -0.1       0.3   \n",
       "3          M,EXP,TOTAL,WRL_REST,PCH_M1_SA,EU27_2020       0.5       0.7   \n",
       "4                 M,EXP,TOTAL,WRL_REST,TVAL_SA,EA20  237179.8  237880.0   \n",
       "5            M,EXP,TOTAL,WRL_REST,TVAL_SA,EU27_2020  213434.8  214901.6   \n",
       "\n",
       "   2024-04   2024-05   2024-06   2024-07   2024-08   2024-09   2024-10   \\\n",
       "0      14.4      -1.0      -6.6       9.1      -2.7       0.2       2.4   \n",
       "1      15.4      -0.7      -5.8      10.2      -1.3       0.6       1.7   \n",
       "2       2.7      -3.2       0.0       0.3       0.2      -0.3      -1.3   \n",
       "3       2.8      -3.5       0.6      -0.2       0.6      -1.0      -1.6   \n",
       "4  244189.7  236334.1  236243.4  237005.3  237390.5  236757.3  233740.5   \n",
       "5  220865.2  213146.9  214372.5  214022.7  215409.6  213154.1  209681.1   \n",
       "\n",
       "   2024-11   2024-12   2025-01   \n",
       "0      -1.7       2.9       3.0  \n",
       "1      -1.3       3.7       4.4  \n",
       "2       3.1      -0.1       2.1  \n",
       "3       3.7       0.3       2.0  \n",
       "4  240956.4  240597.0  245566.9  \n",
       "5  217346.0  218049.8  222496.0  "
      ]
     },
     "execution_count": 16,
     "metadata": {},
     "output_type": "execute_result"
    }
   ],
   "source": [
    "import pandas as pd\n",
    "\n",
    "url = \"https://ec.europa.eu/eurostat/api/dissemination/sdmx/2.1/data/teiet010?format=TSV&compressed=true\"\n",
    "exports = pd.read_csv(url, sep='\\t', compression='gzip', encoding='ISO-8859-1')\n",
    "exports"
   ]
  },
  {
   "cell_type": "code",
   "execution_count": null,
   "id": "7063569e",
   "metadata": {},
   "outputs": [],
   "source": [
    "import pandas as pd\n",
    "\n",
    "url = 'http://english.customs.gov.cn/Excel/2-en-%E7%BE%8E%E5%85%83-2025-3_USD23.xls' # In 100 Mln USD , q1 2025\n",
    "\n",
    "march2025 = pd.read_excel(\n",
    "    url,\n",
    "    storage_options={'User-Agent': 'Mozilla/5.0'}, skiprows=9\n",
    ")\n",
    "\n",
    "\n"
   ]
  },
  {
   "cell_type": "code",
   "execution_count": null,
   "id": "7ab5cd05",
   "metadata": {},
   "outputs": [
    {
     "data": {
      "text/html": [
       "<div>\n",
       "<style scoped>\n",
       "    .dataframe tbody tr th:only-of-type {\n",
       "        vertical-align: middle;\n",
       "    }\n",
       "\n",
       "    .dataframe tbody tr th {\n",
       "        vertical-align: top;\n",
       "    }\n",
       "\n",
       "    .dataframe thead th {\n",
       "        text-align: right;\n",
       "    }\n",
       "</style>\n",
       "<table border=\"1\" class=\"dataframe\">\n",
       "  <thead>\n",
       "    <tr style=\"text-align: right;\">\n",
       "      <th></th>\n",
       "      <th>Unnamed: 0</th>\n",
       "      <th></th>\n",
       "      <th>Unnamed: 2</th>\n",
       "      <th>Unnamed: 3</th>\n",
       "      <th>Unnamed: 4</th>\n",
       "      <th>Unnamed: 5</th>\n",
       "      <th>Unnamed: 6</th>\n",
       "    </tr>\n",
       "  </thead>\n",
       "  <tbody>\n",
       "    <tr>\n",
       "      <th>0</th>\n",
       "      <td>NaN</td>\n",
       "      <td>NaN</td>\n",
       "      <td>NaN</td>\n",
       "      <td>NaN</td>\n",
       "      <td>NaN</td>\n",
       "      <td>NaN</td>\n",
       "      <td>NaN</td>\n",
       "    </tr>\n",
       "    <tr>\n",
       "      <th>1</th>\n",
       "      <td>NaN</td>\n",
       "      <td>(1) China's Total Export &amp; Import Values, Dece...</td>\n",
       "      <td>NaN</td>\n",
       "      <td>NaN</td>\n",
       "      <td>NaN</td>\n",
       "      <td>NaN</td>\n",
       "      <td>NaN</td>\n",
       "    </tr>\n",
       "    <tr>\n",
       "      <th>2</th>\n",
       "      <td>NaN</td>\n",
       "      <td>Unit: USD 100 Million</td>\n",
       "      <td>NaN</td>\n",
       "      <td>NaN</td>\n",
       "      <td>NaN</td>\n",
       "      <td>NaN</td>\n",
       "      <td>NaN</td>\n",
       "    </tr>\n",
       "    <tr>\n",
       "      <th>3</th>\n",
       "      <td>NaN</td>\n",
       "      <td>Item</td>\n",
       "      <td>12.000000</td>\n",
       "      <td>1-to-12</td>\n",
       "      <td>12</td>\n",
       "      <td>NaN</td>\n",
       "      <td>1-to-12</td>\n",
       "    </tr>\n",
       "    <tr>\n",
       "      <th>4</th>\n",
       "      <td>NaN</td>\n",
       "      <td>NaN</td>\n",
       "      <td>NaN</td>\n",
       "      <td>NaN</td>\n",
       "      <td>Month-on-Month ±%</td>\n",
       "      <td>Year-on-Year ±%</td>\n",
       "      <td>Year-on-Year ±%</td>\n",
       "    </tr>\n",
       "    <tr>\n",
       "      <th>5</th>\n",
       "      <td>NaN</td>\n",
       "      <td>Total Export &amp; Import</td>\n",
       "      <td>5664.161636</td>\n",
       "      <td>61622.886954</td>\n",
       "      <td>7.5</td>\n",
       "      <td>6.5</td>\n",
       "      <td>3.8</td>\n",
       "    </tr>\n",
       "    <tr>\n",
       "      <th>6</th>\n",
       "      <td>NaN</td>\n",
       "      <td>Total Export</td>\n",
       "      <td>3356.270377</td>\n",
       "      <td>35772.220279</td>\n",
       "      <td>7.6</td>\n",
       "      <td>10.7</td>\n",
       "      <td>5.9</td>\n",
       "    </tr>\n",
       "    <tr>\n",
       "      <th>7</th>\n",
       "      <td>NaN</td>\n",
       "      <td>Total Import</td>\n",
       "      <td>2307.891259</td>\n",
       "      <td>25850.666675</td>\n",
       "      <td>7.5</td>\n",
       "      <td>1.0</td>\n",
       "      <td>1.1</td>\n",
       "    </tr>\n",
       "    <tr>\n",
       "      <th>8</th>\n",
       "      <td>NaN</td>\n",
       "      <td>Export-Import Balance</td>\n",
       "      <td>1048.379118</td>\n",
       "      <td>9921.553604</td>\n",
       "      <td>-</td>\n",
       "      <td>-</td>\n",
       "      <td>-</td>\n",
       "    </tr>\n",
       "    <tr>\n",
       "      <th>9</th>\n",
       "      <td>NaN</td>\n",
       "      <td>Note: \\nExport-Import Balance \"+\" indicates ex...</td>\n",
       "      <td>NaN</td>\n",
       "      <td>NaN</td>\n",
       "      <td>NaN</td>\n",
       "      <td>NaN</td>\n",
       "      <td>NaN</td>\n",
       "    </tr>\n",
       "  </tbody>\n",
       "</table>\n",
       "</div>"
      ],
      "text/plain": [
       "   Unnamed: 0                                                      Unnamed: 2  \\\n",
       "0         NaN                                                NaN          NaN   \n",
       "1         NaN  (1) China's Total Export & Import Values, Dece...          NaN   \n",
       "2         NaN                             Unit: USD 100 Million           NaN   \n",
       "3         NaN                                               Item    12.000000   \n",
       "4         NaN                                                NaN          NaN   \n",
       "5         NaN                              Total Export & Import  5664.161636   \n",
       "6         NaN                                       Total Export  3356.270377   \n",
       "7         NaN                                       Total Import  2307.891259   \n",
       "8         NaN                              Export-Import Balance  1048.379118   \n",
       "9         NaN  Note: \\nExport-Import Balance \"+\" indicates ex...          NaN   \n",
       "\n",
       "     Unnamed: 3         Unnamed: 4       Unnamed: 5       Unnamed: 6  \n",
       "0           NaN                NaN              NaN              NaN  \n",
       "1           NaN                NaN              NaN              NaN  \n",
       "2           NaN                NaN              NaN              NaN  \n",
       "3       1-to-12                 12              NaN          1-to-12  \n",
       "4           NaN  Month-on-Month ±%  Year-on-Year ±%  Year-on-Year ±%  \n",
       "5  61622.886954                7.5              6.5              3.8  \n",
       "6  35772.220279                7.6             10.7              5.9  \n",
       "7  25850.666675                7.5              1.0              1.1  \n",
       "8   9921.553604                  -                -                -  \n",
       "9           NaN                NaN              NaN              NaN  "
      ]
     },
     "execution_count": 15,
     "metadata": {},
     "output_type": "execute_result"
    }
   ],
   "source": [
    "import pandas as pd\n",
    "\n",
    "url = 'http://english.customs.gov.cn/Excel/2-en-%E7%BE%8E%E5%85%83-2024-12_USD12.xls' # In 100 Mln USD , q1 2025\n",
    "\n",
    "cn2024 = pd.read_excel(\n",
    "    url,\n",
    "    storage_options={'User-Agent': 'Mozilla/5.0'}, skiprows=9\n",
    ")\n",
    "\n",
    "cn2024new = cn2024.iloc[:, 1:4].copy()\n",
    "cn2024new.columns = ['Metrics', 'Month', 'FY']\n",
    "cn2024new = cn2024new.loc[cn2024new['Metrics'] == 'Total Export & Import'][['Metrics', 'FY']].copy()\n",
    "\n",
    "\n",
    "url = 'http://english.customs.gov.cn/Excel/2-en-%E7%BE%8E%E5%85%83-2023-12_USD12.xls' # In 100 Mln USD , q1 2025\n",
    "\n",
    "cn2023 = pd.read_excel(\n",
    "    url,\n",
    "    storage_options={'User-Agent': 'Mozilla/5.0'}, skiprows=9\n",
    ")\n",
    "\n",
    "cn2023new = cn2023.iloc[:, 1:4].copy()\n",
    "cn2023new.columns = ['Metrics', 'Month', 'FY']\n",
    "cn2023new = cn2023new.loc[cn2023new['Metrics'] == 'Total Export & Import'][['Metrics', 'FY']].copy()"
   ]
  },
  {
   "cell_type": "code",
   "execution_count": null,
   "id": "2f4ae191",
   "metadata": {},
   "outputs": [
    {
     "data": {
      "text/html": [
       "<div>\n",
       "<style scoped>\n",
       "    .dataframe tbody tr th:only-of-type {\n",
       "        vertical-align: middle;\n",
       "    }\n",
       "\n",
       "    .dataframe tbody tr th {\n",
       "        vertical-align: top;\n",
       "    }\n",
       "\n",
       "    .dataframe thead th {\n",
       "        text-align: right;\n",
       "    }\n",
       "</style>\n",
       "<table border=\"1\" class=\"dataframe\">\n",
       "  <thead>\n",
       "    <tr style=\"text-align: right;\">\n",
       "      <th></th>\n",
       "      <th>Unnamed: 0</th>\n",
       "      <th></th>\n",
       "      <th>Unnamed: 2</th>\n",
       "      <th>Unnamed: 3</th>\n",
       "      <th>Unnamed: 4</th>\n",
       "      <th>Unnamed: 5</th>\n",
       "      <th>Unnamed: 6</th>\n",
       "    </tr>\n",
       "  </thead>\n",
       "  <tbody>\n",
       "    <tr>\n",
       "      <th>0</th>\n",
       "      <td>NaN</td>\n",
       "      <td>NaN</td>\n",
       "      <td>NaN</td>\n",
       "      <td>NaN</td>\n",
       "      <td>NaN</td>\n",
       "      <td>NaN</td>\n",
       "      <td>NaN</td>\n",
       "    </tr>\n",
       "    <tr>\n",
       "      <th>1</th>\n",
       "      <td>NaN</td>\n",
       "      <td>(1) China's Total Export &amp; Import Values, Dece...</td>\n",
       "      <td>NaN</td>\n",
       "      <td>NaN</td>\n",
       "      <td>NaN</td>\n",
       "      <td>NaN</td>\n",
       "      <td>NaN</td>\n",
       "    </tr>\n",
       "    <tr>\n",
       "      <th>2</th>\n",
       "      <td>NaN</td>\n",
       "      <td>Unit: USD 100 Million</td>\n",
       "      <td>NaN</td>\n",
       "      <td>NaN</td>\n",
       "      <td>NaN</td>\n",
       "      <td>NaN</td>\n",
       "      <td>NaN</td>\n",
       "    </tr>\n",
       "    <tr>\n",
       "      <th>3</th>\n",
       "      <td>NaN</td>\n",
       "      <td>Item</td>\n",
       "      <td>12</td>\n",
       "      <td>1-to-12</td>\n",
       "      <td>12</td>\n",
       "      <td>NaN</td>\n",
       "      <td>1-to-12</td>\n",
       "    </tr>\n",
       "    <tr>\n",
       "      <th>4</th>\n",
       "      <td>NaN</td>\n",
       "      <td>NaN</td>\n",
       "      <td>NaN</td>\n",
       "      <td>NaN</td>\n",
       "      <td>Month-on-Month ±%</td>\n",
       "      <td>Year-on-Year ±%</td>\n",
       "      <td>Year-on-Year ±%</td>\n",
       "    </tr>\n",
       "    <tr>\n",
       "      <th>5</th>\n",
       "      <td>NaN</td>\n",
       "      <td>Total Export &amp; Import</td>\n",
       "      <td>5,319.0</td>\n",
       "      <td>59,368.3</td>\n",
       "      <td>3.1</td>\n",
       "      <td>1.4</td>\n",
       "      <td>-5</td>\n",
       "    </tr>\n",
       "    <tr>\n",
       "      <th>6</th>\n",
       "      <td>NaN</td>\n",
       "      <td>Total Export</td>\n",
       "      <td>3,036.2</td>\n",
       "      <td>33,800.2</td>\n",
       "      <td>3.7</td>\n",
       "      <td>2.3</td>\n",
       "      <td>-4.6</td>\n",
       "    </tr>\n",
       "    <tr>\n",
       "      <th>7</th>\n",
       "      <td>NaN</td>\n",
       "      <td>Total Import</td>\n",
       "      <td>2,282.8</td>\n",
       "      <td>25,568.0</td>\n",
       "      <td>2.2</td>\n",
       "      <td>0.2</td>\n",
       "      <td>-5.5</td>\n",
       "    </tr>\n",
       "    <tr>\n",
       "      <th>8</th>\n",
       "      <td>NaN</td>\n",
       "      <td>Export-Import Balance</td>\n",
       "      <td>753.4</td>\n",
       "      <td>8,232.2</td>\n",
       "      <td>-</td>\n",
       "      <td>-</td>\n",
       "      <td>-</td>\n",
       "    </tr>\n",
       "    <tr>\n",
       "      <th>9</th>\n",
       "      <td>NaN</td>\n",
       "      <td>Note: \\nExport-Import Balance \"+\" indicates ex...</td>\n",
       "      <td>NaN</td>\n",
       "      <td>NaN</td>\n",
       "      <td>NaN</td>\n",
       "      <td>NaN</td>\n",
       "      <td>NaN</td>\n",
       "    </tr>\n",
       "  </tbody>\n",
       "</table>\n",
       "</div>"
      ],
      "text/plain": [
       "   Unnamed: 0                                                    Unnamed: 2  \\\n",
       "0         NaN                                                NaN        NaN   \n",
       "1         NaN  (1) China's Total Export & Import Values, Dece...        NaN   \n",
       "2         NaN                             Unit: USD 100 Million         NaN   \n",
       "3         NaN                                               Item         12   \n",
       "4         NaN                                                NaN        NaN   \n",
       "5         NaN                              Total Export & Import   5,319.0    \n",
       "6         NaN                                       Total Export   3,036.2    \n",
       "7         NaN                                       Total Import   2,282.8    \n",
       "8         NaN                              Export-Import Balance     753.4    \n",
       "9         NaN  Note: \\nExport-Import Balance \"+\" indicates ex...        NaN   \n",
       "\n",
       "  Unnamed: 3         Unnamed: 4       Unnamed: 5       Unnamed: 6  \n",
       "0        NaN                NaN              NaN              NaN  \n",
       "1        NaN                NaN              NaN              NaN  \n",
       "2        NaN                NaN              NaN              NaN  \n",
       "3    1-to-12                 12              NaN          1-to-12  \n",
       "4        NaN  Month-on-Month ±%  Year-on-Year ±%  Year-on-Year ±%  \n",
       "5  59,368.3                 3.1              1.4               -5  \n",
       "6  33,800.2                 3.7              2.3             -4.6  \n",
       "7  25,568.0                 2.2              0.2             -5.5  \n",
       "8   8,232.2                   -                -                -  \n",
       "9        NaN                NaN              NaN              NaN  "
      ]
     },
     "execution_count": 16,
     "metadata": {},
     "output_type": "execute_result"
    }
   ],
   "source": [
    "import pandas as pd\n",
    "\n",
    "url = 'http://english.customs.gov.cn/Excel/2-en-%E7%BE%8E%E5%85%83-2023-12_USD12.xls' # In 100 Mln USD , q1 2025\n",
    "\n",
    "cn2023 = pd.read_excel(\n",
    "    url,\n",
    "    storage_options={'User-Agent': 'Mozilla/5.0'}, skiprows=9\n",
    ")\n",
    "\n",
    "cn2023new = cn2023.iloc[:, 1:4].copy()\n",
    "cn2023new.columns = ['Metrics', 'Month', 'FY']\n",
    "cn2023new = cn2023new.loc[cn2023new['Metrics'] == 'Total Export & Import'][['Metrics', 'FY']].copy()\n",
    "cn2023new"
   ]
  },
  {
   "cell_type": "code",
   "execution_count": null,
   "id": "ef974045",
   "metadata": {},
   "outputs": [
    {
     "data": {
      "text/html": [
       "<div>\n",
       "<style scoped>\n",
       "    .dataframe tbody tr th:only-of-type {\n",
       "        vertical-align: middle;\n",
       "    }\n",
       "\n",
       "    .dataframe tbody tr th {\n",
       "        vertical-align: top;\n",
       "    }\n",
       "\n",
       "    .dataframe thead th {\n",
       "        text-align: right;\n",
       "    }\n",
       "</style>\n",
       "<table border=\"1\" class=\"dataframe\">\n",
       "  <thead>\n",
       "    <tr style=\"text-align: right;\">\n",
       "      <th></th>\n",
       "      <th>Metrics</th>\n",
       "      <th>FY</th>\n",
       "    </tr>\n",
       "  </thead>\n",
       "  <tbody>\n",
       "    <tr>\n",
       "      <th>5</th>\n",
       "      <td>Total Export &amp; Import</td>\n",
       "      <td>59,368.3</td>\n",
       "    </tr>\n",
       "  </tbody>\n",
       "</table>\n",
       "</div>"
      ],
      "text/plain": [
       "                 Metrics         FY\n",
       "5  Total Export & Import  59,368.3 "
      ]
     },
     "execution_count": 21,
     "metadata": {},
     "output_type": "execute_result"
    }
   ],
   "source": [
    "cn2023new = cn2023.iloc[:, 1:4].copy()\n",
    "cn2023new.columns = ['Metrics', 'Month', 'FY']\n",
    "cn2023new = cn2023new.loc[cn2023new['Metrics'] == 'Total Export & Import'][['Metrics', 'FY']].copy()\n",
    "cn2023new"
   ]
  },
  {
   "cell_type": "code",
   "execution_count": 27,
   "id": "81ac4123",
   "metadata": {},
   "outputs": [
    {
     "name": "stderr",
     "output_type": "stream",
     "text": [
      "<>:49: SyntaxWarning: invalid escape sequence '\\d'\n",
      "<>:49: SyntaxWarning: invalid escape sequence '\\d'\n",
      "C:\\Users\\jonas\\AppData\\Local\\Temp\\ipykernel_18512\\178201765.py:49: SyntaxWarning: invalid escape sequence '\\d'\n",
      "  df_filtered['FY'] = df_filtered['FY'].astype(str).str.replace('[^\\d.]', '', regex=True).astype(float)\n"
     ]
    },
    {
     "name": "stdout",
     "output_type": "stream",
     "text": [
      "Attempting 2024... Success\n",
      "Attempting 2023... Success\n",
      "Attempting 2022... Success\n",
      "Attempting 2021... Success\n",
      "Attempting 2020... Failed (HTTP Error 404: Not Found)\n",
      "Attempting 2019... Failed (HTTP Error 404: Not Found)\n",
      "Attempting 2018... Failed (HTTP Error 404: Not Found)\n",
      "Attempting 2017... Failed (HTTP Error 404: Not Found)\n",
      "Attempting 2016... Failed (HTTP Error 404: Not Found)\n",
      "Attempting 2015... Failed (HTTP Error 404: Not Found)\n",
      "Attempting 2014... Failed (HTTP Error 404: Not Found)\n",
      "Attempting 2013... Failed (HTTP Error 404: Not Found)\n",
      "Attempting 2012... Failed (HTTP Error 404: Not Found)\n",
      "Attempting 2011... Failed (HTTP Error 404: Not Found)\n",
      "Attempting 2010... Failed (HTTP Error 404: Not Found)\n",
      "Attempting 2009... Failed (HTTP Error 404: Not Found)\n",
      "Attempting 2008... Failed (HTTP Error 404: Not Found)\n",
      "Attempting 2007... Failed (HTTP Error 404: Not Found)\n",
      "Attempting 2006... Failed (HTTP Error 404: Not Found)\n",
      "Attempting 2005... Failed (HTTP Error 404: Not Found)\n",
      "Attempting 2004... Failed (HTTP Error 404: Not Found)\n",
      "Attempting 2003... Failed (HTTP Error 404: Not Found)\n",
      "Attempting 2002... Failed (HTTP Error 404: Not Found)\n",
      "Attempting 2001... Failed (HTTP Error 404: Not Found)\n",
      "Attempting 2000... Failed (HTTP Error 404: Not Found)\n",
      "\n",
      "Final Dataset:\n",
      "                 Metrics           FY  Year\n",
      "0  Export-Import Balance  9921.553604  2024\n",
      "1  Export-Import Balance  8232.200000  2023\n",
      "2  Export-Import Balance  8776.000000  2022\n",
      "3  Export-Import Balance  6764.300000  2021\n"
     ]
    }
   ],
   "source": [
    "import pandas as pd\n",
    "from datetime import datetime\n",
    "\n",
    "def retrieve_historical_trade_data(max_attempts=25):\n",
    "    \"\"\"\n",
    "    Retrieves China's annual trade data in USD (100 million units) \n",
    "    from GACC website starting from latest available year backward.\n",
    "    \n",
    "    Parameters:\n",
    "    max_attempts (int): Maximum years to attempt retrieving backwards\n",
    "    \n",
    "    Returns:\n",
    "    DataFrame: Combined historical data with Year, Metrics, and FY values\n",
    "    \"\"\"\n",
    "    \n",
    "    base_url = 'http://english.customs.gov.cn/Excel/2-en-%E7%BE%8E%E5%85%83-{year}-12_USD12.xls'\n",
    "    all_data = []\n",
    "    \n",
    "    # Start from current year (2025) but check availability\n",
    "    current_year = datetime.now().year-1\n",
    "    \n",
    "    for attempt in range(max_attempts):\n",
    "        year_to_try = current_year - attempt\n",
    "        url = base_url.format(year=year_to_try)\n",
    "        \n",
    "        print(f\"Attempting {year_to_try}...\", end=' ')\n",
    "        \n",
    "        try:\n",
    "            df = pd.read_excel(\n",
    "                url,\n",
    "                storage_options={'User-Agent': 'Mozilla/5.0'},\n",
    "                skiprows=9\n",
    "            )\n",
    "            \n",
    "            # Validate dataframe structure\n",
    "            if df.shape[1] < 4:\n",
    "                print(\"Unexpected format, skipping\")\n",
    "                continue\n",
    "                \n",
    "            # Process data\n",
    "            df_filtered = df.iloc[:, 1:4].copy()\n",
    "            df_filtered.columns = ['Metrics', 'Month', 'FY']\n",
    "            df_filtered = df_filtered.loc[\n",
    "                df_filtered['Metrics'] == 'Export-Import Balance',\n",
    "                ['Metrics', 'FY']\n",
    "            ].copy()\n",
    "            \n",
    "            # Clean numerical values (remove commas and non-numeric characters)\n",
    "            df_filtered['FY'] = df_filtered['FY'].astype(str).str.replace('[^\\d.]', '', regex=True).astype(float)\n",
    "            \n",
    "            df_filtered['Year'] = year_to_try\n",
    "            all_data.append(df_filtered)\n",
    "            print(\"Success\")\n",
    "            \n",
    "        except Exception as e:\n",
    "            print(f\"Failed ({str(e)})\")\n",
    "            # Stop if 2 consecutive years fail\n",
    "            if len(all_data) > 0 and (year_to_try - all_data[-1]['Year'].iloc[0] > 1):\n",
    "                break\n",
    "    \n",
    "    return pd.concat(all_data, ignore_index=True) if all_data else pd.DataFrame()\n",
    "\n",
    "# Usage\n",
    "historical_trade = retrieve_historical_trade_data()\n",
    "print(\"\\nFinal Dataset:\")\n",
    "print(historical_trade)\n"
   ]
  },
  {
   "cell_type": "code",
   "execution_count": 54,
   "id": "8e4308aa",
   "metadata": {},
   "outputs": [],
   "source": [
    "chinese_trade_surplus = historical_trade\n",
    "\n",
    "\n",
    "chinese_trade_surplus.to_csv(r\"C:\\Users\\jonas\\Downloads\\finpage-2\\src\\chinesetrade.csv\")"
   ]
  },
  {
   "cell_type": "code",
   "execution_count": null,
   "id": "dcb3cc7f",
   "metadata": {},
   "outputs": [
    {
     "data": {
      "text/html": [
       "<div>\n",
       "<style scoped>\n",
       "    .dataframe tbody tr th:only-of-type {\n",
       "        vertical-align: middle;\n",
       "    }\n",
       "\n",
       "    .dataframe tbody tr th {\n",
       "        vertical-align: top;\n",
       "    }\n",
       "\n",
       "    .dataframe thead th {\n",
       "        text-align: right;\n",
       "    }\n",
       "</style>\n",
       "<table border=\"1\" class=\"dataframe\">\n",
       "  <thead>\n",
       "    <tr style=\"text-align: right;\">\n",
       "      <th></th>\n",
       "      <th>Metrics</th>\n",
       "      <th>FY</th>\n",
       "      <th>Year</th>\n",
       "    </tr>\n",
       "  </thead>\n",
       "  <tbody>\n",
       "    <tr>\n",
       "      <th>0</th>\n",
       "      <td>Export-Import Balance</td>\n",
       "      <td>9921.553604</td>\n",
       "      <td>2024</td>\n",
       "    </tr>\n",
       "    <tr>\n",
       "      <th>1</th>\n",
       "      <td>Export-Import Balance</td>\n",
       "      <td>8232.200000</td>\n",
       "      <td>2023</td>\n",
       "    </tr>\n",
       "    <tr>\n",
       "      <th>2</th>\n",
       "      <td>Export-Import Balance</td>\n",
       "      <td>8776.000000</td>\n",
       "      <td>2022</td>\n",
       "    </tr>\n",
       "    <tr>\n",
       "      <th>3</th>\n",
       "      <td>Export-Import Balance</td>\n",
       "      <td>6764.300000</td>\n",
       "      <td>2021</td>\n",
       "    </tr>\n",
       "  </tbody>\n",
       "</table>\n",
       "</div>"
      ],
      "text/plain": [
       "                 Metrics           FY  Year\n",
       "0  Export-Import Balance  9921.553604  2024\n",
       "1  Export-Import Balance  8232.200000  2023\n",
       "2  Export-Import Balance  8776.000000  2022\n",
       "3  Export-Import Balance  6764.300000  2021"
      ]
     },
     "execution_count": 51,
     "metadata": {},
     "output_type": "execute_result"
    }
   ],
   "source": [
    "chinese_trade_surplus"
   ]
  },
  {
   "cell_type": "code",
   "execution_count": null,
   "id": "3de3f56a",
   "metadata": {},
   "outputs": [],
   "source": []
  },
  {
   "cell_type": "code",
   "execution_count": null,
   "id": "71b1f1a3",
   "metadata": {},
   "outputs": [],
   "source": [
    "url = 'http://english.customs.gov.cn/Excel/2-en-%E7%BE%8E%E5%85%83-2025-1-2_USD12.xls' # In 100 Mln USD , q1 2025\n",
    "\n",
    "cn2025= pd.read_excel(\n",
    "    url,\n",
    "    storage_options={'User-Agent': 'Mozilla/5.0'}, skiprows=9\n",
    ")"
   ]
  },
  {
   "cell_type": "code",
   "execution_count": 108,
   "id": "dd6084c3",
   "metadata": {},
   "outputs": [],
   "source": [
    "import pandas as pd\n",
    "from datetime import datetime\n",
    "\n",
    "def get_usd_code(month):\n",
    "    return 'USD01' if month == 1 else f'USD{month-1}{month}'\n",
    "\n",
    "def get_usd_code_invert(month):\n",
    "    return 'USD01' if month == 1 else f'USD{month}{month-1}'\n",
    "\n",
    "def retrieve_current_year_trade_data(year = 2025, full_year = True):\n",
    "    now = datetime.now()\n",
    "    year = year\n",
    "    if full_year:\n",
    "        last_month = 12\n",
    "    else: \n",
    "        last_month = now.month - 1\n",
    "    all_data = []\n",
    "\n",
    "    for m in range(last_month, 0, -1):\n",
    "        usd_code = get_usd_code(m)\n",
    "        usd_code_invert = get_usd_code_invert(m)\n",
    "\n",
    "        success = False\n",
    "        \n",
    "        # Try both URL patterns\n",
    "        for url in [\n",
    "            f'http://english.customs.gov.cn/Excel/2-en-%E7%BE%8E%E5%85%83-{year}-{m}_{usd_code}.xls',\n",
    "            f'http://english.customs.gov.cn/Excel/2-en-%E7%BE%8E%E5%85%83-{year}-{m-1}-{m}_{usd_code}.xls',\n",
    "            f'http://english.customs.gov.cn/Excel/2-en-%E7%BE%8E%E5%85%83-{year}-{m}_USD{m}.xls'\n",
    "        ]:\n",
    "            if (year == 2024 and m == 10):\n",
    "                url= f'http://english.customs.gov.cn/Excel/2-en-%E7%BE%8E%E5%85%83-{year}-{m}_USD19.xls'\n",
    "            elif (year == 2024 and m == 4):\n",
    "                url =  f'http://english.customs.gov.cn/Excel/2-en-%E7%BE%8E%E5%85%83-{year}-{m}_{usd_code_invert}.xls'\n",
    "            \n",
    "            print(f\"Attempting {url}...\", end=' ')\n",
    "            try:\n",
    "                df = pd.read_excel(\n",
    "                    url,\n",
    "                    storage_options={'User-Agent': 'Mozilla/5.0'},\n",
    "                    skiprows=9,\n",
    "                    header=None\n",
    "                )\n",
    "                \n",
    "                # Search for \"Export-Import Balance\" in entire DataFrame\n",
    "                for row in range(df.shape[0]):\n",
    "                    for col in range(df.shape[1]):\n",
    "                        if df.iat[row, col] == 'Export-Import Balance':\n",
    "                            # Handle February special case (only 1 value)\n",
    "                            if m == 2:\n",
    "                                fy_value = df.iat[row, col+1]\n",
    "                                month_value = fy_value  # YTD = month value for Feb\n",
    "                            else:\n",
    "                                month_value = df.iat[row, col+1]\n",
    "                                fy_value = df.iat[row, col+2]\n",
    "                            \n",
    "                            # Clean numerical values\n",
    "                            month_value = float(str(month_value).replace(',', '')) \n",
    "                            fy_value = float(str(fy_value).replace(',', '')) \n",
    "                            \n",
    "                            all_data.append({\n",
    "                                'Period': f'{year}-{m:02}',\n",
    "                                'Metrics': 'Export-Import Balance',\n",
    "                                'Month': month_value,\n",
    "                                'FY': fy_value\n",
    "                            })\n",
    "                            success = True\n",
    "                            #print(\"Success ✓\")\n",
    "                            #break\n",
    "                for row in range(df.shape[0]):\n",
    "                    for col in range(df.shape[1]):\n",
    "                        if df.iat[row, col] == 'Total Export':\n",
    "                            # Handle February special case (only 1 value)\n",
    "                            if m == 2:\n",
    "                                fy_value = df.iat[row, col+1]\n",
    "                                month_value = fy_value  # YTD = month value for Feb\n",
    "                            else:\n",
    "                                month_value = df.iat[row, col+1]\n",
    "                                fy_value = df.iat[row, col+2]\n",
    "                            \n",
    "                            # Clean numerical values\n",
    "                            month_value = float(str(month_value).replace(',', '')) \n",
    "                            fy_value = float(str(fy_value).replace(',', '')) \n",
    "                            \n",
    "                            all_data.append({\n",
    "                                'Period': f'{year}-{m:02}',\n",
    "                                'Metrics': 'Total Export',\n",
    "                                'Month': month_value,\n",
    "                                'FY': fy_value\n",
    "                            })\n",
    "                            success = True\n",
    "                            #print(\"Success ✓\")\n",
    "                            #break\n",
    "                for row in range(df.shape[0]):\n",
    "                    for col in range(df.shape[1]):\n",
    "                        if df.iat[row, col] == 'Total Import':\n",
    "                            # Handle February special case (only 1 value)\n",
    "                            if m == 2:\n",
    "                                fy_value = df.iat[row, col+1]\n",
    "                                month_value = fy_value  # YTD = month value for Feb\n",
    "                            else:\n",
    "                                month_value = df.iat[row, col+1]\n",
    "                                fy_value = df.iat[row, col+2]\n",
    "                            \n",
    "                            # Clean numerical values\n",
    "                            month_value = float(str(month_value).replace(',', '')) \n",
    "                            fy_value = float(str(fy_value).replace(',', '')) \n",
    "                            \n",
    "                            all_data.append({\n",
    "                                'Period': f'{year}-{m:02}',\n",
    "                                'Metrics': 'Total Import',\n",
    "                                'Month': month_value,\n",
    "                                'FY': fy_value\n",
    "                            })\n",
    "                            success = True\n",
    "                            print(\"Success ✓\")\n",
    "                            break\n",
    "                #if success: break\n",
    "                \n",
    "                if success: break  # Exit URL pattern loop if successful\n",
    "                \n",
    "            except Exception as e:\n",
    "                print(f\"Failed ({str(e)})\")\n",
    "\n",
    "        if not success:\n",
    "            print(f\"All patterns failed for month {m}, stopping\")\n",
    "            break\n",
    "\n",
    "    return pd.DataFrame(all_data) if all_data else pd.DataFrame()\n",
    "\n",
    "# Execute and display results\n",
    "# current_year_trade = retrieve_current_year_trade_data(year=2024, full_year=True)\n",
    "# print(\"\\nFinal Dataset:\")\n",
    "# print(current_year_trade)"
   ]
  },
  {
   "cell_type": "code",
   "execution_count": null,
   "id": "41b183bb",
   "metadata": {},
   "outputs": [],
   "source": []
  },
  {
   "cell_type": "code",
   "execution_count": null,
   "id": "82212141",
   "metadata": {},
   "outputs": [],
   "source": [
    "china2024 = retrieve_current_year_trade_data(year=2024, full_year=True)\n",
    "china2025 = retrieve_current_year_trade_data(year=2025, full_year=False)"
   ]
  },
  {
   "cell_type": "code",
   "execution_count": 109,
   "id": "23b7f4ee",
   "metadata": {},
   "outputs": [],
   "source": [
    "finalchina = pd.concat([china2024.sort_values('Period',ascending=True), china2025.sort_values('Period',ascending=True)],axis = 0)\n",
    "finalchina.to_csv(r\"C:\\Users\\jonas\\Downloads\\finpage-2\\src\\chinesetrade.csv\")"
   ]
  },
  {
   "cell_type": "code",
   "execution_count": 110,
   "id": "390bf981",
   "metadata": {},
   "outputs": [
    {
     "data": {
      "text/html": [
       "<div>\n",
       "<style scoped>\n",
       "    .dataframe tbody tr th:only-of-type {\n",
       "        vertical-align: middle;\n",
       "    }\n",
       "\n",
       "    .dataframe tbody tr th {\n",
       "        vertical-align: top;\n",
       "    }\n",
       "\n",
       "    .dataframe thead th {\n",
       "        text-align: right;\n",
       "    }\n",
       "</style>\n",
       "<table border=\"1\" class=\"dataframe\">\n",
       "  <thead>\n",
       "    <tr style=\"text-align: right;\">\n",
       "      <th></th>\n",
       "      <th>Period</th>\n",
       "      <th>Metrics</th>\n",
       "      <th>Month</th>\n",
       "      <th>FY</th>\n",
       "    </tr>\n",
       "  </thead>\n",
       "  <tbody>\n",
       "    <tr>\n",
       "      <th>32</th>\n",
       "      <td>2024-02</td>\n",
       "      <td>Total Import</td>\n",
       "      <td>4028.505995</td>\n",
       "      <td>4028.505995</td>\n",
       "    </tr>\n",
       "    <tr>\n",
       "      <th>30</th>\n",
       "      <td>2024-02</td>\n",
       "      <td>Export-Import Balance</td>\n",
       "      <td>1251.633445</td>\n",
       "      <td>1251.633445</td>\n",
       "    </tr>\n",
       "    <tr>\n",
       "      <th>31</th>\n",
       "      <td>2024-02</td>\n",
       "      <td>Total Export</td>\n",
       "      <td>5280.139440</td>\n",
       "      <td>5280.139440</td>\n",
       "    </tr>\n",
       "    <tr>\n",
       "      <th>29</th>\n",
       "      <td>2024-03</td>\n",
       "      <td>Total Import</td>\n",
       "      <td>2211.306111</td>\n",
       "      <td>6238.387491</td>\n",
       "    </tr>\n",
       "    <tr>\n",
       "      <th>28</th>\n",
       "      <td>2024-03</td>\n",
       "      <td>Total Export</td>\n",
       "      <td>2796.816749</td>\n",
       "      <td>8074.965496</td>\n",
       "    </tr>\n",
       "    <tr>\n",
       "      <th>27</th>\n",
       "      <td>2024-03</td>\n",
       "      <td>Export-Import Balance</td>\n",
       "      <td>585.510637</td>\n",
       "      <td>1836.578006</td>\n",
       "    </tr>\n",
       "    <tr>\n",
       "      <th>26</th>\n",
       "      <td>2024-04</td>\n",
       "      <td>Total Import</td>\n",
       "      <td>2201.018098</td>\n",
       "      <td>8439.104550</td>\n",
       "    </tr>\n",
       "    <tr>\n",
       "      <th>25</th>\n",
       "      <td>2024-04</td>\n",
       "      <td>Total Export</td>\n",
       "      <td>2924.534978</td>\n",
       "      <td>10995.703608</td>\n",
       "    </tr>\n",
       "    <tr>\n",
       "      <th>24</th>\n",
       "      <td>2024-04</td>\n",
       "      <td>Export-Import Balance</td>\n",
       "      <td>723.516880</td>\n",
       "      <td>2556.599059</td>\n",
       "    </tr>\n",
       "    <tr>\n",
       "      <th>23</th>\n",
       "      <td>2024-05</td>\n",
       "      <td>Total Import</td>\n",
       "      <td>2197.258982</td>\n",
       "      <td>10635.567569</td>\n",
       "    </tr>\n",
       "    <tr>\n",
       "      <th>22</th>\n",
       "      <td>2024-05</td>\n",
       "      <td>Total Export</td>\n",
       "      <td>3023.480189</td>\n",
       "      <td>14007.630159</td>\n",
       "    </tr>\n",
       "    <tr>\n",
       "      <th>21</th>\n",
       "      <td>2024-05</td>\n",
       "      <td>Export-Import Balance</td>\n",
       "      <td>826.221207</td>\n",
       "      <td>3372.062590</td>\n",
       "    </tr>\n",
       "    <tr>\n",
       "      <th>20</th>\n",
       "      <td>2024-06</td>\n",
       "      <td>Total Import</td>\n",
       "      <td>2088.079829</td>\n",
       "      <td>12725.756939</td>\n",
       "    </tr>\n",
       "    <tr>\n",
       "      <th>19</th>\n",
       "      <td>2024-06</td>\n",
       "      <td>Total Export</td>\n",
       "      <td>3078.545049</td>\n",
       "      <td>17075.670022</td>\n",
       "    </tr>\n",
       "    <tr>\n",
       "      <th>18</th>\n",
       "      <td>2024-06</td>\n",
       "      <td>Export-Import Balance</td>\n",
       "      <td>990.465220</td>\n",
       "      <td>4349.913084</td>\n",
       "    </tr>\n",
       "    <tr>\n",
       "      <th>17</th>\n",
       "      <td>2024-07</td>\n",
       "      <td>Total Import</td>\n",
       "      <td>2159.095996</td>\n",
       "      <td>14885.196360</td>\n",
       "    </tr>\n",
       "    <tr>\n",
       "      <th>16</th>\n",
       "      <td>2024-07</td>\n",
       "      <td>Total Export</td>\n",
       "      <td>3005.565254</td>\n",
       "      <td>20065.213323</td>\n",
       "    </tr>\n",
       "    <tr>\n",
       "      <th>15</th>\n",
       "      <td>2024-07</td>\n",
       "      <td>Export-Import Balance</td>\n",
       "      <td>846.469259</td>\n",
       "      <td>5180.016963</td>\n",
       "    </tr>\n",
       "    <tr>\n",
       "      <th>14</th>\n",
       "      <td>2024-08</td>\n",
       "      <td>Total Import</td>\n",
       "      <td>2176.257075</td>\n",
       "      <td>17062.690670</td>\n",
       "    </tr>\n",
       "    <tr>\n",
       "      <th>13</th>\n",
       "      <td>2024-08</td>\n",
       "      <td>Total Export</td>\n",
       "      <td>3086.472620</td>\n",
       "      <td>23147.658925</td>\n",
       "    </tr>\n",
       "    <tr>\n",
       "      <th>12</th>\n",
       "      <td>2024-08</td>\n",
       "      <td>Export-Import Balance</td>\n",
       "      <td>910.215546</td>\n",
       "      <td>6084.968255</td>\n",
       "    </tr>\n",
       "    <tr>\n",
       "      <th>11</th>\n",
       "      <td>2024-09</td>\n",
       "      <td>Total Import</td>\n",
       "      <td>2220.016110</td>\n",
       "      <td>19281.577236</td>\n",
       "    </tr>\n",
       "    <tr>\n",
       "      <th>10</th>\n",
       "      <td>2024-09</td>\n",
       "      <td>Total Export</td>\n",
       "      <td>3037.121345</td>\n",
       "      <td>26176.602926</td>\n",
       "    </tr>\n",
       "    <tr>\n",
       "      <th>9</th>\n",
       "      <td>2024-09</td>\n",
       "      <td>Export-Import Balance</td>\n",
       "      <td>817.105235</td>\n",
       "      <td>6895.025690</td>\n",
       "    </tr>\n",
       "    <tr>\n",
       "      <th>8</th>\n",
       "      <td>2024-10</td>\n",
       "      <td>Total Import</td>\n",
       "      <td>2133.396046</td>\n",
       "      <td>21411.905385</td>\n",
       "    </tr>\n",
       "    <tr>\n",
       "      <th>7</th>\n",
       "      <td>2024-10</td>\n",
       "      <td>Total Export</td>\n",
       "      <td>3090.584231</td>\n",
       "      <td>29264.554047</td>\n",
       "    </tr>\n",
       "    <tr>\n",
       "      <th>6</th>\n",
       "      <td>2024-10</td>\n",
       "      <td>Export-Import Balance</td>\n",
       "      <td>957.188184</td>\n",
       "      <td>7852.648662</td>\n",
       "    </tr>\n",
       "    <tr>\n",
       "      <th>5</th>\n",
       "      <td>2024-11</td>\n",
       "      <td>Total Import</td>\n",
       "      <td>2148.673272</td>\n",
       "      <td>23560.342581</td>\n",
       "    </tr>\n",
       "    <tr>\n",
       "      <th>4</th>\n",
       "      <td>2024-11</td>\n",
       "      <td>Total Export</td>\n",
       "      <td>3123.104664</td>\n",
       "      <td>32407.083265</td>\n",
       "    </tr>\n",
       "    <tr>\n",
       "      <th>3</th>\n",
       "      <td>2024-11</td>\n",
       "      <td>Export-Import Balance</td>\n",
       "      <td>974.431393</td>\n",
       "      <td>8846.740683</td>\n",
       "    </tr>\n",
       "    <tr>\n",
       "      <th>2</th>\n",
       "      <td>2024-12</td>\n",
       "      <td>Total Import</td>\n",
       "      <td>2307.891259</td>\n",
       "      <td>25850.666675</td>\n",
       "    </tr>\n",
       "    <tr>\n",
       "      <th>1</th>\n",
       "      <td>2024-12</td>\n",
       "      <td>Total Export</td>\n",
       "      <td>3356.270377</td>\n",
       "      <td>35772.220279</td>\n",
       "    </tr>\n",
       "    <tr>\n",
       "      <th>0</th>\n",
       "      <td>2024-12</td>\n",
       "      <td>Export-Import Balance</td>\n",
       "      <td>1048.379118</td>\n",
       "      <td>9921.553604</td>\n",
       "    </tr>\n",
       "    <tr>\n",
       "      <th>3</th>\n",
       "      <td>2025-02</td>\n",
       "      <td>Export-Import Balance</td>\n",
       "      <td>1705.151928</td>\n",
       "      <td>1705.151928</td>\n",
       "    </tr>\n",
       "    <tr>\n",
       "      <th>4</th>\n",
       "      <td>2025-02</td>\n",
       "      <td>Total Export</td>\n",
       "      <td>5399.407908</td>\n",
       "      <td>5399.407908</td>\n",
       "    </tr>\n",
       "    <tr>\n",
       "      <th>5</th>\n",
       "      <td>2025-02</td>\n",
       "      <td>Total Import</td>\n",
       "      <td>3694.255980</td>\n",
       "      <td>3694.255980</td>\n",
       "    </tr>\n",
       "    <tr>\n",
       "      <th>0</th>\n",
       "      <td>2025-03</td>\n",
       "      <td>Export-Import Balance</td>\n",
       "      <td>1026.424638</td>\n",
       "      <td>2729.673854</td>\n",
       "    </tr>\n",
       "    <tr>\n",
       "      <th>1</th>\n",
       "      <td>2025-03</td>\n",
       "      <td>Total Export</td>\n",
       "      <td>3139.117932</td>\n",
       "      <td>8536.674419</td>\n",
       "    </tr>\n",
       "    <tr>\n",
       "      <th>2</th>\n",
       "      <td>2025-03</td>\n",
       "      <td>Total Import</td>\n",
       "      <td>2112.693294</td>\n",
       "      <td>5807.000565</td>\n",
       "    </tr>\n",
       "  </tbody>\n",
       "</table>\n",
       "</div>"
      ],
      "text/plain": [
       "     Period                Metrics        Month            FY\n",
       "32  2024-02           Total Import  4028.505995   4028.505995\n",
       "30  2024-02  Export-Import Balance  1251.633445   1251.633445\n",
       "31  2024-02           Total Export  5280.139440   5280.139440\n",
       "29  2024-03           Total Import  2211.306111   6238.387491\n",
       "28  2024-03           Total Export  2796.816749   8074.965496\n",
       "27  2024-03  Export-Import Balance   585.510637   1836.578006\n",
       "26  2024-04           Total Import  2201.018098   8439.104550\n",
       "25  2024-04           Total Export  2924.534978  10995.703608\n",
       "24  2024-04  Export-Import Balance   723.516880   2556.599059\n",
       "23  2024-05           Total Import  2197.258982  10635.567569\n",
       "22  2024-05           Total Export  3023.480189  14007.630159\n",
       "21  2024-05  Export-Import Balance   826.221207   3372.062590\n",
       "20  2024-06           Total Import  2088.079829  12725.756939\n",
       "19  2024-06           Total Export  3078.545049  17075.670022\n",
       "18  2024-06  Export-Import Balance   990.465220   4349.913084\n",
       "17  2024-07           Total Import  2159.095996  14885.196360\n",
       "16  2024-07           Total Export  3005.565254  20065.213323\n",
       "15  2024-07  Export-Import Balance   846.469259   5180.016963\n",
       "14  2024-08           Total Import  2176.257075  17062.690670\n",
       "13  2024-08           Total Export  3086.472620  23147.658925\n",
       "12  2024-08  Export-Import Balance   910.215546   6084.968255\n",
       "11  2024-09           Total Import  2220.016110  19281.577236\n",
       "10  2024-09           Total Export  3037.121345  26176.602926\n",
       "9   2024-09  Export-Import Balance   817.105235   6895.025690\n",
       "8   2024-10           Total Import  2133.396046  21411.905385\n",
       "7   2024-10           Total Export  3090.584231  29264.554047\n",
       "6   2024-10  Export-Import Balance   957.188184   7852.648662\n",
       "5   2024-11           Total Import  2148.673272  23560.342581\n",
       "4   2024-11           Total Export  3123.104664  32407.083265\n",
       "3   2024-11  Export-Import Balance   974.431393   8846.740683\n",
       "2   2024-12           Total Import  2307.891259  25850.666675\n",
       "1   2024-12           Total Export  3356.270377  35772.220279\n",
       "0   2024-12  Export-Import Balance  1048.379118   9921.553604\n",
       "3   2025-02  Export-Import Balance  1705.151928   1705.151928\n",
       "4   2025-02           Total Export  5399.407908   5399.407908\n",
       "5   2025-02           Total Import  3694.255980   3694.255980\n",
       "0   2025-03  Export-Import Balance  1026.424638   2729.673854\n",
       "1   2025-03           Total Export  3139.117932   8536.674419\n",
       "2   2025-03           Total Import  2112.693294   5807.000565"
      ]
     },
     "execution_count": 110,
     "metadata": {},
     "output_type": "execute_result"
    }
   ],
   "source": [
    "finalchina"
   ]
  },
  {
   "cell_type": "code",
   "execution_count": null,
   "id": "4feeefa1",
   "metadata": {},
   "outputs": [],
   "source": [
    "import plotly.graph_objects as go\n",
    "import plotly.express as px\n",
    "import pandas as pd\n",
    "\n",
    "def minimalistic_lineplot_all_metrics(\n",
    "    df, value_col='Month', metrics_col='None', date_col = 'Period',\n",
    "    title='', y_label='', return_fig=False, palette=None\n",
    "):\n",
    "    # Ensure Period is datetime for proper x-axis\n",
    "    if not pd.api.types.is_datetime64_any_dtype(df[date_col]):\n",
    "        df[date_col] = pd.to_datetime(df[date_col])\n",
    "\n",
    "    if metrics_col != 'None':\n",
    "        metrics = df[metrics_col].unique()\n",
    "    latest_period = df[date_col].max()\n",
    "    plot_df = df.copy()\n",
    "\n",
    "    if palette is None:\n",
    "        palette = px.colors.qualitative.Pastel\n",
    "    \n",
    "    if metrics_col != 'None':\n",
    "        fig = px.line(\n",
    "            plot_df,\n",
    "            x=date_col, y=value_col,\n",
    "            color=metrics_col,\n",
    "            title=title,\n",
    "            labels={value_col: y_label, date_col: ''},\n",
    "            color_discrete_sequence=palette\n",
    "        )\n",
    "    else:\n",
    "        fig = px.line(\n",
    "            plot_df,\n",
    "            x=date_col, y=value_col,\n",
    "            title=title,\n",
    "            labels={value_col: y_label, date_col: ''},\n",
    "            color_discrete_sequence=palette\n",
    "        )\n",
    "\n",
    "    # Add labels at the end of each line\n",
    "    if metrics_col != 'None':\n",
    "        for metric in metrics:\n",
    "            metric_data = plot_df[(plot_df[metrics_col] == metric) & (plot_df[date_col] == latest_period)]\n",
    "            if not metric_data.empty:\n",
    "                x_val = latest_period\n",
    "                y_val = metric_data[value_col].values[0]\n",
    "                label_text = f\"{metric}: {y_val:,.0f}\"\n",
    "                fig.add_trace(go.Scatter(\n",
    "                    x=[x_val], y=[y_val],\n",
    "                    mode='text',\n",
    "                    text=[label_text],\n",
    "                    textposition='middle right',\n",
    "                    showlegend=False,\n",
    "                    textfont=dict(size=12, color='black')\n",
    "                ))\n",
    "    else: \n",
    "        metric_data = plot_df[(plot_df[date_col] == latest_period)]\n",
    "        if not metric_data.empty:\n",
    "            x_val = latest_period\n",
    "            y_val = metric_data[value_col].values[0]\n",
    "            label_text = f\"{value_col}: {y_val:,.0f}\"\n",
    "            fig.add_trace(go.Scatter(\n",
    "                x=[x_val], y=[y_val],\n",
    "                mode='text',\n",
    "                text=[label_text],\n",
    "                textposition='middle right',\n",
    "                showlegend=False,\n",
    "                textfont=dict(size=12, color='black')\n",
    "            ))\n",
    "\n",
    "    fig.update_layout(\n",
    "        hovermode='x unified',\n",
    "        height=600,\n",
    "        plot_bgcolor='white',\n",
    "        paper_bgcolor='white',\n",
    "        font=dict(family='Arial', size=12, color='black'),\n",
    "        legend_title_text='',\n",
    "        xaxis=dict(\n",
    "            showgrid=False,\n",
    "            zeroline=False,\n",
    "            showline=True,\n",
    "            linecolor='lightgrey',\n",
    "            ticks='outside',\n",
    "            tickcolor='lightgrey'\n",
    "        ),\n",
    "        yaxis=dict(\n",
    "            showgrid=True,\n",
    "            gridcolor='lightgrey',\n",
    "            zeroline=False,\n",
    "            showline=True,\n",
    "            linecolor='lightgrey',\n",
    "            ticks='outside',\n",
    "            tickcolor='lightgrey',\n",
    "            tickformat=',.0f'\n",
    "        )\n",
    "    )\n",
    "\n",
    "    if return_fig:\n",
    "        return fig\n",
    "    else:\n",
    "        fig.show()\n",
    "\n",
    "\n",
    "import pandas as pd\n",
    "from numpy import array\n",
    "from numpy import hstack\n",
    "#import dropbox\n",
    "import datetime\n",
    "import numpy as np\n",
    "#from pandas_datareader import wb\n",
    "import sys \n",
    "sys.version\n",
    "from fredapi import Fred\n",
    "\n",
    "FRED_API_KEY = '29f9bb6865c0b3be320b44a846d539ea'\n",
    "fred = Fred(FRED_API_KEY)\n",
    "\n",
    "#%matplotlib inline\n",
    "from IPython.core.pylabtools import figsize\n",
    "from fredapi import Fred\n",
    "\n",
    "\n",
    "start = datetime.datetime(1980, 1, 1)\n",
    "#end = datetime(2022, 5, 27)\n",
    "end = datetime.datetime.now()\n",
    "\n",
    "completedates = pd.DataFrame(pd.date_range(start=start, end=datetime.datetime.now(), freq='B'), columns=['Date'])\n",
    "\n",
    "FRED_API_KEY = '29f9bb6865c0b3be320b44a846d539ea'\n",
    "fred = Fred(FRED_API_KEY)\n",
    "\n",
    "tradebalance = fred.get_series_all_releases('BOPGSTB', realtime_start=start.date())\n",
    "\n",
    "tradebalance = tradebalance.drop('date', axis=1).rename(columns={'realtime_start' : 'Date'}).set_index('Date')\n",
    "tradebalance = tradebalance.sort_index()\n",
    "\n",
    "tradebalance.reset_index(inplace= True)\n",
    "tradebalance = tradebalance.drop_duplicates(subset='Date', keep='last')\n",
    "tradebalance.sort_values(by='Date', ascending=True, inplace=True)\n",
    "# tradebalance = tradebalance.drop_duplicates('Date', keep='last')\n",
    "\n",
    "# Convert 'value' to float to avoid integer division errors\n",
    "tradebalance['value'] = tradebalance['value'].astype(float)\n",
    "\n",
    "# Calculate MoM/YoY with safety checks\n",
    "tradebalance['MoM'] = (tradebalance['value'] - tradebalance['value'].shift(1).fillna(0)) / tradebalance['value'].shift(1).abs().replace(0, np.nan)\n",
    "tradebalance['YoY'] = (tradebalance['value'] - tradebalance['value'].shift(12).fillna(0)) / tradebalance['value'].shift(12).abs().replace(0, np.nan)\n",
    "\n",
    "# Replace problematic values (inf, -inf, NaN) with 0\n",
    "tradebalance['MoM'] = tradebalance['MoM'].replace([np.inf, -np.inf, np.nan], 0)\n",
    "tradebalance['YoY'] = tradebalance['YoY'].replace([np.inf, -np.inf, np.nan], 0)\n",
    "\n",
    "# Replace inf and -inf with 0\n",
    "tradebalance['MoM'] = tradebalance['MoM'].replace([float('inf'), float('-inf')], 0)\n",
    "tradebalance['YoY'] = tradebalance['YoY'].replace([float('inf'), float('-inf')], 0)\n",
    "\n",
    "\n",
    "tradebalance['RollingMean12'] = tradebalance['value'].pct_change(periods=12).rolling(12, min_periods=1).mean()\n",
    "\n",
    "#tradebalance.reset_index(inplace= True)\n",
    "tradebalance['Date'] = pd.to_datetime(tradebalance['Date']) \n",
    "\n",
    "# tradebalance = tradebalance.merge(release_dates, on=\"Date\")\n",
    "\n",
    "# tradebalance = tradebalance.drop('Date', axis=1).rename(columns={'Release Date' : 'Date'}).set_index('Date')\n",
    "# tradebalance.reset_index(inplace= True)\n",
    "tradebalance.rename({'value':'Trade Balance'}, axis=1, inplace=True)\n",
    "\n",
    "minimalistic_lineplot_all_metrics(finalchina, metrics_col='Metrics', date_col='Period')\n",
    "minimalistic_lineplot_all_metrics(tradebalance[tradebalance.Date > '2024-01-01'], value_col='Trade Balance', metrics_col='None', date_col='Date')"
   ]
  },
  {
   "cell_type": "code",
   "execution_count": 136,
   "id": "da7c3cbe",
   "metadata": {},
   "outputs": [
    {
     "data": {
      "application/vnd.plotly.v1+json": {
       "config": {
        "plotlyServerURL": "https://plot.ly"
       },
       "data": [
        {
         "hovertemplate": "Metrics=Total Import<br>=%{y}<extra></extra>",
         "legendgroup": "Total Import",
         "line": {
          "color": "rgb(102, 197, 204)",
          "dash": "solid"
         },
         "marker": {
          "symbol": "circle"
         },
         "mode": "lines",
         "name": "Total Import",
         "orientation": "v",
         "showlegend": true,
         "type": "scatter",
         "x": [
          "2024-02-01T00:00:00",
          "2024-03-01T00:00:00",
          "2024-04-01T00:00:00",
          "2024-05-01T00:00:00",
          "2024-06-01T00:00:00",
          "2024-07-01T00:00:00",
          "2024-08-01T00:00:00",
          "2024-09-01T00:00:00",
          "2024-10-01T00:00:00",
          "2024-11-01T00:00:00",
          "2024-12-01T00:00:00",
          "2025-02-01T00:00:00",
          "2025-03-01T00:00:00"
         ],
         "xaxis": "x",
         "y": [
          4028.50599466,
          2211.30611145,
          2201.01809805,
          2197.25898175,
          2088.07982922,
          2159.09599592,
          2176.25707477,
          2220.01611024,
          2133.39604641,
          2148.67327188,
          2307.89125894,
          3694.25598014,
          2112.69329402
         ],
         "yaxis": "y"
        },
        {
         "hovertemplate": "Metrics=Export-Import Balance<br>=%{y}<extra></extra>",
         "legendgroup": "Export-Import Balance",
         "line": {
          "color": "rgb(246, 207, 113)",
          "dash": "solid"
         },
         "marker": {
          "symbol": "circle"
         },
         "mode": "lines",
         "name": "Export-Import Balance",
         "orientation": "v",
         "showlegend": true,
         "type": "scatter",
         "x": [
          "2024-02-01T00:00:00",
          "2024-03-01T00:00:00",
          "2024-04-01T00:00:00",
          "2024-05-01T00:00:00",
          "2024-06-01T00:00:00",
          "2024-07-01T00:00:00",
          "2024-08-01T00:00:00",
          "2024-09-01T00:00:00",
          "2024-10-01T00:00:00",
          "2024-11-01T00:00:00",
          "2024-12-01T00:00:00",
          "2025-02-01T00:00:00",
          "2025-03-01T00:00:00"
         ],
         "xaxis": "x",
         "y": [
          1251.63344525,
          585.51063713,
          723.51688013,
          826.22120701,
          990.46522019,
          846.46925855,
          910.21554555,
          817.10523472,
          957.18818427,
          974.4313925,
          1048.37911835,
          1705.15192811,
          1026.42463769
         ],
         "yaxis": "y"
        },
        {
         "hovertemplate": "Metrics=Total Export<br>=%{y}<extra></extra>",
         "legendgroup": "Total Export",
         "line": {
          "color": "rgb(248, 156, 116)",
          "dash": "solid"
         },
         "marker": {
          "symbol": "circle"
         },
         "mode": "lines",
         "name": "Total Export",
         "orientation": "v",
         "showlegend": true,
         "type": "scatter",
         "x": [
          "2024-02-01T00:00:00",
          "2024-03-01T00:00:00",
          "2024-04-01T00:00:00",
          "2024-05-01T00:00:00",
          "2024-06-01T00:00:00",
          "2024-07-01T00:00:00",
          "2024-08-01T00:00:00",
          "2024-09-01T00:00:00",
          "2024-10-01T00:00:00",
          "2024-11-01T00:00:00",
          "2024-12-01T00:00:00",
          "2025-02-01T00:00:00",
          "2025-03-01T00:00:00"
         ],
         "xaxis": "x",
         "y": [
          5280.13943991,
          2796.81674858,
          2924.53497818,
          3023.48018876,
          3078.54504941,
          3005.56525447,
          3086.47262032,
          3037.12134496,
          3090.58423068,
          3123.10466438,
          3356.27037729,
          5399.40790825,
          3139.11793171
         ],
         "yaxis": "y"
        },
        {
         "mode": "text",
         "showlegend": false,
         "text": [
          "Total Import: 2,113"
         ],
         "textfont": {
          "color": "black",
          "size": 12
         },
         "textposition": "middle right",
         "type": "scatter",
         "x": [
          "2025-03-01T00:00:00"
         ],
         "y": [
          2112.69329402
         ]
        },
        {
         "mode": "text",
         "showlegend": false,
         "text": [
          "Export-Import Balance: 1,026"
         ],
         "textfont": {
          "color": "black",
          "size": 12
         },
         "textposition": "middle right",
         "type": "scatter",
         "x": [
          "2025-03-01T00:00:00"
         ],
         "y": [
          1026.42463769
         ]
        },
        {
         "mode": "text",
         "showlegend": false,
         "text": [
          "Total Export: 3,139"
         ],
         "textfont": {
          "color": "black",
          "size": 12
         },
         "textposition": "middle right",
         "type": "scatter",
         "x": [
          "2025-03-01T00:00:00"
         ],
         "y": [
          3139.11793171
         ]
        }
       ],
       "layout": {
        "font": {
         "color": "black",
         "family": "Arial",
         "size": 12
        },
        "height": 600,
        "hovermode": "x unified",
        "legend": {
         "title": {
          "text": ""
         },
         "tracegroupgap": 0
        },
        "margin": {
         "t": 60
        },
        "paper_bgcolor": "white",
        "plot_bgcolor": "white",
        "template": {
         "data": {
          "bar": [
           {
            "error_x": {
             "color": "#2a3f5f"
            },
            "error_y": {
             "color": "#2a3f5f"
            },
            "marker": {
             "line": {
              "color": "#E5ECF6",
              "width": 0.5
             },
             "pattern": {
              "fillmode": "overlay",
              "size": 10,
              "solidity": 0.2
             }
            },
            "type": "bar"
           }
          ],
          "barpolar": [
           {
            "marker": {
             "line": {
              "color": "#E5ECF6",
              "width": 0.5
             },
             "pattern": {
              "fillmode": "overlay",
              "size": 10,
              "solidity": 0.2
             }
            },
            "type": "barpolar"
           }
          ],
          "carpet": [
           {
            "aaxis": {
             "endlinecolor": "#2a3f5f",
             "gridcolor": "white",
             "linecolor": "white",
             "minorgridcolor": "white",
             "startlinecolor": "#2a3f5f"
            },
            "baxis": {
             "endlinecolor": "#2a3f5f",
             "gridcolor": "white",
             "linecolor": "white",
             "minorgridcolor": "white",
             "startlinecolor": "#2a3f5f"
            },
            "type": "carpet"
           }
          ],
          "choropleth": [
           {
            "colorbar": {
             "outlinewidth": 0,
             "ticks": ""
            },
            "type": "choropleth"
           }
          ],
          "contour": [
           {
            "colorbar": {
             "outlinewidth": 0,
             "ticks": ""
            },
            "colorscale": [
             [
              0,
              "#0d0887"
             ],
             [
              0.1111111111111111,
              "#46039f"
             ],
             [
              0.2222222222222222,
              "#7201a8"
             ],
             [
              0.3333333333333333,
              "#9c179e"
             ],
             [
              0.4444444444444444,
              "#bd3786"
             ],
             [
              0.5555555555555556,
              "#d8576b"
             ],
             [
              0.6666666666666666,
              "#ed7953"
             ],
             [
              0.7777777777777778,
              "#fb9f3a"
             ],
             [
              0.8888888888888888,
              "#fdca26"
             ],
             [
              1,
              "#f0f921"
             ]
            ],
            "type": "contour"
           }
          ],
          "contourcarpet": [
           {
            "colorbar": {
             "outlinewidth": 0,
             "ticks": ""
            },
            "type": "contourcarpet"
           }
          ],
          "heatmap": [
           {
            "colorbar": {
             "outlinewidth": 0,
             "ticks": ""
            },
            "colorscale": [
             [
              0,
              "#0d0887"
             ],
             [
              0.1111111111111111,
              "#46039f"
             ],
             [
              0.2222222222222222,
              "#7201a8"
             ],
             [
              0.3333333333333333,
              "#9c179e"
             ],
             [
              0.4444444444444444,
              "#bd3786"
             ],
             [
              0.5555555555555556,
              "#d8576b"
             ],
             [
              0.6666666666666666,
              "#ed7953"
             ],
             [
              0.7777777777777778,
              "#fb9f3a"
             ],
             [
              0.8888888888888888,
              "#fdca26"
             ],
             [
              1,
              "#f0f921"
             ]
            ],
            "type": "heatmap"
           }
          ],
          "heatmapgl": [
           {
            "colorbar": {
             "outlinewidth": 0,
             "ticks": ""
            },
            "colorscale": [
             [
              0,
              "#0d0887"
             ],
             [
              0.1111111111111111,
              "#46039f"
             ],
             [
              0.2222222222222222,
              "#7201a8"
             ],
             [
              0.3333333333333333,
              "#9c179e"
             ],
             [
              0.4444444444444444,
              "#bd3786"
             ],
             [
              0.5555555555555556,
              "#d8576b"
             ],
             [
              0.6666666666666666,
              "#ed7953"
             ],
             [
              0.7777777777777778,
              "#fb9f3a"
             ],
             [
              0.8888888888888888,
              "#fdca26"
             ],
             [
              1,
              "#f0f921"
             ]
            ],
            "type": "heatmapgl"
           }
          ],
          "histogram": [
           {
            "marker": {
             "pattern": {
              "fillmode": "overlay",
              "size": 10,
              "solidity": 0.2
             }
            },
            "type": "histogram"
           }
          ],
          "histogram2d": [
           {
            "colorbar": {
             "outlinewidth": 0,
             "ticks": ""
            },
            "colorscale": [
             [
              0,
              "#0d0887"
             ],
             [
              0.1111111111111111,
              "#46039f"
             ],
             [
              0.2222222222222222,
              "#7201a8"
             ],
             [
              0.3333333333333333,
              "#9c179e"
             ],
             [
              0.4444444444444444,
              "#bd3786"
             ],
             [
              0.5555555555555556,
              "#d8576b"
             ],
             [
              0.6666666666666666,
              "#ed7953"
             ],
             [
              0.7777777777777778,
              "#fb9f3a"
             ],
             [
              0.8888888888888888,
              "#fdca26"
             ],
             [
              1,
              "#f0f921"
             ]
            ],
            "type": "histogram2d"
           }
          ],
          "histogram2dcontour": [
           {
            "colorbar": {
             "outlinewidth": 0,
             "ticks": ""
            },
            "colorscale": [
             [
              0,
              "#0d0887"
             ],
             [
              0.1111111111111111,
              "#46039f"
             ],
             [
              0.2222222222222222,
              "#7201a8"
             ],
             [
              0.3333333333333333,
              "#9c179e"
             ],
             [
              0.4444444444444444,
              "#bd3786"
             ],
             [
              0.5555555555555556,
              "#d8576b"
             ],
             [
              0.6666666666666666,
              "#ed7953"
             ],
             [
              0.7777777777777778,
              "#fb9f3a"
             ],
             [
              0.8888888888888888,
              "#fdca26"
             ],
             [
              1,
              "#f0f921"
             ]
            ],
            "type": "histogram2dcontour"
           }
          ],
          "mesh3d": [
           {
            "colorbar": {
             "outlinewidth": 0,
             "ticks": ""
            },
            "type": "mesh3d"
           }
          ],
          "parcoords": [
           {
            "line": {
             "colorbar": {
              "outlinewidth": 0,
              "ticks": ""
             }
            },
            "type": "parcoords"
           }
          ],
          "pie": [
           {
            "automargin": true,
            "type": "pie"
           }
          ],
          "scatter": [
           {
            "fillpattern": {
             "fillmode": "overlay",
             "size": 10,
             "solidity": 0.2
            },
            "type": "scatter"
           }
          ],
          "scatter3d": [
           {
            "line": {
             "colorbar": {
              "outlinewidth": 0,
              "ticks": ""
             }
            },
            "marker": {
             "colorbar": {
              "outlinewidth": 0,
              "ticks": ""
             }
            },
            "type": "scatter3d"
           }
          ],
          "scattercarpet": [
           {
            "marker": {
             "colorbar": {
              "outlinewidth": 0,
              "ticks": ""
             }
            },
            "type": "scattercarpet"
           }
          ],
          "scattergeo": [
           {
            "marker": {
             "colorbar": {
              "outlinewidth": 0,
              "ticks": ""
             }
            },
            "type": "scattergeo"
           }
          ],
          "scattergl": [
           {
            "marker": {
             "colorbar": {
              "outlinewidth": 0,
              "ticks": ""
             }
            },
            "type": "scattergl"
           }
          ],
          "scattermapbox": [
           {
            "marker": {
             "colorbar": {
              "outlinewidth": 0,
              "ticks": ""
             }
            },
            "type": "scattermapbox"
           }
          ],
          "scatterpolar": [
           {
            "marker": {
             "colorbar": {
              "outlinewidth": 0,
              "ticks": ""
             }
            },
            "type": "scatterpolar"
           }
          ],
          "scatterpolargl": [
           {
            "marker": {
             "colorbar": {
              "outlinewidth": 0,
              "ticks": ""
             }
            },
            "type": "scatterpolargl"
           }
          ],
          "scatterternary": [
           {
            "marker": {
             "colorbar": {
              "outlinewidth": 0,
              "ticks": ""
             }
            },
            "type": "scatterternary"
           }
          ],
          "surface": [
           {
            "colorbar": {
             "outlinewidth": 0,
             "ticks": ""
            },
            "colorscale": [
             [
              0,
              "#0d0887"
             ],
             [
              0.1111111111111111,
              "#46039f"
             ],
             [
              0.2222222222222222,
              "#7201a8"
             ],
             [
              0.3333333333333333,
              "#9c179e"
             ],
             [
              0.4444444444444444,
              "#bd3786"
             ],
             [
              0.5555555555555556,
              "#d8576b"
             ],
             [
              0.6666666666666666,
              "#ed7953"
             ],
             [
              0.7777777777777778,
              "#fb9f3a"
             ],
             [
              0.8888888888888888,
              "#fdca26"
             ],
             [
              1,
              "#f0f921"
             ]
            ],
            "type": "surface"
           }
          ],
          "table": [
           {
            "cells": {
             "fill": {
              "color": "#EBF0F8"
             },
             "line": {
              "color": "white"
             }
            },
            "header": {
             "fill": {
              "color": "#C8D4E3"
             },
             "line": {
              "color": "white"
             }
            },
            "type": "table"
           }
          ]
         },
         "layout": {
          "annotationdefaults": {
           "arrowcolor": "#2a3f5f",
           "arrowhead": 0,
           "arrowwidth": 1
          },
          "autotypenumbers": "strict",
          "coloraxis": {
           "colorbar": {
            "outlinewidth": 0,
            "ticks": ""
           }
          },
          "colorscale": {
           "diverging": [
            [
             0,
             "#8e0152"
            ],
            [
             0.1,
             "#c51b7d"
            ],
            [
             0.2,
             "#de77ae"
            ],
            [
             0.3,
             "#f1b6da"
            ],
            [
             0.4,
             "#fde0ef"
            ],
            [
             0.5,
             "#f7f7f7"
            ],
            [
             0.6,
             "#e6f5d0"
            ],
            [
             0.7,
             "#b8e186"
            ],
            [
             0.8,
             "#7fbc41"
            ],
            [
             0.9,
             "#4d9221"
            ],
            [
             1,
             "#276419"
            ]
           ],
           "sequential": [
            [
             0,
             "#0d0887"
            ],
            [
             0.1111111111111111,
             "#46039f"
            ],
            [
             0.2222222222222222,
             "#7201a8"
            ],
            [
             0.3333333333333333,
             "#9c179e"
            ],
            [
             0.4444444444444444,
             "#bd3786"
            ],
            [
             0.5555555555555556,
             "#d8576b"
            ],
            [
             0.6666666666666666,
             "#ed7953"
            ],
            [
             0.7777777777777778,
             "#fb9f3a"
            ],
            [
             0.8888888888888888,
             "#fdca26"
            ],
            [
             1,
             "#f0f921"
            ]
           ],
           "sequentialminus": [
            [
             0,
             "#0d0887"
            ],
            [
             0.1111111111111111,
             "#46039f"
            ],
            [
             0.2222222222222222,
             "#7201a8"
            ],
            [
             0.3333333333333333,
             "#9c179e"
            ],
            [
             0.4444444444444444,
             "#bd3786"
            ],
            [
             0.5555555555555556,
             "#d8576b"
            ],
            [
             0.6666666666666666,
             "#ed7953"
            ],
            [
             0.7777777777777778,
             "#fb9f3a"
            ],
            [
             0.8888888888888888,
             "#fdca26"
            ],
            [
             1,
             "#f0f921"
            ]
           ]
          },
          "colorway": [
           "#636efa",
           "#EF553B",
           "#00cc96",
           "#ab63fa",
           "#FFA15A",
           "#19d3f3",
           "#FF6692",
           "#B6E880",
           "#FF97FF",
           "#FECB52"
          ],
          "font": {
           "color": "#2a3f5f"
          },
          "geo": {
           "bgcolor": "white",
           "lakecolor": "white",
           "landcolor": "#E5ECF6",
           "showlakes": true,
           "showland": true,
           "subunitcolor": "white"
          },
          "hoverlabel": {
           "align": "left"
          },
          "hovermode": "closest",
          "mapbox": {
           "style": "light"
          },
          "paper_bgcolor": "white",
          "plot_bgcolor": "#E5ECF6",
          "polar": {
           "angularaxis": {
            "gridcolor": "white",
            "linecolor": "white",
            "ticks": ""
           },
           "bgcolor": "#E5ECF6",
           "radialaxis": {
            "gridcolor": "white",
            "linecolor": "white",
            "ticks": ""
           }
          },
          "scene": {
           "xaxis": {
            "backgroundcolor": "#E5ECF6",
            "gridcolor": "white",
            "gridwidth": 2,
            "linecolor": "white",
            "showbackground": true,
            "ticks": "",
            "zerolinecolor": "white"
           },
           "yaxis": {
            "backgroundcolor": "#E5ECF6",
            "gridcolor": "white",
            "gridwidth": 2,
            "linecolor": "white",
            "showbackground": true,
            "ticks": "",
            "zerolinecolor": "white"
           },
           "zaxis": {
            "backgroundcolor": "#E5ECF6",
            "gridcolor": "white",
            "gridwidth": 2,
            "linecolor": "white",
            "showbackground": true,
            "ticks": "",
            "zerolinecolor": "white"
           }
          },
          "shapedefaults": {
           "line": {
            "color": "#2a3f5f"
           }
          },
          "ternary": {
           "aaxis": {
            "gridcolor": "white",
            "linecolor": "white",
            "ticks": ""
           },
           "baxis": {
            "gridcolor": "white",
            "linecolor": "white",
            "ticks": ""
           },
           "bgcolor": "#E5ECF6",
           "caxis": {
            "gridcolor": "white",
            "linecolor": "white",
            "ticks": ""
           }
          },
          "title": {
           "x": 0.05
          },
          "xaxis": {
           "automargin": true,
           "gridcolor": "white",
           "linecolor": "white",
           "ticks": "",
           "title": {
            "standoff": 15
           },
           "zerolinecolor": "white",
           "zerolinewidth": 2
          },
          "yaxis": {
           "automargin": true,
           "gridcolor": "white",
           "linecolor": "white",
           "ticks": "",
           "title": {
            "standoff": 15
           },
           "zerolinecolor": "white",
           "zerolinewidth": 2
          }
         }
        },
        "xaxis": {
         "anchor": "y",
         "domain": [
          0,
          1
         ],
         "linecolor": "lightgrey",
         "showgrid": false,
         "showline": true,
         "tickcolor": "lightgrey",
         "ticks": "outside",
         "title": {
          "text": ""
         },
         "zeroline": false
        },
        "yaxis": {
         "anchor": "x",
         "domain": [
          0,
          1
         ],
         "gridcolor": "lightgrey",
         "linecolor": "lightgrey",
         "showgrid": true,
         "showline": true,
         "tickcolor": "lightgrey",
         "tickformat": ",.0f",
         "ticks": "outside",
         "title": {
          "text": ""
         },
         "zeroline": false
        }
       }
      }
     },
     "metadata": {},
     "output_type": "display_data"
    },
    {
     "data": {
      "application/vnd.plotly.v1+json": {
       "config": {
        "plotlyServerURL": "https://plot.ly"
       },
       "data": [
        {
         "hovertemplate": "=%{y}<extra></extra>",
         "legendgroup": "",
         "line": {
          "color": "rgb(102, 197, 204)",
          "dash": "solid"
         },
         "marker": {
          "symbol": "circle"
         },
         "mode": "lines",
         "name": "",
         "orientation": "v",
         "showlegend": false,
         "type": "scatter",
         "x": [
          "2024-01-09T00:00:00",
          "2024-02-07T00:00:00",
          "2024-03-07T00:00:00",
          "2024-04-04T00:00:00",
          "2024-05-02T00:00:00",
          "2024-06-06T00:00:00",
          "2024-07-03T00:00:00",
          "2024-08-06T00:00:00",
          "2024-09-04T00:00:00",
          "2024-10-08T00:00:00",
          "2024-11-05T00:00:00",
          "2024-12-05T00:00:00",
          "2025-01-07T00:00:00",
          "2025-02-05T00:00:00",
          "2025-03-06T00:00:00",
          "2025-04-03T00:00:00"
         ],
         "xaxis": "x",
         "y": [
          -63207,
          -63935,
          -58947,
          -67601,
          -69372,
          -66942,
          -74462,
          -75006,
          -66399,
          -78918,
          -70787,
          -79169,
          -78193,
          -78940,
          -85014,
          -122662
         ],
         "yaxis": "y"
        },
        {
         "mode": "text",
         "showlegend": false,
         "text": [
          "Trade Balance: -122,662"
         ],
         "textfont": {
          "color": "black",
          "size": 12
         },
         "textposition": "middle right",
         "type": "scatter",
         "x": [
          "2025-04-03T00:00:00"
         ],
         "y": [
          -122662
         ]
        }
       ],
       "layout": {
        "font": {
         "color": "black",
         "family": "Arial",
         "size": 12
        },
        "height": 600,
        "hovermode": "x unified",
        "legend": {
         "title": {
          "text": ""
         },
         "tracegroupgap": 0
        },
        "margin": {
         "t": 60
        },
        "paper_bgcolor": "white",
        "plot_bgcolor": "white",
        "template": {
         "data": {
          "bar": [
           {
            "error_x": {
             "color": "#2a3f5f"
            },
            "error_y": {
             "color": "#2a3f5f"
            },
            "marker": {
             "line": {
              "color": "#E5ECF6",
              "width": 0.5
             },
             "pattern": {
              "fillmode": "overlay",
              "size": 10,
              "solidity": 0.2
             }
            },
            "type": "bar"
           }
          ],
          "barpolar": [
           {
            "marker": {
             "line": {
              "color": "#E5ECF6",
              "width": 0.5
             },
             "pattern": {
              "fillmode": "overlay",
              "size": 10,
              "solidity": 0.2
             }
            },
            "type": "barpolar"
           }
          ],
          "carpet": [
           {
            "aaxis": {
             "endlinecolor": "#2a3f5f",
             "gridcolor": "white",
             "linecolor": "white",
             "minorgridcolor": "white",
             "startlinecolor": "#2a3f5f"
            },
            "baxis": {
             "endlinecolor": "#2a3f5f",
             "gridcolor": "white",
             "linecolor": "white",
             "minorgridcolor": "white",
             "startlinecolor": "#2a3f5f"
            },
            "type": "carpet"
           }
          ],
          "choropleth": [
           {
            "colorbar": {
             "outlinewidth": 0,
             "ticks": ""
            },
            "type": "choropleth"
           }
          ],
          "contour": [
           {
            "colorbar": {
             "outlinewidth": 0,
             "ticks": ""
            },
            "colorscale": [
             [
              0,
              "#0d0887"
             ],
             [
              0.1111111111111111,
              "#46039f"
             ],
             [
              0.2222222222222222,
              "#7201a8"
             ],
             [
              0.3333333333333333,
              "#9c179e"
             ],
             [
              0.4444444444444444,
              "#bd3786"
             ],
             [
              0.5555555555555556,
              "#d8576b"
             ],
             [
              0.6666666666666666,
              "#ed7953"
             ],
             [
              0.7777777777777778,
              "#fb9f3a"
             ],
             [
              0.8888888888888888,
              "#fdca26"
             ],
             [
              1,
              "#f0f921"
             ]
            ],
            "type": "contour"
           }
          ],
          "contourcarpet": [
           {
            "colorbar": {
             "outlinewidth": 0,
             "ticks": ""
            },
            "type": "contourcarpet"
           }
          ],
          "heatmap": [
           {
            "colorbar": {
             "outlinewidth": 0,
             "ticks": ""
            },
            "colorscale": [
             [
              0,
              "#0d0887"
             ],
             [
              0.1111111111111111,
              "#46039f"
             ],
             [
              0.2222222222222222,
              "#7201a8"
             ],
             [
              0.3333333333333333,
              "#9c179e"
             ],
             [
              0.4444444444444444,
              "#bd3786"
             ],
             [
              0.5555555555555556,
              "#d8576b"
             ],
             [
              0.6666666666666666,
              "#ed7953"
             ],
             [
              0.7777777777777778,
              "#fb9f3a"
             ],
             [
              0.8888888888888888,
              "#fdca26"
             ],
             [
              1,
              "#f0f921"
             ]
            ],
            "type": "heatmap"
           }
          ],
          "heatmapgl": [
           {
            "colorbar": {
             "outlinewidth": 0,
             "ticks": ""
            },
            "colorscale": [
             [
              0,
              "#0d0887"
             ],
             [
              0.1111111111111111,
              "#46039f"
             ],
             [
              0.2222222222222222,
              "#7201a8"
             ],
             [
              0.3333333333333333,
              "#9c179e"
             ],
             [
              0.4444444444444444,
              "#bd3786"
             ],
             [
              0.5555555555555556,
              "#d8576b"
             ],
             [
              0.6666666666666666,
              "#ed7953"
             ],
             [
              0.7777777777777778,
              "#fb9f3a"
             ],
             [
              0.8888888888888888,
              "#fdca26"
             ],
             [
              1,
              "#f0f921"
             ]
            ],
            "type": "heatmapgl"
           }
          ],
          "histogram": [
           {
            "marker": {
             "pattern": {
              "fillmode": "overlay",
              "size": 10,
              "solidity": 0.2
             }
            },
            "type": "histogram"
           }
          ],
          "histogram2d": [
           {
            "colorbar": {
             "outlinewidth": 0,
             "ticks": ""
            },
            "colorscale": [
             [
              0,
              "#0d0887"
             ],
             [
              0.1111111111111111,
              "#46039f"
             ],
             [
              0.2222222222222222,
              "#7201a8"
             ],
             [
              0.3333333333333333,
              "#9c179e"
             ],
             [
              0.4444444444444444,
              "#bd3786"
             ],
             [
              0.5555555555555556,
              "#d8576b"
             ],
             [
              0.6666666666666666,
              "#ed7953"
             ],
             [
              0.7777777777777778,
              "#fb9f3a"
             ],
             [
              0.8888888888888888,
              "#fdca26"
             ],
             [
              1,
              "#f0f921"
             ]
            ],
            "type": "histogram2d"
           }
          ],
          "histogram2dcontour": [
           {
            "colorbar": {
             "outlinewidth": 0,
             "ticks": ""
            },
            "colorscale": [
             [
              0,
              "#0d0887"
             ],
             [
              0.1111111111111111,
              "#46039f"
             ],
             [
              0.2222222222222222,
              "#7201a8"
             ],
             [
              0.3333333333333333,
              "#9c179e"
             ],
             [
              0.4444444444444444,
              "#bd3786"
             ],
             [
              0.5555555555555556,
              "#d8576b"
             ],
             [
              0.6666666666666666,
              "#ed7953"
             ],
             [
              0.7777777777777778,
              "#fb9f3a"
             ],
             [
              0.8888888888888888,
              "#fdca26"
             ],
             [
              1,
              "#f0f921"
             ]
            ],
            "type": "histogram2dcontour"
           }
          ],
          "mesh3d": [
           {
            "colorbar": {
             "outlinewidth": 0,
             "ticks": ""
            },
            "type": "mesh3d"
           }
          ],
          "parcoords": [
           {
            "line": {
             "colorbar": {
              "outlinewidth": 0,
              "ticks": ""
             }
            },
            "type": "parcoords"
           }
          ],
          "pie": [
           {
            "automargin": true,
            "type": "pie"
           }
          ],
          "scatter": [
           {
            "fillpattern": {
             "fillmode": "overlay",
             "size": 10,
             "solidity": 0.2
            },
            "type": "scatter"
           }
          ],
          "scatter3d": [
           {
            "line": {
             "colorbar": {
              "outlinewidth": 0,
              "ticks": ""
             }
            },
            "marker": {
             "colorbar": {
              "outlinewidth": 0,
              "ticks": ""
             }
            },
            "type": "scatter3d"
           }
          ],
          "scattercarpet": [
           {
            "marker": {
             "colorbar": {
              "outlinewidth": 0,
              "ticks": ""
             }
            },
            "type": "scattercarpet"
           }
          ],
          "scattergeo": [
           {
            "marker": {
             "colorbar": {
              "outlinewidth": 0,
              "ticks": ""
             }
            },
            "type": "scattergeo"
           }
          ],
          "scattergl": [
           {
            "marker": {
             "colorbar": {
              "outlinewidth": 0,
              "ticks": ""
             }
            },
            "type": "scattergl"
           }
          ],
          "scattermapbox": [
           {
            "marker": {
             "colorbar": {
              "outlinewidth": 0,
              "ticks": ""
             }
            },
            "type": "scattermapbox"
           }
          ],
          "scatterpolar": [
           {
            "marker": {
             "colorbar": {
              "outlinewidth": 0,
              "ticks": ""
             }
            },
            "type": "scatterpolar"
           }
          ],
          "scatterpolargl": [
           {
            "marker": {
             "colorbar": {
              "outlinewidth": 0,
              "ticks": ""
             }
            },
            "type": "scatterpolargl"
           }
          ],
          "scatterternary": [
           {
            "marker": {
             "colorbar": {
              "outlinewidth": 0,
              "ticks": ""
             }
            },
            "type": "scatterternary"
           }
          ],
          "surface": [
           {
            "colorbar": {
             "outlinewidth": 0,
             "ticks": ""
            },
            "colorscale": [
             [
              0,
              "#0d0887"
             ],
             [
              0.1111111111111111,
              "#46039f"
             ],
             [
              0.2222222222222222,
              "#7201a8"
             ],
             [
              0.3333333333333333,
              "#9c179e"
             ],
             [
              0.4444444444444444,
              "#bd3786"
             ],
             [
              0.5555555555555556,
              "#d8576b"
             ],
             [
              0.6666666666666666,
              "#ed7953"
             ],
             [
              0.7777777777777778,
              "#fb9f3a"
             ],
             [
              0.8888888888888888,
              "#fdca26"
             ],
             [
              1,
              "#f0f921"
             ]
            ],
            "type": "surface"
           }
          ],
          "table": [
           {
            "cells": {
             "fill": {
              "color": "#EBF0F8"
             },
             "line": {
              "color": "white"
             }
            },
            "header": {
             "fill": {
              "color": "#C8D4E3"
             },
             "line": {
              "color": "white"
             }
            },
            "type": "table"
           }
          ]
         },
         "layout": {
          "annotationdefaults": {
           "arrowcolor": "#2a3f5f",
           "arrowhead": 0,
           "arrowwidth": 1
          },
          "autotypenumbers": "strict",
          "coloraxis": {
           "colorbar": {
            "outlinewidth": 0,
            "ticks": ""
           }
          },
          "colorscale": {
           "diverging": [
            [
             0,
             "#8e0152"
            ],
            [
             0.1,
             "#c51b7d"
            ],
            [
             0.2,
             "#de77ae"
            ],
            [
             0.3,
             "#f1b6da"
            ],
            [
             0.4,
             "#fde0ef"
            ],
            [
             0.5,
             "#f7f7f7"
            ],
            [
             0.6,
             "#e6f5d0"
            ],
            [
             0.7,
             "#b8e186"
            ],
            [
             0.8,
             "#7fbc41"
            ],
            [
             0.9,
             "#4d9221"
            ],
            [
             1,
             "#276419"
            ]
           ],
           "sequential": [
            [
             0,
             "#0d0887"
            ],
            [
             0.1111111111111111,
             "#46039f"
            ],
            [
             0.2222222222222222,
             "#7201a8"
            ],
            [
             0.3333333333333333,
             "#9c179e"
            ],
            [
             0.4444444444444444,
             "#bd3786"
            ],
            [
             0.5555555555555556,
             "#d8576b"
            ],
            [
             0.6666666666666666,
             "#ed7953"
            ],
            [
             0.7777777777777778,
             "#fb9f3a"
            ],
            [
             0.8888888888888888,
             "#fdca26"
            ],
            [
             1,
             "#f0f921"
            ]
           ],
           "sequentialminus": [
            [
             0,
             "#0d0887"
            ],
            [
             0.1111111111111111,
             "#46039f"
            ],
            [
             0.2222222222222222,
             "#7201a8"
            ],
            [
             0.3333333333333333,
             "#9c179e"
            ],
            [
             0.4444444444444444,
             "#bd3786"
            ],
            [
             0.5555555555555556,
             "#d8576b"
            ],
            [
             0.6666666666666666,
             "#ed7953"
            ],
            [
             0.7777777777777778,
             "#fb9f3a"
            ],
            [
             0.8888888888888888,
             "#fdca26"
            ],
            [
             1,
             "#f0f921"
            ]
           ]
          },
          "colorway": [
           "#636efa",
           "#EF553B",
           "#00cc96",
           "#ab63fa",
           "#FFA15A",
           "#19d3f3",
           "#FF6692",
           "#B6E880",
           "#FF97FF",
           "#FECB52"
          ],
          "font": {
           "color": "#2a3f5f"
          },
          "geo": {
           "bgcolor": "white",
           "lakecolor": "white",
           "landcolor": "#E5ECF6",
           "showlakes": true,
           "showland": true,
           "subunitcolor": "white"
          },
          "hoverlabel": {
           "align": "left"
          },
          "hovermode": "closest",
          "mapbox": {
           "style": "light"
          },
          "paper_bgcolor": "white",
          "plot_bgcolor": "#E5ECF6",
          "polar": {
           "angularaxis": {
            "gridcolor": "white",
            "linecolor": "white",
            "ticks": ""
           },
           "bgcolor": "#E5ECF6",
           "radialaxis": {
            "gridcolor": "white",
            "linecolor": "white",
            "ticks": ""
           }
          },
          "scene": {
           "xaxis": {
            "backgroundcolor": "#E5ECF6",
            "gridcolor": "white",
            "gridwidth": 2,
            "linecolor": "white",
            "showbackground": true,
            "ticks": "",
            "zerolinecolor": "white"
           },
           "yaxis": {
            "backgroundcolor": "#E5ECF6",
            "gridcolor": "white",
            "gridwidth": 2,
            "linecolor": "white",
            "showbackground": true,
            "ticks": "",
            "zerolinecolor": "white"
           },
           "zaxis": {
            "backgroundcolor": "#E5ECF6",
            "gridcolor": "white",
            "gridwidth": 2,
            "linecolor": "white",
            "showbackground": true,
            "ticks": "",
            "zerolinecolor": "white"
           }
          },
          "shapedefaults": {
           "line": {
            "color": "#2a3f5f"
           }
          },
          "ternary": {
           "aaxis": {
            "gridcolor": "white",
            "linecolor": "white",
            "ticks": ""
           },
           "baxis": {
            "gridcolor": "white",
            "linecolor": "white",
            "ticks": ""
           },
           "bgcolor": "#E5ECF6",
           "caxis": {
            "gridcolor": "white",
            "linecolor": "white",
            "ticks": ""
           }
          },
          "title": {
           "x": 0.05
          },
          "xaxis": {
           "automargin": true,
           "gridcolor": "white",
           "linecolor": "white",
           "ticks": "",
           "title": {
            "standoff": 15
           },
           "zerolinecolor": "white",
           "zerolinewidth": 2
          },
          "yaxis": {
           "automargin": true,
           "gridcolor": "white",
           "linecolor": "white",
           "ticks": "",
           "title": {
            "standoff": 15
           },
           "zerolinecolor": "white",
           "zerolinewidth": 2
          }
         }
        },
        "xaxis": {
         "anchor": "y",
         "domain": [
          0,
          1
         ],
         "linecolor": "lightgrey",
         "showgrid": false,
         "showline": true,
         "tickcolor": "lightgrey",
         "ticks": "outside",
         "title": {
          "text": ""
         },
         "zeroline": false
        },
        "yaxis": {
         "anchor": "x",
         "domain": [
          0,
          1
         ],
         "gridcolor": "lightgrey",
         "linecolor": "lightgrey",
         "showgrid": true,
         "showline": true,
         "tickcolor": "lightgrey",
         "tickformat": ",.0f",
         "ticks": "outside",
         "title": {
          "text": ""
         },
         "zeroline": false
        }
       }
      }
     },
     "metadata": {},
     "output_type": "display_data"
    }
   ],
   "source": [
    "minimalistic_lineplot_all_metrics(finalchina, metrics_col='Metrics', date_col='Period')\n",
    "minimalistic_lineplot_all_metrics(tradebalance[tradebalance.Date > '2024-01-01'], value_col='Trade Balance', metrics_col='None', date_col='Date')"
   ]
  },
  {
   "cell_type": "code",
   "execution_count": null,
   "id": "f7bcda2c",
   "metadata": {},
   "outputs": [],
   "source": []
  },
  {
   "cell_type": "code",
   "execution_count": null,
   "id": "cae6b327",
   "metadata": {},
   "outputs": [],
   "source": []
  },
  {
   "cell_type": "code",
   "execution_count": null,
   "id": "c20f66b5",
   "metadata": {},
   "outputs": [
    {
     "name": "stderr",
     "output_type": "stream",
     "text": [
      "c:\\Users\\jonas\\anaconda3\\Lib\\site-packages\\pandas\\core\\indexes\\base.py:7588: FutureWarning: Dtype inference on a pandas object (Series, Index, ExtensionArray) is deprecated. The Index constructor will keep the original dtype in the future. Call `infer_objects` on the result to get the old behavior.\n",
      "  return Index(sequences[0], name=names)\n"
     ]
    }
   ],
   "source": [
    "import pandas as pd\n",
    "from numpy import array\n",
    "from numpy import hstack\n",
    "#import dropbox\n",
    "import datetime\n",
    "import numpy as np\n",
    "#from pandas_datareader import wb\n",
    "import sys \n",
    "sys.version\n",
    "from fredapi import Fred\n",
    "\n",
    "FRED_API_KEY = '29f9bb6865c0b3be320b44a846d539ea'\n",
    "fred = Fred(FRED_API_KEY)\n",
    "\n",
    "#%matplotlib inline\n",
    "from IPython.core.pylabtools import figsize\n",
    "from fredapi import Fred\n",
    "\n",
    "\n",
    "start = datetime.datetime(1980, 1, 1)\n",
    "#end = datetime(2022, 5, 27)\n",
    "end = datetime.datetime.now()\n",
    "\n",
    "completedates = pd.DataFrame(pd.date_range(start=start, end=datetime.datetime.now(), freq='B'), columns=['Date'])\n",
    "\n",
    "FRED_API_KEY = '29f9bb6865c0b3be320b44a846d539ea'\n",
    "fred = Fred(FRED_API_KEY)\n",
    "\n",
    "tradebalance = fred.get_series_all_releases('BOPGSTB', realtime_start=start.date())\n",
    "\n",
    "tradebalance = tradebalance.drop('date', axis=1).rename(columns={'realtime_start' : 'Date'}).set_index('Date')\n",
    "tradebalance = tradebalance.sort_index()\n",
    "\n",
    "tradebalance.reset_index(inplace= True)\n",
    "tradebalance = tradebalance.drop_duplicates(subset='Date', keep='last')\n",
    "tradebalance.sort_values(by='Date', ascending=True, inplace=True)\n",
    "# tradebalance = tradebalance.drop_duplicates('Date', keep='last')\n",
    "\n",
    "# Convert 'value' to float to avoid integer division errors\n",
    "tradebalance['value'] = tradebalance['value'].astype(float)\n",
    "\n",
    "# Calculate MoM/YoY with safety checks\n",
    "tradebalance['MoM'] = (tradebalance['value'] - tradebalance['value'].shift(1).fillna(0)) / tradebalance['value'].shift(1).abs().replace(0, np.nan)\n",
    "tradebalance['YoY'] = (tradebalance['value'] - tradebalance['value'].shift(12).fillna(0)) / tradebalance['value'].shift(12).abs().replace(0, np.nan)\n",
    "\n",
    "# Replace problematic values (inf, -inf, NaN) with 0\n",
    "tradebalance['MoM'] = tradebalance['MoM'].replace([np.inf, -np.inf, np.nan], 0)\n",
    "tradebalance['YoY'] = tradebalance['YoY'].replace([np.inf, -np.inf, np.nan], 0)\n",
    "\n",
    "# Replace inf and -inf with 0\n",
    "tradebalance['MoM'] = tradebalance['MoM'].replace([float('inf'), float('-inf')], 0)\n",
    "tradebalance['YoY'] = tradebalance['YoY'].replace([float('inf'), float('-inf')], 0)\n",
    "\n",
    "\n",
    "tradebalance['RollingMean12'] = tradebalance['value'].pct_change(periods=12).rolling(12, min_periods=1).mean()\n",
    "\n",
    "#tradebalance.reset_index(inplace= True)\n",
    "tradebalance['Date'] = pd.to_datetime(tradebalance['Date']) \n",
    "\n",
    "# tradebalance = tradebalance.merge(release_dates, on=\"Date\")\n",
    "\n",
    "# tradebalance = tradebalance.drop('Date', axis=1).rename(columns={'Release Date' : 'Date'}).set_index('Date')\n",
    "# tradebalance.reset_index(inplace= True)\n",
    "tradebalance.rename({'value':'Trade Balance'}, axis=1, inplace=True)"
   ]
  },
  {
   "cell_type": "code",
   "execution_count": null,
   "id": "90d8b4a2",
   "metadata": {},
   "outputs": [],
   "source": []
  },
  {
   "cell_type": "code",
   "execution_count": 72,
   "id": "69b481d5",
   "metadata": {},
   "outputs": [
    {
     "data": {
      "text/html": [
       "<div>\n",
       "<style scoped>\n",
       "    .dataframe tbody tr th:only-of-type {\n",
       "        vertical-align: middle;\n",
       "    }\n",
       "\n",
       "    .dataframe tbody tr th {\n",
       "        vertical-align: top;\n",
       "    }\n",
       "\n",
       "    .dataframe thead th {\n",
       "        text-align: right;\n",
       "    }\n",
       "</style>\n",
       "<table border=\"1\" class=\"dataframe\">\n",
       "  <thead>\n",
       "    <tr style=\"text-align: right;\">\n",
       "      <th></th>\n",
       "      <th>Date</th>\n",
       "      <th>Trade Balance</th>\n",
       "      <th>MoM</th>\n",
       "      <th>YoY</th>\n",
       "      <th>RollingMean12</th>\n",
       "    </tr>\n",
       "  </thead>\n",
       "  <tbody>\n",
       "    <tr>\n",
       "      <th>4309</th>\n",
       "      <td>2024-04-04</td>\n",
       "      <td>-67601.0</td>\n",
       "      <td>-0.146810</td>\n",
       "      <td>0.041596</td>\n",
       "      <td>-0.165795</td>\n",
       "    </tr>\n",
       "    <tr>\n",
       "      <th>4311</th>\n",
       "      <td>2024-05-02</td>\n",
       "      <td>-69372.0</td>\n",
       "      <td>-0.026198</td>\n",
       "      <td>0.017992</td>\n",
       "      <td>-0.149518</td>\n",
       "    </tr>\n",
       "    <tr>\n",
       "      <th>4374</th>\n",
       "      <td>2024-06-06</td>\n",
       "      <td>-66942.0</td>\n",
       "      <td>0.035029</td>\n",
       "      <td>-0.083625</td>\n",
       "      <td>-0.153905</td>\n",
       "    </tr>\n",
       "    <tr>\n",
       "      <th>4376</th>\n",
       "      <td>2024-07-03</td>\n",
       "      <td>-74462.0</td>\n",
       "      <td>-0.112336</td>\n",
       "      <td>-0.000322</td>\n",
       "      <td>-0.142104</td>\n",
       "    </tr>\n",
       "    <tr>\n",
       "      <th>4378</th>\n",
       "      <td>2024-08-06</td>\n",
       "      <td>-75006.0</td>\n",
       "      <td>-0.007306</td>\n",
       "      <td>-0.098426</td>\n",
       "      <td>-0.117589</td>\n",
       "    </tr>\n",
       "    <tr>\n",
       "      <th>4385</th>\n",
       "      <td>2024-09-04</td>\n",
       "      <td>-66399.0</td>\n",
       "      <td>0.114751</td>\n",
       "      <td>-0.099267</td>\n",
       "      <td>-0.097230</td>\n",
       "    </tr>\n",
       "    <tr>\n",
       "      <th>4387</th>\n",
       "      <td>2024-10-08</td>\n",
       "      <td>-78918.0</td>\n",
       "      <td>-0.188542</td>\n",
       "      <td>-0.353584</td>\n",
       "      <td>-0.053392</td>\n",
       "    </tr>\n",
       "    <tr>\n",
       "      <th>4389</th>\n",
       "      <td>2024-11-05</td>\n",
       "      <td>-70787.0</td>\n",
       "      <td>0.103031</td>\n",
       "      <td>-0.206795</td>\n",
       "      <td>-0.027249</td>\n",
       "    </tr>\n",
       "    <tr>\n",
       "      <th>4396</th>\n",
       "      <td>2024-12-05</td>\n",
       "      <td>-79169.0</td>\n",
       "      <td>-0.118412</td>\n",
       "      <td>-0.350454</td>\n",
       "      <td>0.029247</td>\n",
       "    </tr>\n",
       "    <tr>\n",
       "      <th>4398</th>\n",
       "      <td>2025-01-07</td>\n",
       "      <td>-78193.0</td>\n",
       "      <td>0.012328</td>\n",
       "      <td>-0.237094</td>\n",
       "      <td>0.064676</td>\n",
       "    </tr>\n",
       "    <tr>\n",
       "      <th>4410</th>\n",
       "      <td>2025-02-05</td>\n",
       "      <td>-78940.0</td>\n",
       "      <td>-0.009553</td>\n",
       "      <td>-0.234691</td>\n",
       "      <td>0.106689</td>\n",
       "    </tr>\n",
       "    <tr>\n",
       "      <th>4423</th>\n",
       "      <td>2025-03-06</td>\n",
       "      <td>-85014.0</td>\n",
       "      <td>-0.076945</td>\n",
       "      <td>-0.442211</td>\n",
       "      <td>0.170573</td>\n",
       "    </tr>\n",
       "    <tr>\n",
       "      <th>4425</th>\n",
       "      <td>2025-04-03</td>\n",
       "      <td>-122662.0</td>\n",
       "      <td>-0.442845</td>\n",
       "      <td>-0.814500</td>\n",
       "      <td>0.241915</td>\n",
       "    </tr>\n",
       "  </tbody>\n",
       "</table>\n",
       "</div>"
      ],
      "text/plain": [
       "           Date  Trade Balance       MoM       YoY  RollingMean12\n",
       "4309 2024-04-04       -67601.0 -0.146810  0.041596      -0.165795\n",
       "4311 2024-05-02       -69372.0 -0.026198  0.017992      -0.149518\n",
       "4374 2024-06-06       -66942.0  0.035029 -0.083625      -0.153905\n",
       "4376 2024-07-03       -74462.0 -0.112336 -0.000322      -0.142104\n",
       "4378 2024-08-06       -75006.0 -0.007306 -0.098426      -0.117589\n",
       "4385 2024-09-04       -66399.0  0.114751 -0.099267      -0.097230\n",
       "4387 2024-10-08       -78918.0 -0.188542 -0.353584      -0.053392\n",
       "4389 2024-11-05       -70787.0  0.103031 -0.206795      -0.027249\n",
       "4396 2024-12-05       -79169.0 -0.118412 -0.350454       0.029247\n",
       "4398 2025-01-07       -78193.0  0.012328 -0.237094       0.064676\n",
       "4410 2025-02-05       -78940.0 -0.009553 -0.234691       0.106689\n",
       "4423 2025-03-06       -85014.0 -0.076945 -0.442211       0.170573\n",
       "4425 2025-04-03      -122662.0 -0.442845 -0.814500       0.241915"
      ]
     },
     "execution_count": 72,
     "metadata": {},
     "output_type": "execute_result"
    }
   ],
   "source": [
    "tradebalance.tail(13)"
   ]
  },
  {
   "cell_type": "code",
   "execution_count": null,
   "id": "54b60c97",
   "metadata": {},
   "outputs": [],
   "source": [
    "tradebalance.set_index('Date', inplace=True)"
   ]
  },
  {
   "cell_type": "code",
   "execution_count": null,
   "id": "29a2c353",
   "metadata": {},
   "outputs": [
    {
     "name": "stderr",
     "output_type": "stream",
     "text": [
      "C:\\Users\\jonas\\AppData\\Local\\Temp\\ipykernel_18512\\915888400.py:1: FutureWarning: 'Y' is deprecated and will be removed in a future version, please use 'YE' instead.\n",
      "  cpius.resample(('Y')).sum()\n"
     ]
    },
    {
     "data": {
      "text/html": [
       "<div>\n",
       "<style scoped>\n",
       "    .dataframe tbody tr th:only-of-type {\n",
       "        vertical-align: middle;\n",
       "    }\n",
       "\n",
       "    .dataframe tbody tr th {\n",
       "        vertical-align: top;\n",
       "    }\n",
       "\n",
       "    .dataframe thead th {\n",
       "        text-align: right;\n",
       "    }\n",
       "</style>\n",
       "<table border=\"1\" class=\"dataframe\">\n",
       "  <thead>\n",
       "    <tr style=\"text-align: right;\">\n",
       "      <th></th>\n",
       "      <th>Trade Balance</th>\n",
       "      <th>MoM</th>\n",
       "      <th>YoY</th>\n",
       "      <th>RollingMean12</th>\n",
       "    </tr>\n",
       "    <tr>\n",
       "      <th>Date</th>\n",
       "      <th></th>\n",
       "      <th></th>\n",
       "      <th></th>\n",
       "      <th></th>\n",
       "    </tr>\n",
       "  </thead>\n",
       "  <tbody>\n",
       "    <tr>\n",
       "      <th>1997-12-31</th>\n",
       "      <td>-117304.0</td>\n",
       "      <td>1.816957</td>\n",
       "      <td>1.635789</td>\n",
       "      <td>1.635789</td>\n",
       "    </tr>\n",
       "    <tr>\n",
       "      <th>1998-12-31</th>\n",
       "      <td>-147012.0</td>\n",
       "      <td>2.506494</td>\n",
       "      <td>3.659451</td>\n",
       "      <td>5.060375</td>\n",
       "    </tr>\n",
       "    <tr>\n",
       "      <th>1999-12-31</th>\n",
       "      <td>-230576.0</td>\n",
       "      <td>0.616295</td>\n",
       "      <td>8.516746</td>\n",
       "      <td>7.306428</td>\n",
       "    </tr>\n",
       "    <tr>\n",
       "      <th>2000-12-31</th>\n",
       "      <td>-308673.0</td>\n",
       "      <td>3.895994</td>\n",
       "      <td>4.066161</td>\n",
       "      <td>6.115968</td>\n",
       "    </tr>\n",
       "    <tr>\n",
       "      <th>2001-12-31</th>\n",
       "      <td>-344157.0</td>\n",
       "      <td>0.257236</td>\n",
       "      <td>4.808458</td>\n",
       "      <td>4.915643</td>\n",
       "    </tr>\n",
       "    <tr>\n",
       "      <th>2002-12-31</th>\n",
       "      <td>-386755.0</td>\n",
       "      <td>0.393076</td>\n",
       "      <td>1.876987</td>\n",
       "      <td>1.678606</td>\n",
       "    </tr>\n",
       "    <tr>\n",
       "      <th>2003-12-31</th>\n",
       "      <td>-476847.0</td>\n",
       "      <td>0.276922</td>\n",
       "      <td>3.381313</td>\n",
       "      <td>4.191642</td>\n",
       "    </tr>\n",
       "    <tr>\n",
       "      <th>2004-12-31</th>\n",
       "      <td>-510043.0</td>\n",
       "      <td>4.914645</td>\n",
       "      <td>0.657003</td>\n",
       "      <td>0.881135</td>\n",
       "    </tr>\n",
       "    <tr>\n",
       "      <th>2005-12-31</th>\n",
       "      <td>-673658.0</td>\n",
       "      <td>0.291842</td>\n",
       "      <td>8.801930</td>\n",
       "      <td>5.912126</td>\n",
       "    </tr>\n",
       "    <tr>\n",
       "      <th>2006-12-31</th>\n",
       "      <td>-723938.0</td>\n",
       "      <td>1.160309</td>\n",
       "      <td>0.856240</td>\n",
       "      <td>4.119755</td>\n",
       "    </tr>\n",
       "    <tr>\n",
       "      <th>2007-12-31</th>\n",
       "      <td>-693478.0</td>\n",
       "      <td>0.323815</td>\n",
       "      <td>-0.126490</td>\n",
       "      <td>0.343816</td>\n",
       "    </tr>\n",
       "    <tr>\n",
       "      <th>2008-12-31</th>\n",
       "      <td>-694506.0</td>\n",
       "      <td>0.079736</td>\n",
       "      <td>0.325559</td>\n",
       "      <td>-0.050498</td>\n",
       "    </tr>\n",
       "    <tr>\n",
       "      <th>2009-12-31</th>\n",
       "      <td>-459192.0</td>\n",
       "      <td>-0.060713</td>\n",
       "      <td>-4.080660</td>\n",
       "      <td>-1.600207</td>\n",
       "    </tr>\n",
       "    <tr>\n",
       "      <th>2010-12-31</th>\n",
       "      <td>-471197.0</td>\n",
       "      <td>0.657919</td>\n",
       "      <td>1.888700</td>\n",
       "      <td>-2.079248</td>\n",
       "    </tr>\n",
       "    <tr>\n",
       "      <th>2011-12-31</th>\n",
       "      <td>-530752.0</td>\n",
       "      <td>0.318164</td>\n",
       "      <td>1.648380</td>\n",
       "      <td>2.682860</td>\n",
       "    </tr>\n",
       "    <tr>\n",
       "      <th>2012-12-31</th>\n",
       "      <td>-557313.0</td>\n",
       "      <td>-0.027595</td>\n",
       "      <td>0.961737</td>\n",
       "      <td>1.474597</td>\n",
       "    </tr>\n",
       "    <tr>\n",
       "      <th>2013-12-31</th>\n",
       "      <td>-507077.0</td>\n",
       "      <td>0.062856</td>\n",
       "      <td>-1.073621</td>\n",
       "      <td>-0.435662</td>\n",
       "    </tr>\n",
       "    <tr>\n",
       "      <th>2014-12-31</th>\n",
       "      <td>-496364.0</td>\n",
       "      <td>0.062629</td>\n",
       "      <td>-0.118617</td>\n",
       "      <td>-0.787704</td>\n",
       "    </tr>\n",
       "    <tr>\n",
       "      <th>2015-12-31</th>\n",
       "      <td>-511974.0</td>\n",
       "      <td>0.224399</td>\n",
       "      <td>0.409743</td>\n",
       "      <td>0.325077</td>\n",
       "    </tr>\n",
       "    <tr>\n",
       "      <th>2016-12-31</th>\n",
       "      <td>-488519.0</td>\n",
       "      <td>-0.072566</td>\n",
       "      <td>-0.417421</td>\n",
       "      <td>0.173789</td>\n",
       "    </tr>\n",
       "    <tr>\n",
       "      <th>2017-12-31</th>\n",
       "      <td>-531686.0</td>\n",
       "      <td>0.251045</td>\n",
       "      <td>1.113874</td>\n",
       "      <td>0.108348</td>\n",
       "    </tr>\n",
       "    <tr>\n",
       "      <th>2018-12-31</th>\n",
       "      <td>-604579.0</td>\n",
       "      <td>0.278378</td>\n",
       "      <td>1.737500</td>\n",
       "      <td>1.629794</td>\n",
       "    </tr>\n",
       "    <tr>\n",
       "      <th>2019-12-31</th>\n",
       "      <td>-613731.0</td>\n",
       "      <td>-0.091018</td>\n",
       "      <td>0.315888</td>\n",
       "      <td>0.902522</td>\n",
       "    </tr>\n",
       "    <tr>\n",
       "      <th>2020-12-31</th>\n",
       "      <td>-583862.193166</td>\n",
       "      <td>0.355166</td>\n",
       "      <td>0.319848</td>\n",
       "      <td>0.101415</td>\n",
       "    </tr>\n",
       "    <tr>\n",
       "      <th>2021-12-31</th>\n",
       "      <td>-773441.708911</td>\n",
       "      <td>0.732699</td>\n",
       "      <td>3.009903</td>\n",
       "      <td>2.077000</td>\n",
       "    </tr>\n",
       "    <tr>\n",
       "      <th>2022-12-31</th>\n",
       "      <td>-913861.0</td>\n",
       "      <td>0.559939</td>\n",
       "      <td>2.518360</td>\n",
       "      <td>3.105737</td>\n",
       "    </tr>\n",
       "    <tr>\n",
       "      <th>2023-12-31</th>\n",
       "      <td>-834280.0</td>\n",
       "      <td>-0.323753</td>\n",
       "      <td>-0.830087</td>\n",
       "      <td>0.714727</td>\n",
       "    </tr>\n",
       "    <tr>\n",
       "      <th>2024-12-31</th>\n",
       "      <td>-834745.0</td>\n",
       "      <td>0.358470</td>\n",
       "      <td>0.350961</td>\n",
       "      <td>-1.282911</td>\n",
       "    </tr>\n",
       "    <tr>\n",
       "      <th>2025-12-31</th>\n",
       "      <td>-364809.0</td>\n",
       "      <td>0.517014</td>\n",
       "      <td>1.728496</td>\n",
       "      <td>0.583854</td>\n",
       "    </tr>\n",
       "  </tbody>\n",
       "</table>\n",
       "</div>"
      ],
      "text/plain": [
       "            Trade Balance       MoM       YoY  RollingMean12\n",
       "Date                                                        \n",
       "1997-12-31      -117304.0  1.816957  1.635789       1.635789\n",
       "1998-12-31      -147012.0  2.506494  3.659451       5.060375\n",
       "1999-12-31      -230576.0  0.616295  8.516746       7.306428\n",
       "2000-12-31      -308673.0  3.895994  4.066161       6.115968\n",
       "2001-12-31      -344157.0  0.257236  4.808458       4.915643\n",
       "2002-12-31      -386755.0  0.393076  1.876987       1.678606\n",
       "2003-12-31      -476847.0  0.276922  3.381313       4.191642\n",
       "2004-12-31      -510043.0  4.914645  0.657003       0.881135\n",
       "2005-12-31      -673658.0  0.291842  8.801930       5.912126\n",
       "2006-12-31      -723938.0  1.160309  0.856240       4.119755\n",
       "2007-12-31      -693478.0  0.323815 -0.126490       0.343816\n",
       "2008-12-31      -694506.0  0.079736  0.325559      -0.050498\n",
       "2009-12-31      -459192.0 -0.060713 -4.080660      -1.600207\n",
       "2010-12-31      -471197.0  0.657919  1.888700      -2.079248\n",
       "2011-12-31      -530752.0  0.318164  1.648380       2.682860\n",
       "2012-12-31      -557313.0 -0.027595  0.961737       1.474597\n",
       "2013-12-31      -507077.0  0.062856 -1.073621      -0.435662\n",
       "2014-12-31      -496364.0  0.062629 -0.118617      -0.787704\n",
       "2015-12-31      -511974.0  0.224399  0.409743       0.325077\n",
       "2016-12-31      -488519.0 -0.072566 -0.417421       0.173789\n",
       "2017-12-31      -531686.0  0.251045  1.113874       0.108348\n",
       "2018-12-31      -604579.0  0.278378  1.737500       1.629794\n",
       "2019-12-31      -613731.0 -0.091018  0.315888       0.902522\n",
       "2020-12-31 -583862.193166  0.355166  0.319848       0.101415\n",
       "2021-12-31 -773441.708911  0.732699  3.009903       2.077000\n",
       "2022-12-31      -913861.0  0.559939  2.518360       3.105737\n",
       "2023-12-31      -834280.0 -0.323753 -0.830087       0.714727\n",
       "2024-12-31      -834745.0  0.358470  0.350961      -1.282911\n",
       "2025-12-31      -364809.0  0.517014  1.728496       0.583854"
      ]
     },
     "execution_count": 59,
     "metadata": {},
     "output_type": "execute_result"
    }
   ],
   "source": [
    "tradebalance.resample(('Y')).sum()"
   ]
  },
  {
   "cell_type": "code",
   "execution_count": 135,
   "id": "59a37bc9",
   "metadata": {},
   "outputs": [
    {
     "data": {
      "application/vnd.plotly.v1+json": {
       "config": {
        "plotlyServerURL": "https://plot.ly"
       },
       "data": [
        {
         "hovertemplate": "=%{y}<extra></extra>",
         "legendgroup": "",
         "line": {
          "color": "rgb(102, 197, 204)",
          "dash": "solid"
         },
         "marker": {
          "symbol": "circle"
         },
         "mode": "lines",
         "name": "",
         "orientation": "v",
         "showlegend": false,
         "type": "scatter",
         "x": [
          "2024-01-09T00:00:00",
          "2024-02-07T00:00:00",
          "2024-03-07T00:00:00",
          "2024-04-04T00:00:00",
          "2024-05-02T00:00:00",
          "2024-06-06T00:00:00",
          "2024-07-03T00:00:00",
          "2024-08-06T00:00:00",
          "2024-09-04T00:00:00",
          "2024-10-08T00:00:00",
          "2024-11-05T00:00:00",
          "2024-12-05T00:00:00",
          "2025-01-07T00:00:00",
          "2025-02-05T00:00:00",
          "2025-03-06T00:00:00",
          "2025-04-03T00:00:00"
         ],
         "xaxis": "x",
         "y": [
          -63207,
          -63935,
          -58947,
          -67601,
          -69372,
          -66942,
          -74462,
          -75006,
          -66399,
          -78918,
          -70787,
          -79169,
          -78193,
          -78940,
          -85014,
          -122662
         ],
         "yaxis": "y"
        },
        {
         "mode": "text",
         "showlegend": false,
         "text": [
          "Trade Balance: -122,662"
         ],
         "textfont": {
          "color": "black",
          "size": 12
         },
         "textposition": "middle right",
         "type": "scatter",
         "x": [
          "2025-04-03T00:00:00"
         ],
         "y": [
          -122662
         ]
        }
       ],
       "layout": {
        "font": {
         "color": "black",
         "family": "Arial",
         "size": 12
        },
        "height": 600,
        "hovermode": "x unified",
        "legend": {
         "title": {
          "text": ""
         },
         "tracegroupgap": 0
        },
        "margin": {
         "t": 60
        },
        "paper_bgcolor": "white",
        "plot_bgcolor": "white",
        "template": {
         "data": {
          "bar": [
           {
            "error_x": {
             "color": "#2a3f5f"
            },
            "error_y": {
             "color": "#2a3f5f"
            },
            "marker": {
             "line": {
              "color": "#E5ECF6",
              "width": 0.5
             },
             "pattern": {
              "fillmode": "overlay",
              "size": 10,
              "solidity": 0.2
             }
            },
            "type": "bar"
           }
          ],
          "barpolar": [
           {
            "marker": {
             "line": {
              "color": "#E5ECF6",
              "width": 0.5
             },
             "pattern": {
              "fillmode": "overlay",
              "size": 10,
              "solidity": 0.2
             }
            },
            "type": "barpolar"
           }
          ],
          "carpet": [
           {
            "aaxis": {
             "endlinecolor": "#2a3f5f",
             "gridcolor": "white",
             "linecolor": "white",
             "minorgridcolor": "white",
             "startlinecolor": "#2a3f5f"
            },
            "baxis": {
             "endlinecolor": "#2a3f5f",
             "gridcolor": "white",
             "linecolor": "white",
             "minorgridcolor": "white",
             "startlinecolor": "#2a3f5f"
            },
            "type": "carpet"
           }
          ],
          "choropleth": [
           {
            "colorbar": {
             "outlinewidth": 0,
             "ticks": ""
            },
            "type": "choropleth"
           }
          ],
          "contour": [
           {
            "colorbar": {
             "outlinewidth": 0,
             "ticks": ""
            },
            "colorscale": [
             [
              0,
              "#0d0887"
             ],
             [
              0.1111111111111111,
              "#46039f"
             ],
             [
              0.2222222222222222,
              "#7201a8"
             ],
             [
              0.3333333333333333,
              "#9c179e"
             ],
             [
              0.4444444444444444,
              "#bd3786"
             ],
             [
              0.5555555555555556,
              "#d8576b"
             ],
             [
              0.6666666666666666,
              "#ed7953"
             ],
             [
              0.7777777777777778,
              "#fb9f3a"
             ],
             [
              0.8888888888888888,
              "#fdca26"
             ],
             [
              1,
              "#f0f921"
             ]
            ],
            "type": "contour"
           }
          ],
          "contourcarpet": [
           {
            "colorbar": {
             "outlinewidth": 0,
             "ticks": ""
            },
            "type": "contourcarpet"
           }
          ],
          "heatmap": [
           {
            "colorbar": {
             "outlinewidth": 0,
             "ticks": ""
            },
            "colorscale": [
             [
              0,
              "#0d0887"
             ],
             [
              0.1111111111111111,
              "#46039f"
             ],
             [
              0.2222222222222222,
              "#7201a8"
             ],
             [
              0.3333333333333333,
              "#9c179e"
             ],
             [
              0.4444444444444444,
              "#bd3786"
             ],
             [
              0.5555555555555556,
              "#d8576b"
             ],
             [
              0.6666666666666666,
              "#ed7953"
             ],
             [
              0.7777777777777778,
              "#fb9f3a"
             ],
             [
              0.8888888888888888,
              "#fdca26"
             ],
             [
              1,
              "#f0f921"
             ]
            ],
            "type": "heatmap"
           }
          ],
          "heatmapgl": [
           {
            "colorbar": {
             "outlinewidth": 0,
             "ticks": ""
            },
            "colorscale": [
             [
              0,
              "#0d0887"
             ],
             [
              0.1111111111111111,
              "#46039f"
             ],
             [
              0.2222222222222222,
              "#7201a8"
             ],
             [
              0.3333333333333333,
              "#9c179e"
             ],
             [
              0.4444444444444444,
              "#bd3786"
             ],
             [
              0.5555555555555556,
              "#d8576b"
             ],
             [
              0.6666666666666666,
              "#ed7953"
             ],
             [
              0.7777777777777778,
              "#fb9f3a"
             ],
             [
              0.8888888888888888,
              "#fdca26"
             ],
             [
              1,
              "#f0f921"
             ]
            ],
            "type": "heatmapgl"
           }
          ],
          "histogram": [
           {
            "marker": {
             "pattern": {
              "fillmode": "overlay",
              "size": 10,
              "solidity": 0.2
             }
            },
            "type": "histogram"
           }
          ],
          "histogram2d": [
           {
            "colorbar": {
             "outlinewidth": 0,
             "ticks": ""
            },
            "colorscale": [
             [
              0,
              "#0d0887"
             ],
             [
              0.1111111111111111,
              "#46039f"
             ],
             [
              0.2222222222222222,
              "#7201a8"
             ],
             [
              0.3333333333333333,
              "#9c179e"
             ],
             [
              0.4444444444444444,
              "#bd3786"
             ],
             [
              0.5555555555555556,
              "#d8576b"
             ],
             [
              0.6666666666666666,
              "#ed7953"
             ],
             [
              0.7777777777777778,
              "#fb9f3a"
             ],
             [
              0.8888888888888888,
              "#fdca26"
             ],
             [
              1,
              "#f0f921"
             ]
            ],
            "type": "histogram2d"
           }
          ],
          "histogram2dcontour": [
           {
            "colorbar": {
             "outlinewidth": 0,
             "ticks": ""
            },
            "colorscale": [
             [
              0,
              "#0d0887"
             ],
             [
              0.1111111111111111,
              "#46039f"
             ],
             [
              0.2222222222222222,
              "#7201a8"
             ],
             [
              0.3333333333333333,
              "#9c179e"
             ],
             [
              0.4444444444444444,
              "#bd3786"
             ],
             [
              0.5555555555555556,
              "#d8576b"
             ],
             [
              0.6666666666666666,
              "#ed7953"
             ],
             [
              0.7777777777777778,
              "#fb9f3a"
             ],
             [
              0.8888888888888888,
              "#fdca26"
             ],
             [
              1,
              "#f0f921"
             ]
            ],
            "type": "histogram2dcontour"
           }
          ],
          "mesh3d": [
           {
            "colorbar": {
             "outlinewidth": 0,
             "ticks": ""
            },
            "type": "mesh3d"
           }
          ],
          "parcoords": [
           {
            "line": {
             "colorbar": {
              "outlinewidth": 0,
              "ticks": ""
             }
            },
            "type": "parcoords"
           }
          ],
          "pie": [
           {
            "automargin": true,
            "type": "pie"
           }
          ],
          "scatter": [
           {
            "fillpattern": {
             "fillmode": "overlay",
             "size": 10,
             "solidity": 0.2
            },
            "type": "scatter"
           }
          ],
          "scatter3d": [
           {
            "line": {
             "colorbar": {
              "outlinewidth": 0,
              "ticks": ""
             }
            },
            "marker": {
             "colorbar": {
              "outlinewidth": 0,
              "ticks": ""
             }
            },
            "type": "scatter3d"
           }
          ],
          "scattercarpet": [
           {
            "marker": {
             "colorbar": {
              "outlinewidth": 0,
              "ticks": ""
             }
            },
            "type": "scattercarpet"
           }
          ],
          "scattergeo": [
           {
            "marker": {
             "colorbar": {
              "outlinewidth": 0,
              "ticks": ""
             }
            },
            "type": "scattergeo"
           }
          ],
          "scattergl": [
           {
            "marker": {
             "colorbar": {
              "outlinewidth": 0,
              "ticks": ""
             }
            },
            "type": "scattergl"
           }
          ],
          "scattermapbox": [
           {
            "marker": {
             "colorbar": {
              "outlinewidth": 0,
              "ticks": ""
             }
            },
            "type": "scattermapbox"
           }
          ],
          "scatterpolar": [
           {
            "marker": {
             "colorbar": {
              "outlinewidth": 0,
              "ticks": ""
             }
            },
            "type": "scatterpolar"
           }
          ],
          "scatterpolargl": [
           {
            "marker": {
             "colorbar": {
              "outlinewidth": 0,
              "ticks": ""
             }
            },
            "type": "scatterpolargl"
           }
          ],
          "scatterternary": [
           {
            "marker": {
             "colorbar": {
              "outlinewidth": 0,
              "ticks": ""
             }
            },
            "type": "scatterternary"
           }
          ],
          "surface": [
           {
            "colorbar": {
             "outlinewidth": 0,
             "ticks": ""
            },
            "colorscale": [
             [
              0,
              "#0d0887"
             ],
             [
              0.1111111111111111,
              "#46039f"
             ],
             [
              0.2222222222222222,
              "#7201a8"
             ],
             [
              0.3333333333333333,
              "#9c179e"
             ],
             [
              0.4444444444444444,
              "#bd3786"
             ],
             [
              0.5555555555555556,
              "#d8576b"
             ],
             [
              0.6666666666666666,
              "#ed7953"
             ],
             [
              0.7777777777777778,
              "#fb9f3a"
             ],
             [
              0.8888888888888888,
              "#fdca26"
             ],
             [
              1,
              "#f0f921"
             ]
            ],
            "type": "surface"
           }
          ],
          "table": [
           {
            "cells": {
             "fill": {
              "color": "#EBF0F8"
             },
             "line": {
              "color": "white"
             }
            },
            "header": {
             "fill": {
              "color": "#C8D4E3"
             },
             "line": {
              "color": "white"
             }
            },
            "type": "table"
           }
          ]
         },
         "layout": {
          "annotationdefaults": {
           "arrowcolor": "#2a3f5f",
           "arrowhead": 0,
           "arrowwidth": 1
          },
          "autotypenumbers": "strict",
          "coloraxis": {
           "colorbar": {
            "outlinewidth": 0,
            "ticks": ""
           }
          },
          "colorscale": {
           "diverging": [
            [
             0,
             "#8e0152"
            ],
            [
             0.1,
             "#c51b7d"
            ],
            [
             0.2,
             "#de77ae"
            ],
            [
             0.3,
             "#f1b6da"
            ],
            [
             0.4,
             "#fde0ef"
            ],
            [
             0.5,
             "#f7f7f7"
            ],
            [
             0.6,
             "#e6f5d0"
            ],
            [
             0.7,
             "#b8e186"
            ],
            [
             0.8,
             "#7fbc41"
            ],
            [
             0.9,
             "#4d9221"
            ],
            [
             1,
             "#276419"
            ]
           ],
           "sequential": [
            [
             0,
             "#0d0887"
            ],
            [
             0.1111111111111111,
             "#46039f"
            ],
            [
             0.2222222222222222,
             "#7201a8"
            ],
            [
             0.3333333333333333,
             "#9c179e"
            ],
            [
             0.4444444444444444,
             "#bd3786"
            ],
            [
             0.5555555555555556,
             "#d8576b"
            ],
            [
             0.6666666666666666,
             "#ed7953"
            ],
            [
             0.7777777777777778,
             "#fb9f3a"
            ],
            [
             0.8888888888888888,
             "#fdca26"
            ],
            [
             1,
             "#f0f921"
            ]
           ],
           "sequentialminus": [
            [
             0,
             "#0d0887"
            ],
            [
             0.1111111111111111,
             "#46039f"
            ],
            [
             0.2222222222222222,
             "#7201a8"
            ],
            [
             0.3333333333333333,
             "#9c179e"
            ],
            [
             0.4444444444444444,
             "#bd3786"
            ],
            [
             0.5555555555555556,
             "#d8576b"
            ],
            [
             0.6666666666666666,
             "#ed7953"
            ],
            [
             0.7777777777777778,
             "#fb9f3a"
            ],
            [
             0.8888888888888888,
             "#fdca26"
            ],
            [
             1,
             "#f0f921"
            ]
           ]
          },
          "colorway": [
           "#636efa",
           "#EF553B",
           "#00cc96",
           "#ab63fa",
           "#FFA15A",
           "#19d3f3",
           "#FF6692",
           "#B6E880",
           "#FF97FF",
           "#FECB52"
          ],
          "font": {
           "color": "#2a3f5f"
          },
          "geo": {
           "bgcolor": "white",
           "lakecolor": "white",
           "landcolor": "#E5ECF6",
           "showlakes": true,
           "showland": true,
           "subunitcolor": "white"
          },
          "hoverlabel": {
           "align": "left"
          },
          "hovermode": "closest",
          "mapbox": {
           "style": "light"
          },
          "paper_bgcolor": "white",
          "plot_bgcolor": "#E5ECF6",
          "polar": {
           "angularaxis": {
            "gridcolor": "white",
            "linecolor": "white",
            "ticks": ""
           },
           "bgcolor": "#E5ECF6",
           "radialaxis": {
            "gridcolor": "white",
            "linecolor": "white",
            "ticks": ""
           }
          },
          "scene": {
           "xaxis": {
            "backgroundcolor": "#E5ECF6",
            "gridcolor": "white",
            "gridwidth": 2,
            "linecolor": "white",
            "showbackground": true,
            "ticks": "",
            "zerolinecolor": "white"
           },
           "yaxis": {
            "backgroundcolor": "#E5ECF6",
            "gridcolor": "white",
            "gridwidth": 2,
            "linecolor": "white",
            "showbackground": true,
            "ticks": "",
            "zerolinecolor": "white"
           },
           "zaxis": {
            "backgroundcolor": "#E5ECF6",
            "gridcolor": "white",
            "gridwidth": 2,
            "linecolor": "white",
            "showbackground": true,
            "ticks": "",
            "zerolinecolor": "white"
           }
          },
          "shapedefaults": {
           "line": {
            "color": "#2a3f5f"
           }
          },
          "ternary": {
           "aaxis": {
            "gridcolor": "white",
            "linecolor": "white",
            "ticks": ""
           },
           "baxis": {
            "gridcolor": "white",
            "linecolor": "white",
            "ticks": ""
           },
           "bgcolor": "#E5ECF6",
           "caxis": {
            "gridcolor": "white",
            "linecolor": "white",
            "ticks": ""
           }
          },
          "title": {
           "x": 0.05
          },
          "xaxis": {
           "automargin": true,
           "gridcolor": "white",
           "linecolor": "white",
           "ticks": "",
           "title": {
            "standoff": 15
           },
           "zerolinecolor": "white",
           "zerolinewidth": 2
          },
          "yaxis": {
           "automargin": true,
           "gridcolor": "white",
           "linecolor": "white",
           "ticks": "",
           "title": {
            "standoff": 15
           },
           "zerolinecolor": "white",
           "zerolinewidth": 2
          }
         }
        },
        "xaxis": {
         "anchor": "y",
         "domain": [
          0,
          1
         ],
         "linecolor": "lightgrey",
         "showgrid": false,
         "showline": true,
         "tickcolor": "lightgrey",
         "ticks": "outside",
         "title": {
          "text": ""
         },
         "zeroline": false
        },
        "yaxis": {
         "anchor": "x",
         "domain": [
          0,
          1
         ],
         "gridcolor": "lightgrey",
         "linecolor": "lightgrey",
         "showgrid": true,
         "showline": true,
         "tickcolor": "lightgrey",
         "tickformat": ",.0f",
         "ticks": "outside",
         "title": {
          "text": ""
         },
         "zeroline": false
        }
       }
      }
     },
     "metadata": {},
     "output_type": "display_data"
    }
   ],
   "source": [
    "minimalistic_lineplot_all_metrics(tradebalance[tradebalance.Date > '2024-01-01'], value_col='Trade Balance', metrics_col='None', date_col='Date')"
   ]
  },
  {
   "cell_type": "code",
   "execution_count": null,
   "id": "e8ff37f3",
   "metadata": {},
   "outputs": [],
   "source": []
  }
 ],
 "metadata": {
  "kernelspec": {
   "display_name": "base",
   "language": "python",
   "name": "python3"
  },
  "language_info": {
   "codemirror_mode": {
    "name": "ipython",
    "version": 3
   },
   "file_extension": ".py",
   "mimetype": "text/x-python",
   "name": "python",
   "nbconvert_exporter": "python",
   "pygments_lexer": "ipython3",
   "version": "3.12.4"
  }
 },
 "nbformat": 4,
 "nbformat_minor": 5
}
