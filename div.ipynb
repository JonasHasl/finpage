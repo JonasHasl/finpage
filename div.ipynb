{
 "cells": [
  {
   "cell_type": "code",
   "execution_count": 16,
   "metadata": {},
   "outputs": [
    {
     "name": "stdout",
     "output_type": "stream",
     "text": [
      "Go to: https://www.dropbox.com/oauth2/authorize?response_type=code&client_id=55yk24u9ydtvsdr\n",
      "Click 'Allow' and copy the authorization code.\n"
     ]
    }
   ],
   "source": [
    "import dropbox\n",
    "from dropbox import DropboxOAuth2FlowNoRedirect\n",
    "from datetime import datetime, timedelta\n",
    "import pandas as pd\n",
    "from datetime import datetime\n",
    "# Create a dummy expiration time (e.g., 4 hours from now)\n",
    "expiration = datetime.now() + timedelta(hours=4)\n",
    "\n",
    "APP_KEY = \"55yk24u9ydtvsdr\"\n",
    "APP_SECRET = \"cy6f9fenucdpof3\"\n",
    "\n",
    "access_token = 'sl.u.AFjjQNO3MVo7z6zjW1yPvaECsPeQxJSSK-pSyNB_lzRRvhdAf_Yta04g4UhsGWFZ5yidFS81E_c472AdQU_KM4daRjA-eWqHjfBsG32cqClBFVYShrFURRkxooHaMTeA46TkX3147_SeIdYcfJHbfnPVwlk9MY4phWGjJc8zTLt3a0qNlyz-h_kAWYhQUJw2ik3QegCmhAUNW5qn9cTi8ba9HwF-R0aDv_GEcPoajRSvp9C-N59zrCiFuAKbPrvOXKItJGJ_YTY006Lpxo__oNE2kzTMOyIh9qnzDcIioxT0bJnGo7tA4-3to-tmeeILZyh1xMT-75mCDnNN54Ys9B6Bawmfyi5wp2DGvQlGZ5jgD5mux3fGdwezx75spblhHFf-ha5ZGKmzZWlIbGWx7zYwfxN9CDemMEZ1Y5-dQuWiyjTasM5cAr1C_uH9meriN7poaBMJr1wxQIs4Nuw1KTs4nq5Xp7mV2EY0yy6Rkk-ugiyYzcnswBTahsngnvDyJ0D6s_4fmfJRW8Zji3wotpYFzmuWrf2-fG-C8xXGqWXae9qBatS9FmyQNpuOAVP5Jjhp_6GvZz8np6lb-mMbnL_S1ieTKmb_aPFl01vlwfGw44OxY6ys741_MVCf2sl6q3q2HDuIb2P5NEAkDhpBNcMmoOJtRXqBudrhF7Oj9jEb1dZ47ZooFe2Rk21mk00j6MyHW7Ro4wblwSib3P-ZULQn6MwIPP4CTmyZxTfVHosgY9F2t9hmHlW9umQuw7LeC8riA_fw5Hk-PSqUhDio0KMRc-IujybUVXkcwaLXvAqYpBIq1H8T-YlJXNcnLF1rRne9kk8EZaStyY28Vsns8p5sNzHZAQ4mfD9U-hhIS05nlli7p2Go2uJx_QXIRUxCyeCzCHHMlsEHBh548N3evwVkXNDYImMx61lG-h8vjNqKK7VPKSkdSjV2FHzS4VWoGixIMGLgrY-d4PrQTGeiA5lwOsL4i7S4aokNxx8VN-9Ym8FHmkvu3fPvX2FQmLPBe9Pt1-mi66D3Q6j34YKz45NO3cg36gfyFlmKfkkkn8868HaBYyhh7tYVQJ2-iK7wAM7HoBugTLVPo1FPie6tXnn0m8W-B6PhrBps2ebSJHBHru7-HFrd2INlN0Rn7K1bqHvvthlTQoxGV2LbJb3Fk2ks9VnlJzUv7ZYAioRgQPvNfXvUU2xbJXwRfbmGVUXeeYtmCQToEUB7wi4A4OWAWjMhi6rO_w83gk6hGmIeymQ06nLl8SL-RJVSP78yLp5v_jWAvTX2KUJKyBYRXFSTeJ88EvRLw10UR-pF00Vpzo6fLA'\n",
    "auth_flow = DropboxOAuth2FlowNoRedirect(APP_KEY, APP_SECRET)\n",
    "authorize_url = auth_flow.start()\n",
    "print(f\"Go to: {authorize_url}\")\n",
    "print(\"Click 'Allow' and copy the authorization code.\")\n",
    "auth_code = input(\"Enter the authorization code: \").strip()\n",
    "\n",
    "try:\n",
    "    oauth_result = auth_flow.finish(auth_code)\n",
    "    access_token = oauth_result.access_token\n",
    "    refresh_token = oauth_result.refresh_token\n",
    "    expiration = oauth_result.expires_at\n",
    "except Exception as e:\n",
    "    print(f\"Error: {e}\")\n",
    "    exit(1)\n",
    "\n",
    "\n",
    "dbx = dropbox.Dropbox(oauth2_access_token=access_token)\n",
    "def refresh_access_token(refresh_token):\n",
    "    try:\n",
    "        dbx = dropbox.Dropbox(\n",
    "            oauth2_refresh_token=refresh_token,\n",
    "            app_key=APP_KEY,\n",
    "            app_secret=APP_SECRET\n",
    "        )\n",
    "        return dbx.oauth2_refresh_access_token()\n",
    "    except Exception as e:\n",
    "        print(f\"Error refreshing token: {e}\")\n",
    "        return None\n",
    "\n",
    "\n",
    "def check_and_refresh_token():\n",
    "    global access_token, expiration\n",
    "    if pd.to_datetime(datetime.now()) >= expiration:\n",
    "        new_token = refresh_access_token(refresh_token)\n",
    "        if new_token:\n",
    "            access_token = new_token.access_token\n",
    "            expiration = new_token.expires_at\n",
    "            dbx._oauth2_access_token = access_token\n",
    "        else:\n",
    "            print(\"Failed to refresh token\")\n",
    "\n",
    "\n",
    "# Before making API calls, check and refresh the token if necessary\n",
    "check_and_refresh_token()\n",
    "# Now you can use the dbx object to make API calls\n"
   ]
  },
  {
   "cell_type": "code",
   "execution_count": 32,
   "metadata": {},
   "outputs": [
    {
     "name": "stdout",
     "output_type": "stream",
     "text": [
      "Go to: https://www.dropbox.com/oauth2/authorize?response_type=code&client_id=55yk24u9ydtvsdr\n",
      "Click 'Allow' and copy the authorization code.\n"
     ]
    }
   ],
   "source": [
    "import dropbox\n",
    "from dropbox import DropboxOAuth2FlowNoRedirect\n",
    "from datetime import datetime, timedelta\n",
    "import os\n",
    "\n",
    "APP_KEY = \"55yk24u9ydtvsdr\"\n",
    "APP_SECRET = \"cy6f9fenucdpof3\"\n",
    "REFRESH_TOKEN_FILE = r\"C:\\Users\\jonas\\Downloads\\finpage-1\\src\\refresh_token.txt\"\n",
    "\n",
    "def get_refresh_token():\n",
    "    if os.path.exists(REFRESH_TOKEN_FILE):\n",
    "        with open(REFRESH_TOKEN_FILE, \"r\") as f:\n",
    "            return f.read().strip()\n",
    "    return None\n",
    "\n",
    "def save_refresh_token(refresh_token):\n",
    "    with open(REFRESH_TOKEN_FILE, \"w\") as f:\n",
    "        f.write(refresh_token)\n",
    "\n",
    "def initial_auth():\n",
    "    auth_flow = DropboxOAuth2FlowNoRedirect(APP_KEY, APP_SECRET)\n",
    "    authorize_url = auth_flow.start()\n",
    "    print(f\"Go to: {authorize_url}\")\n",
    "    print(\"Click 'Allow' and copy the authorization code.\")\n",
    "    auth_code = input(\"Enter the authorization code: \").strip()\n",
    "\n",
    "    try:\n",
    "        oauth_result = auth_flow.finish(auth_code)\n",
    "        save_refresh_token(oauth_result.refresh_token)\n",
    "        return oauth_result.access_token, oauth_result.refresh_token, oauth_result.expires_at\n",
    "    except Exception as e:\n",
    "        print(f\"Error: {e}\")\n",
    "        exit(1)\n",
    "\n",
    "def refresh_access_token(refresh_token, APP_KEY, APP_SECRET):\n",
    "    try:\n",
    "        dbx = dropbox.Dropbox(\n",
    "            oauth2_refresh_token=refresh_token,\n",
    "            app_key=APP_KEY,\n",
    "            app_secret=APP_SECRET\n",
    "        )\n",
    "        return dbx.oauth2_refresh_access_token()\n",
    "    except Exception as e:\n",
    "        print(f\"Error refreshing token: {e}\")\n",
    "        return None\n",
    "\n",
    "def get_dropbox_object():\n",
    "    refresh_token = get_refresh_token()\n",
    "    if not refresh_token:\n",
    "        access_token, refresh_token, expiration = initial_auth()\n",
    "    else:\n",
    "        token_result = refresh_access_token(refresh_token)\n",
    "        if token_result:\n",
    "            access_token = token_result.access_token\n",
    "            expiration = token_result.expires_at\n",
    "        else:\n",
    "            print(\"Failed to refresh token. Re-authenticating...\")\n",
    "            access_token, refresh_token, expiration = initial_auth()\n",
    "\n",
    "    return dropbox.Dropbox(oauth2_access_token=access_token)\n",
    "\n",
    "# Main script\n",
    "dbx = get_dropbox_object()\n",
    "# Now you can use the dbx object to make API calls\n"
   ]
  },
  {
   "cell_type": "code",
   "execution_count": 34,
   "metadata": {},
   "outputs": [],
   "source": [
    "refresh_token = get_refresh_token()"
   ]
  },
  {
   "cell_type": "code",
   "execution_count": 36,
   "metadata": {},
   "outputs": [],
   "source": [
    "APP_KEY = \"55yk24u9ydtvsdr\"\n",
    "APP_SECRET = \"cy6f9fenucdpof3\"\n",
    "REFRESH_TOKEN_FILE = \"refresh_token.txt\"\n",
    "dbx = dropbox.Dropbox(\n",
    "    oauth2_refresh_token=refresh_token,\n",
    "    app_key=APP_KEY,\n",
    "    app_secret=APP_SECRET\n",
    ")\n",
    "new_access_token = dbx.check_and_refresh_access_token()\n"
   ]
  },
  {
   "cell_type": "code",
   "execution_count": 37,
   "metadata": {},
   "outputs": [
    {
     "data": {
      "text/plain": [
       "''"
      ]
     },
     "execution_count": 37,
     "metadata": {},
     "output_type": "execute_result"
    }
   ],
   "source": [
    "refresh_token"
   ]
  },
  {
   "cell_type": "code",
   "execution_count": 38,
   "metadata": {},
   "outputs": [],
   "source": [
    "new_access_token"
   ]
  },
  {
   "cell_type": "code",
   "execution_count": 40,
   "metadata": {},
   "outputs": [
    {
     "ename": "ParserError",
     "evalue": "Error tokenizing data. C error: Expected 1 fields in line 3, saw 2703\n",
     "output_type": "error",
     "traceback": [
      "\u001b[1;31m---------------------------------------------------------------------------\u001b[0m",
      "\u001b[1;31mParserError\u001b[0m                               Traceback (most recent call last)",
      "Cell \u001b[1;32mIn[40], line 2\u001b[0m\n\u001b[0;32m      1\u001b[0m \u001b[38;5;28;01mimport\u001b[39;00m \u001b[38;5;21;01mpandas\u001b[39;00m \u001b[38;5;28;01mas\u001b[39;00m \u001b[38;5;21;01mpd\u001b[39;00m\n\u001b[1;32m----> 2\u001b[0m pd\u001b[38;5;241m.\u001b[39mread_csv(\u001b[38;5;124m'\u001b[39m\u001b[38;5;124mhttps://drive.google.com/file/d/1wuHaOwqhwGgCV6YpwMhVo0UMajzxfNcW/view?usp=sharing\u001b[39m\u001b[38;5;124m'\u001b[39m)\n",
      "File \u001b[1;32mc:\\Users\\jonas\\anaconda3\\Lib\\site-packages\\pandas\\io\\parsers\\readers.py:1026\u001b[0m, in \u001b[0;36mread_csv\u001b[1;34m(filepath_or_buffer, sep, delimiter, header, names, index_col, usecols, dtype, engine, converters, true_values, false_values, skipinitialspace, skiprows, skipfooter, nrows, na_values, keep_default_na, na_filter, verbose, skip_blank_lines, parse_dates, infer_datetime_format, keep_date_col, date_parser, date_format, dayfirst, cache_dates, iterator, chunksize, compression, thousands, decimal, lineterminator, quotechar, quoting, doublequote, escapechar, comment, encoding, encoding_errors, dialect, on_bad_lines, delim_whitespace, low_memory, memory_map, float_precision, storage_options, dtype_backend)\u001b[0m\n\u001b[0;32m   1013\u001b[0m kwds_defaults \u001b[38;5;241m=\u001b[39m _refine_defaults_read(\n\u001b[0;32m   1014\u001b[0m     dialect,\n\u001b[0;32m   1015\u001b[0m     delimiter,\n\u001b[1;32m   (...)\u001b[0m\n\u001b[0;32m   1022\u001b[0m     dtype_backend\u001b[38;5;241m=\u001b[39mdtype_backend,\n\u001b[0;32m   1023\u001b[0m )\n\u001b[0;32m   1024\u001b[0m kwds\u001b[38;5;241m.\u001b[39mupdate(kwds_defaults)\n\u001b[1;32m-> 1026\u001b[0m \u001b[38;5;28;01mreturn\u001b[39;00m _read(filepath_or_buffer, kwds)\n",
      "File \u001b[1;32mc:\\Users\\jonas\\anaconda3\\Lib\\site-packages\\pandas\\io\\parsers\\readers.py:626\u001b[0m, in \u001b[0;36m_read\u001b[1;34m(filepath_or_buffer, kwds)\u001b[0m\n\u001b[0;32m    623\u001b[0m     \u001b[38;5;28;01mreturn\u001b[39;00m parser\n\u001b[0;32m    625\u001b[0m \u001b[38;5;28;01mwith\u001b[39;00m parser:\n\u001b[1;32m--> 626\u001b[0m     \u001b[38;5;28;01mreturn\u001b[39;00m parser\u001b[38;5;241m.\u001b[39mread(nrows)\n",
      "File \u001b[1;32mc:\\Users\\jonas\\anaconda3\\Lib\\site-packages\\pandas\\io\\parsers\\readers.py:1923\u001b[0m, in \u001b[0;36mTextFileReader.read\u001b[1;34m(self, nrows)\u001b[0m\n\u001b[0;32m   1916\u001b[0m nrows \u001b[38;5;241m=\u001b[39m validate_integer(\u001b[38;5;124m\"\u001b[39m\u001b[38;5;124mnrows\u001b[39m\u001b[38;5;124m\"\u001b[39m, nrows)\n\u001b[0;32m   1917\u001b[0m \u001b[38;5;28;01mtry\u001b[39;00m:\n\u001b[0;32m   1918\u001b[0m     \u001b[38;5;66;03m# error: \"ParserBase\" has no attribute \"read\"\u001b[39;00m\n\u001b[0;32m   1919\u001b[0m     (\n\u001b[0;32m   1920\u001b[0m         index,\n\u001b[0;32m   1921\u001b[0m         columns,\n\u001b[0;32m   1922\u001b[0m         col_dict,\n\u001b[1;32m-> 1923\u001b[0m     ) \u001b[38;5;241m=\u001b[39m \u001b[38;5;28mself\u001b[39m\u001b[38;5;241m.\u001b[39m_engine\u001b[38;5;241m.\u001b[39mread(  \u001b[38;5;66;03m# type: ignore[attr-defined]\u001b[39;00m\n\u001b[0;32m   1924\u001b[0m         nrows\n\u001b[0;32m   1925\u001b[0m     )\n\u001b[0;32m   1926\u001b[0m \u001b[38;5;28;01mexcept\u001b[39;00m \u001b[38;5;167;01mException\u001b[39;00m:\n\u001b[0;32m   1927\u001b[0m     \u001b[38;5;28mself\u001b[39m\u001b[38;5;241m.\u001b[39mclose()\n",
      "File \u001b[1;32mc:\\Users\\jonas\\anaconda3\\Lib\\site-packages\\pandas\\io\\parsers\\c_parser_wrapper.py:234\u001b[0m, in \u001b[0;36mCParserWrapper.read\u001b[1;34m(self, nrows)\u001b[0m\n\u001b[0;32m    232\u001b[0m \u001b[38;5;28;01mtry\u001b[39;00m:\n\u001b[0;32m    233\u001b[0m     \u001b[38;5;28;01mif\u001b[39;00m \u001b[38;5;28mself\u001b[39m\u001b[38;5;241m.\u001b[39mlow_memory:\n\u001b[1;32m--> 234\u001b[0m         chunks \u001b[38;5;241m=\u001b[39m \u001b[38;5;28mself\u001b[39m\u001b[38;5;241m.\u001b[39m_reader\u001b[38;5;241m.\u001b[39mread_low_memory(nrows)\n\u001b[0;32m    235\u001b[0m         \u001b[38;5;66;03m# destructive to chunks\u001b[39;00m\n\u001b[0;32m    236\u001b[0m         data \u001b[38;5;241m=\u001b[39m _concatenate_chunks(chunks)\n",
      "File \u001b[1;32mparsers.pyx:838\u001b[0m, in \u001b[0;36mpandas._libs.parsers.TextReader.read_low_memory\u001b[1;34m()\u001b[0m\n",
      "File \u001b[1;32mparsers.pyx:905\u001b[0m, in \u001b[0;36mpandas._libs.parsers.TextReader._read_rows\u001b[1;34m()\u001b[0m\n",
      "File \u001b[1;32mparsers.pyx:874\u001b[0m, in \u001b[0;36mpandas._libs.parsers.TextReader._tokenize_rows\u001b[1;34m()\u001b[0m\n",
      "File \u001b[1;32mparsers.pyx:891\u001b[0m, in \u001b[0;36mpandas._libs.parsers.TextReader._check_tokenize_status\u001b[1;34m()\u001b[0m\n",
      "File \u001b[1;32mparsers.pyx:2061\u001b[0m, in \u001b[0;36mpandas._libs.parsers.raise_parser_error\u001b[1;34m()\u001b[0m\n",
      "\u001b[1;31mParserError\u001b[0m: Error tokenizing data. C error: Expected 1 fields in line 3, saw 2703\n"
     ]
    }
   ],
   "source": [
    "import pandas as pd\n",
    "pd.read_csv('https://drive.google.com/file/d/1wuHaOwqhwGgCV6YpwMhVo0UMajzxfNcW/view?usp=sharing')"
   ]
  },
  {
   "cell_type": "code",
   "execution_count": 41,
   "metadata": {},
   "outputs": [],
   "source": [
    "import pandas as pd\n",
    "\n",
    "file_id = '1wuHaOwqhwGgCV6YpwMhVo0UMajzxfNcW'\n",
    "download_url = f'https://drive.google.com/uc?export=download&id={file_id}'\n",
    "df = pd.read_csv(download_url)\n",
    "df\n",
    "\n"
   ]
  },
  {
   "cell_type": "code",
   "execution_count": null,
   "metadata": {},
   "outputs": [],
   "source": []
  },
  {
   "cell_type": "code",
   "execution_count": null,
   "metadata": {},
   "outputs": [],
   "source": []
  }
 ],
 "metadata": {
  "kernelspec": {
   "display_name": "base",
   "language": "python",
   "name": "python3"
  },
  "language_info": {
   "codemirror_mode": {
    "name": "ipython",
    "version": 3
   },
   "file_extension": ".py",
   "mimetype": "text/x-python",
   "name": "python",
   "nbconvert_exporter": "python",
   "pygments_lexer": "ipython3",
   "version": "3.12.4"
  }
 },
 "nbformat": 4,
 "nbformat_minor": 2
}
